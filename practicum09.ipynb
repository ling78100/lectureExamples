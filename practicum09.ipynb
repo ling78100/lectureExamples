{
 "cells": [
  {
   "cell_type": "code",
   "execution_count": 7,
   "metadata": {},
   "outputs": [
    {
     "data": {
      "text/plain": [
       "5"
      ]
     },
     "execution_count": 7,
     "metadata": {},
     "output_type": "execute_result"
    }
   ],
   "source": [
    "#roll a pair of 6-sided dice\n",
    "#if initial roll is 2, 3, or 12, player loses\n",
    "#if roll = 7 or 11, player wins\n",
    "#any other initial roll causes the player to \"roll for point\" \n",
    "#>>> keeps rolling the dice until either rolling 7 or\n",
    "#re-rolling the value of the inital roll. \n",
    "#if thr player re-rolls the intial value before rolling a 7, it's a win\n",
    "#rolling a 7 first is a loss\n",
    "from random import randint\n",
    "randint(1,6)"
   ]
  },
  {
   "cell_type": "code",
   "execution_count": 86,
   "metadata": {},
   "outputs": [
    {
     "name": "stdout",
     "output_type": "stream",
     "text": [
      "number of wins 246913\n",
      "probability 49.3826 %\n"
     ]
    }
   ],
   "source": [
    "def roll():\n",
    "    dice1=randint(1,6)\n",
    "    dice2=randint(1,6)\n",
    "    total_dice=dice1+dice2\n",
    "    return total_dice\n",
    "\n",
    "def simulation():\n",
    "    winning=False\n",
    "    initial_roll=roll()\n",
    "    #print(\"roll\", initial_roll)\n",
    "    if initial_roll in (2,3,12):\n",
    "        #print(\"you lose\")\n",
    "        winning=False\n",
    "    elif initial_roll in (7,11):\n",
    "        #print(\"you win\")\n",
    "        winning=True\n",
    "    else:\n",
    "        new_roll=roll()\n",
    "        while True:\n",
    "            #print(\"current roll\", new_roll)\n",
    "            if new_roll==initial_roll:\n",
    "                #print(\"You win\")\n",
    "                winning=True\n",
    "                break\n",
    "            elif new_roll==7:\n",
    "                #print(\"You lose\")\n",
    "                winning=False\n",
    "                break\n",
    "            else:\n",
    "                new_roll=roll()\n",
    "    return winning\n",
    "    \n",
    "\n",
    "\n",
    "num_simulations=500000\n",
    "wins=0\n",
    "for i in range(num_simulations):\n",
    "    outcome=simulation()\n",
    "    if outcome==True: wins+=1\n",
    "\n",
    "print(\"number of wins\", wins)\n",
    "prob=100*float(wins)/num_simulations\n",
    "print(\"probability\", prob,\"%\")\n",
    "    "
   ]
  },
  {
   "cell_type": "code",
   "execution_count": 110,
   "metadata": {
    "scrolled": true
   },
   "outputs": [
    {
     "name": "stdout",
     "output_type": "stream",
     "text": [
      "Word\tLemma\tPOS\tStart\tEnd\n",
      "['Word', 'Lemma', 'POS', 'Start', 'End']\n",
      "---\n",
      "I\tI\tPRO\t1\t10\n",
      "['I', 'I', 'PRO', '1', '10']\n",
      "---\n",
      "saw\tsee\tVERB\t12\t28\n",
      "['saw', 'see', 'VERB', '12', '28']\n",
      "---\n",
      "a\ta\tDET\t29\t32\n",
      "['a', 'a', 'DET', '29', '32']\n",
      "---\n",
      "man\tman\tNOUN\t34\t39\n",
      "['man', 'man', 'NOUN', '34', '39']\n",
      "---\n",
      "with\twith\tPREP\t41\t43\n",
      "['with', 'with', 'PREP', '41', '43']\n",
      "---\n",
      "a\ta\tDET\t44\t45\n",
      "['a', 'a', 'DET', '44', '45']\n",
      "---\n",
      "telescope\ttelescope\tNOUN\t47\t54\n",
      "['telescope', 'telescope', 'NOUN', '47', '54']\n",
      "---\n",
      ".\t.\tPUNC\t55\t62\n",
      "['.', '.', 'PUNC', '55', '62']\n",
      "---\n",
      "time\ttime\tNOUN\t63\t67\n",
      "['time', 'time', 'NOUN', '63', '67']\n",
      "---\n",
      "flies\tfly\tVERB\t69\t76\n",
      "['flies', 'fly', 'VERB', '69', '76']\n",
      "---\n",
      "like\tlike\tPREP\t77\t79\n",
      "['like', 'like', 'PREP', '77', '79']\n",
      "---\n",
      "an\tan\tDET\t80\t81\n",
      "['an', 'an', 'DET', '80', '81']\n",
      "---\n",
      "arrow\tarrow\tNOUN\t83\t90\n",
      "['arrow', 'arrow', 'NOUN', '83', '90']\n",
      "---\n",
      ".\t.\tPUNC\t91\t95\n",
      "['.', '.', 'PUNC', '91', '95']\n",
      "---\n"
     ]
    }
   ],
   "source": [
    "fopen=open(\"test.tsv\")\n",
    "content=fopen.read()\n",
    "fopen.close()\n",
    "#print([content])\n",
    "counter=0\n",
    "all_rows=content.split(\"\\n\")\n",
    "for row in all_rows:\n",
    "    \n",
    "    print(row)\n",
    "    cells=row.split(\"\\t\")\n",
    "    print(cells)\n",
    "    #first_item=cells[0]\n",
    "    #third_item=cells[2]\n",
    "    #print(first_item,third_item)\n",
    "    if third_cell==\"PREP\":\n",
    "        counter+=1\n",
    "\n",
    "    #print([r])\n",
    "    print(\"---\")\n",
    "\n"
   ]
  },
  {
   "cell_type": "code",
   "execution_count": 122,
   "metadata": {},
   "outputs": [
    {
     "name": "stdout",
     "output_type": "stream",
     "text": [
      "year 1\n",
      "interest amount 10.0\n",
      "current amount 110.0\n",
      "1.1\n",
      "---\n",
      "year 2\n",
      "interest amount 11.0\n",
      "current amount 121.0\n",
      "1.21\n",
      "---\n",
      "year 3\n",
      "interest amount 12.100000000000001\n",
      "current amount 133.1\n",
      "1.331\n",
      "---\n",
      "year 4\n",
      "interest amount 13.31\n",
      "current amount 146.41\n",
      "1.4641\n",
      "---\n",
      "year 5\n",
      "interest amount 14.641\n",
      "current amount 161.051\n",
      "1.6105099999999999\n",
      "---\n",
      "year 6\n",
      "interest amount 16.1051\n",
      "current amount 177.15609999999998\n",
      "1.7715609999999997\n",
      "---\n",
      "year 7\n",
      "interest amount 17.715609999999998\n",
      "current amount 194.87170999999998\n",
      "1.9487170999999999\n",
      "---\n",
      "year 8\n",
      "interest amount 19.487171\n",
      "current amount 214.35888099999997\n",
      "2.14358881\n",
      "---\n"
     ]
    }
   ],
   "source": [
    "inital_amount=100\n",
    "amount=float(inital_amount)\n",
    "ratio=float(amount)/inital_amount\n",
    "interest_rate=0.1 #10%\n",
    "counter=1\n",
    "while ratio<2:\n",
    "    print(\"year\", counter)\n",
    "    interest_amount=amount*interest_rate\n",
    "    amount=amount+interest_amount\n",
    "    print(\"interest amount\", interest_amount)\n",
    "    print(\"current amount\", amount)\n",
    "    #print(\"initial amount\", inital_amount)\n",
    "    ratio=float(amount)/inital_amount\n",
    "    print(ratio)\n",
    "    print(\"---\")\n",
    "    counter+=1\n",
    "    \n",
    "    "
   ]
  },
  {
   "cell_type": "code",
   "execution_count": null,
   "metadata": {
    "collapsed": true
   },
   "outputs": [],
   "source": []
  }
 ],
 "metadata": {
  "kernelspec": {
   "display_name": "Python 3",
   "language": "python",
   "name": "python3"
  },
  "language_info": {
   "codemirror_mode": {
    "name": "ipython",
    "version": 3
   },
   "file_extension": ".py",
   "mimetype": "text/x-python",
   "name": "python",
   "nbconvert_exporter": "python",
   "pygments_lexer": "ipython3",
   "version": "3.6.1"
  }
 },
 "nbformat": 4,
 "nbformat_minor": 2
}
