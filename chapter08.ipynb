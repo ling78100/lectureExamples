{
 "cells": [
  {
   "cell_type": "markdown",
   "metadata": {},
   "source": [
    "# Chapter 8: Loop structures and booleans"
   ]
  },
  {
   "cell_type": "markdown",
   "metadata": {},
   "source": [
    "## 8.1: For loops: a quick review"
   ]
  },
  {
   "cell_type": "code",
   "execution_count": 1,
   "metadata": {
    "collapsed": true
   },
   "outputs": [],
   "source": [
    "#    A program to average a set of numbers\n",
    "#    Illustrates counted loop with accumulator\n",
    "\n",
    "def average1():\n",
    "    n = int(input(\"How many numbers do you have? \"))\n",
    "    sum = 0.0\n",
    "    for i in range(n):\n",
    "        x = float(input(\"Enter a number >> \"))\n",
    "        sum = sum + x\n",
    "    print(\"\\nThe average of the numbers is\", sum / n)"
   ]
  },
  {
   "cell_type": "code",
   "execution_count": 2,
   "metadata": {},
   "outputs": [
    {
     "name": "stdout",
     "output_type": "stream",
     "text": [
      "How many numbers do you have? 5\n",
      "Enter a number >> 32\n",
      "Enter a number >> 45\n",
      "Enter a number >> 34\n",
      "Enter a number >> 76\n",
      "Enter a number >> 45\n",
      "\n",
      "The average of the numbers is 46.4\n"
     ]
    }
   ],
   "source": [
    "average1()"
   ]
  },
  {
   "cell_type": "markdown",
   "metadata": {},
   "source": [
    "## 8.2: Indefinite loops"
   ]
  },
  {
   "cell_type": "code",
   "execution_count": 3,
   "metadata": {},
   "outputs": [
    {
     "name": "stdout",
     "output_type": "stream",
     "text": [
      "0\n",
      "1\n",
      "2\n",
      "3\n",
      "4\n",
      "5\n",
      "6\n",
      "7\n",
      "8\n",
      "9\n",
      "10\n"
     ]
    }
   ],
   "source": [
    "i = 0\n",
    "while i <= 10:\n",
    "    print(i)\n",
    "    i = i + 1"
   ]
  },
  {
   "cell_type": "code",
   "execution_count": 4,
   "metadata": {},
   "outputs": [
    {
     "name": "stdout",
     "output_type": "stream",
     "text": [
      "0\n",
      "1\n",
      "2\n",
      "3\n",
      "4\n",
      "5\n",
      "6\n",
      "7\n",
      "8\n",
      "9\n",
      "10\n"
     ]
    }
   ],
   "source": [
    "for i in range(11):\n",
    "    print(i)"
   ]
  },
  {
   "cell_type": "code",
   "execution_count": 5,
   "metadata": {
    "collapsed": true
   },
   "outputs": [],
   "source": [
    "# # Infinite loop: Don't run this!\n",
    "# i = 0\n",
    "# while i <= 10:\n",
    "#     print(i)"
   ]
  },
  {
   "cell_type": "markdown",
   "metadata": {},
   "source": [
    "## 8.3: Common loop patterns"
   ]
  },
  {
   "cell_type": "markdown",
   "metadata": {},
   "source": [
    "### 8.3.1: Interactive loops"
   ]
  },
  {
   "cell_type": "code",
   "execution_count": 6,
   "metadata": {
    "collapsed": true
   },
   "outputs": [],
   "source": [
    "#    A program to average a set of numbers\n",
    "#    Illustrates interactive loop with two accumulators\n",
    "\n",
    "def average2():\n",
    "    sum = 0.0\n",
    "    count = 0\n",
    "    moredata = \"yes\"\n",
    "    while moredata[0] == \"y\":\n",
    "        x = float(input(\"Enter a number >> \"))\n",
    "        sum = sum + x\n",
    "        count = count + 1\n",
    "        moredata = input(\"Do you have more numbers (yes or no)? \")\n",
    "    print(\"\\nThe average of the numbers is\", sum / count)"
   ]
  },
  {
   "cell_type": "code",
   "execution_count": 7,
   "metadata": {},
   "outputs": [
    {
     "name": "stdout",
     "output_type": "stream",
     "text": [
      "Enter a number >> 32\n",
      "Do you have more numbers (yes or no)? yes\n",
      "Enter a number >> 45\n",
      "Do you have more numbers (yes or no)? y\n",
      "Enter a number >> 34\n",
      "Do you have more numbers (yes or no)? y\n",
      "Enter a number >> 76\n",
      "Do you have more numbers (yes or no)? y\n",
      "Enter a number >> 45\n",
      "Do you have more numbers (yes or no)? nope\n",
      "\n",
      "The average of the numbers is 46.4\n"
     ]
    }
   ],
   "source": [
    "average2()"
   ]
  },
  {
   "cell_type": "markdown",
   "metadata": {},
   "source": [
    "### 8.3.2: Sentinel loops"
   ]
  },
  {
   "cell_type": "code",
   "execution_count": 8,
   "metadata": {
    "collapsed": true
   },
   "outputs": [],
   "source": [
    "#    A program to average a set of numbers\n",
    "#    Illustrates sentinel loop using negative input as sentinel\n",
    "\n",
    "def average3():\n",
    "    sum = 0.0\n",
    "    count = 0\n",
    "    x = float(input(\"Enter a number (negative to quit) >> \"))\n",
    "    while x >= 0:\n",
    "        sum = sum + x\n",
    "        count = count + 1\n",
    "        x = float(input(\"Enter a number (negative to quit) >> \"))\n",
    "    print(\"\\nThe average of the numbers is\", sum / count)\n"
   ]
  },
  {
   "cell_type": "code",
   "execution_count": 10,
   "metadata": {},
   "outputs": [
    {
     "name": "stdout",
     "output_type": "stream",
     "text": [
      "Enter a number (negative to quit) >> 32\n",
      "Enter a number (negative to quit) >> 45\n",
      "Enter a number (negative to quit) >> 34\n",
      "Enter a number (negative to quit) >> 76\n",
      "Enter a number (negative to quit) >> 45\n",
      "Enter a number (negative to quit) >> -1\n",
      "\n",
      "The average of the numbers is 46.4\n"
     ]
    }
   ],
   "source": [
    "average3()"
   ]
  },
  {
   "cell_type": "code",
   "execution_count": 11,
   "metadata": {
    "collapsed": true
   },
   "outputs": [],
   "source": [
    "#    A program to average a set of numbers\n",
    "#    Illustrates sentinel loop using empty string as sentinel\n",
    "\n",
    "def average4():\n",
    "    sum = 0.0\n",
    "    count = 0\n",
    "    xStr = input(\"Enter a number (<Enter> to quit) >> \")\n",
    "    while xStr != \"\":\n",
    "        x = float(xStr)\n",
    "        sum = sum + x\n",
    "        count = count + 1\n",
    "        xStr = input(\"Enter a number (<Enter> to quit) >> \")\n",
    "    print(\"\\nThe average of the numbers is\", sum / count)\n"
   ]
  },
  {
   "cell_type": "code",
   "execution_count": 12,
   "metadata": {},
   "outputs": [
    {
     "name": "stdout",
     "output_type": "stream",
     "text": [
      "Enter a number (<Enter> to quit) >> 34\n",
      "Enter a number (<Enter> to quit) >> 23\n",
      "Enter a number (<Enter> to quit) >> 0\n",
      "Enter a number (<Enter> to quit) >> -25\n",
      "Enter a number (<Enter> to quit) >> -34.4\n",
      "Enter a number (<Enter> to quit) >> 22.7\n",
      "Enter a number (<Enter> to quit) >> \n",
      "\n",
      "The average of the numbers is 3.3833333333333333\n"
     ]
    }
   ],
   "source": [
    "average4()"
   ]
  },
  {
   "cell_type": "markdown",
   "metadata": {},
   "source": [
    "### 8.3.3: File loops"
   ]
  },
  {
   "cell_type": "code",
   "execution_count": 14,
   "metadata": {},
   "outputs": [
    {
     "name": "stdout",
     "output_type": "stream",
     "text": [
      "Writing chapter08_oneNumPerLine.txt\n"
     ]
    }
   ],
   "source": [
    "%%writefile chapter08_oneNumPerLine.txt\n",
    "34\n",
    "23\n",
    "0\n",
    "-25\n",
    "-34.4\n",
    "22.7"
   ]
  },
  {
   "cell_type": "code",
   "execution_count": 15,
   "metadata": {
    "collapsed": true
   },
   "outputs": [],
   "source": [
    "#     Computes the average of numbers listed in a file.\n",
    "\n",
    "def average5():\n",
    "    fileName = input(\"What file are the numbers in? \")\n",
    "    infile = open(fileName,'r')\n",
    "    sum = 0.0\n",
    "    count = 0\n",
    "    for line in infile:\n",
    "        sum = sum + float(line)\n",
    "        count = count + 1\n",
    "    print(\"\\nThe average of the numbers is\", sum / count)\n"
   ]
  },
  {
   "cell_type": "code",
   "execution_count": 16,
   "metadata": {},
   "outputs": [
    {
     "name": "stdout",
     "output_type": "stream",
     "text": [
      "What file are the numbers in? chapter08_oneNumPerLine.txt\n",
      "\n",
      "The average of the numbers is 3.3833333333333333\n"
     ]
    }
   ],
   "source": [
    "average5()"
   ]
  },
  {
   "cell_type": "code",
   "execution_count": 17,
   "metadata": {
    "collapsed": true
   },
   "outputs": [],
   "source": [
    "#     Computes the average of numbers listed in a file.\n",
    "\n",
    "def average6():\n",
    "    fileName = input(\"What file are the numbers in? \")\n",
    "    infile = open(fileName,'r')\n",
    "    sum = 0.0\n",
    "    count = 0\n",
    "    line = infile.readline()\n",
    "    while line != \"\":\n",
    "        sum = sum + float(line)\n",
    "        count = count + 1\n",
    "        line = infile.readline()\n",
    "    print(\"\\nThe average of the numbers is\", sum / count)\n"
   ]
  },
  {
   "cell_type": "code",
   "execution_count": 18,
   "metadata": {},
   "outputs": [
    {
     "name": "stdout",
     "output_type": "stream",
     "text": [
      "What file are the numbers in? chapter08_oneNumPerLine.txt\n",
      "\n",
      "The average of the numbers is 3.3833333333333333\n"
     ]
    }
   ],
   "source": [
    "average6()"
   ]
  },
  {
   "cell_type": "markdown",
   "metadata": {},
   "source": [
    "### 8.3.4: Nested loops"
   ]
  },
  {
   "cell_type": "code",
   "execution_count": 20,
   "metadata": {},
   "outputs": [
    {
     "name": "stdout",
     "output_type": "stream",
     "text": [
      "Writing chapter08_moreNumsPerLine.txt\n"
     ]
    }
   ],
   "source": [
    "%%writefile chapter08_moreNumsPerLine.txt\n",
    "34,23\n",
    "0,-25,-34.4\n",
    "22.7"
   ]
  },
  {
   "cell_type": "code",
   "execution_count": 21,
   "metadata": {
    "collapsed": true
   },
   "outputs": [],
   "source": [
    "#     Computes the average of numbers listed in a file.\n",
    "#     Works with multiple numbers on a line.\n",
    "\n",
    "def average7():\n",
    "    fileName = input(\"What file are the numbers in? \")\n",
    "    infile = open(fileName,'r')\n",
    "    sum = 0.0\n",
    "    count = 0\n",
    "    line = infile.readline()\n",
    "    while line != \"\":\n",
    "        # update sum and count for values in line\n",
    "        for xStr in line.split(\",\"):\n",
    "            sum = sum + float(xStr)\n",
    "            count = count + 1\n",
    "        line = infile.readline()\n",
    "    print(\"\\nThe average of the numbers is\", sum / count)\n"
   ]
  },
  {
   "cell_type": "code",
   "execution_count": 22,
   "metadata": {},
   "outputs": [
    {
     "name": "stdout",
     "output_type": "stream",
     "text": [
      "What file are the numbers in? chapter08_moreNumsPerLine.txt\n",
      "\n",
      "The average of the numbers is 3.3833333333333333\n"
     ]
    }
   ],
   "source": [
    "average7()"
   ]
  },
  {
   "cell_type": "markdown",
   "metadata": {},
   "source": [
    "## 8.5: Other common structures"
   ]
  },
  {
   "cell_type": "markdown",
   "metadata": {},
   "source": [
    "### 8.5.1: Post-test loop"
   ]
  },
  {
   "cell_type": "code",
   "execution_count": 23,
   "metadata": {},
   "outputs": [
    {
     "name": "stdout",
     "output_type": "stream",
     "text": [
      "Enter a positive number: -1\n",
      "Enter a positive number: 0\n"
     ]
    }
   ],
   "source": [
    "number = -1 # Start with an illegal value to get into the loop.\n",
    "while number < 0:\n",
    "    number = float(input(\"Enter a positive number: \"))"
   ]
  },
  {
   "cell_type": "code",
   "execution_count": 24,
   "metadata": {},
   "outputs": [
    {
     "name": "stdout",
     "output_type": "stream",
     "text": [
      "Enter a positive number: -22\n",
      "Enter a positive number: 1\n"
     ]
    }
   ],
   "source": [
    "# Use break to exit\n",
    "while True:\n",
    "    number = float(input(\"Enter a positive number: \"))\n",
    "    if number >= 0: break # Exit loop if number is valid"
   ]
  },
  {
   "cell_type": "code",
   "execution_count": 25,
   "metadata": {},
   "outputs": [
    {
     "name": "stdout",
     "output_type": "stream",
     "text": [
      "Enter a positive number: -22\n",
      "The number you entered was not positive\n",
      "Enter a positive number: 1\n"
     ]
    }
   ],
   "source": [
    "# Awkward\n",
    "number = -1 # Start with an illegal value to get into the loop.\n",
    "while number < 0:\n",
    "    number = float(input(\"Enter a positive number: \"))\n",
    "    if number < 0:\n",
    "        print(\"The number you entered was not positive\")"
   ]
  },
  {
   "cell_type": "code",
   "execution_count": 26,
   "metadata": {},
   "outputs": [
    {
     "name": "stdout",
     "output_type": "stream",
     "text": [
      "Enter a positive number: -22\n",
      "The number you entered was not positive\n",
      "Enter a positive number: 1\n"
     ]
    }
   ],
   "source": [
    "# Less awkward: Break to exist\n",
    "while True:\n",
    "    number = float(input(\"Enter a positive number: \"))\n",
    "    if number >= 0: \n",
    "        break # Exit loop if number is valid\n",
    "    else:\n",
    "        print(\"The number you entered was not positive\")"
   ]
  },
  {
   "cell_type": "markdown",
   "metadata": {},
   "source": [
    "### 8.5.2: Loop and a half"
   ]
  },
  {
   "cell_type": "code",
   "execution_count": 27,
   "metadata": {},
   "outputs": [
    {
     "name": "stdout",
     "output_type": "stream",
     "text": [
      "Enter a positive number: -22\n",
      "The number you entered was not positive\n",
      "Enter a positive number: 1\n"
     ]
    }
   ],
   "source": [
    "while True:\n",
    "    number = float(input(\"Enter a positive number: \"))\n",
    "    if number >= 0: break # Exit loop if number is valid\n",
    "    print(\"The number you entered was not positive\")"
   ]
  },
  {
   "cell_type": "markdown",
   "metadata": {},
   "source": [
    "### 8.5.3: Boolean expressions as decisions"
   ]
  },
  {
   "cell_type": "code",
   "execution_count": 28,
   "metadata": {},
   "outputs": [
    {
     "data": {
      "text/plain": [
       "False"
      ]
     },
     "execution_count": 28,
     "metadata": {},
     "output_type": "execute_result"
    }
   ],
   "source": [
    "bool(0)"
   ]
  },
  {
   "cell_type": "code",
   "execution_count": 29,
   "metadata": {},
   "outputs": [
    {
     "data": {
      "text/plain": [
       "True"
      ]
     },
     "execution_count": 29,
     "metadata": {},
     "output_type": "execute_result"
    }
   ],
   "source": [
    "bool(1)"
   ]
  },
  {
   "cell_type": "code",
   "execution_count": 30,
   "metadata": {},
   "outputs": [
    {
     "data": {
      "text/plain": [
       "True"
      ]
     },
     "execution_count": 30,
     "metadata": {},
     "output_type": "execute_result"
    }
   ],
   "source": [
    "bool(32)"
   ]
  },
  {
   "cell_type": "code",
   "execution_count": 31,
   "metadata": {},
   "outputs": [
    {
     "data": {
      "text/plain": [
       "True"
      ]
     },
     "execution_count": 31,
     "metadata": {},
     "output_type": "execute_result"
    }
   ],
   "source": [
    "bool(\"Hello\")"
   ]
  },
  {
   "cell_type": "code",
   "execution_count": 32,
   "metadata": {},
   "outputs": [
    {
     "data": {
      "text/plain": [
       "False"
      ]
     },
     "execution_count": 32,
     "metadata": {},
     "output_type": "execute_result"
    }
   ],
   "source": [
    "bool(\"\")"
   ]
  },
  {
   "cell_type": "code",
   "execution_count": 33,
   "metadata": {},
   "outputs": [
    {
     "data": {
      "text/plain": [
       "True"
      ]
     },
     "execution_count": 33,
     "metadata": {},
     "output_type": "execute_result"
    }
   ],
   "source": [
    "bool([1,2,3])"
   ]
  },
  {
   "cell_type": "code",
   "execution_count": 34,
   "metadata": {},
   "outputs": [
    {
     "data": {
      "text/plain": [
       "False"
      ]
     },
     "execution_count": 34,
     "metadata": {},
     "output_type": "execute_result"
    }
   ],
   "source": [
    "bool([])"
   ]
  },
  {
   "cell_type": "code",
   "execution_count": 38,
   "metadata": {},
   "outputs": [
    {
     "name": "stdout",
     "output_type": "stream",
     "text": [
      "False\n",
      "Y\n"
     ]
    }
   ],
   "source": [
    "response = 'no'\n",
    "print(response[0] == 'y' or response[0] == 'Y')\n",
    "print(response[0] == 'y' or 'Y')"
   ]
  },
  {
   "cell_type": "code",
   "execution_count": 44,
   "metadata": {},
   "outputs": [],
   "source": [
    "def getFlavor1():\n",
    "    ans = input(\"What flavor of you want [vanilla]: \")\n",
    "    if ans != \"\":\n",
    "        flavor = ans\n",
    "    else:\n",
    "        flavor = \"vanilla\"\n",
    "    print(flavor)"
   ]
  },
  {
   "cell_type": "code",
   "execution_count": 48,
   "metadata": {},
   "outputs": [
    {
     "name": "stdout",
     "output_type": "stream",
     "text": [
      "What flavor of you want [vanilla]: \n",
      "vanilla\n"
     ]
    }
   ],
   "source": [
    "getFlavor1()"
   ]
  },
  {
   "cell_type": "code",
   "execution_count": 49,
   "metadata": {},
   "outputs": [
    {
     "name": "stdout",
     "output_type": "stream",
     "text": [
      "What flavor of you want [vanilla]: chocolate\n",
      "chocolate\n"
     ]
    }
   ],
   "source": [
    "getFlavor1()"
   ]
  },
  {
   "cell_type": "code",
   "execution_count": 45,
   "metadata": {},
   "outputs": [],
   "source": [
    "def getFlavor2():\n",
    "    ans = input(\"What flavor of you want [vanilla]: \")\n",
    "    if ans:\n",
    "        flavor = ans\n",
    "    else:\n",
    "        flavor = \"vanilla\"\n",
    "    print(flavor)"
   ]
  },
  {
   "cell_type": "code",
   "execution_count": 50,
   "metadata": {},
   "outputs": [
    {
     "name": "stdout",
     "output_type": "stream",
     "text": [
      "What flavor of you want [vanilla]: \n",
      "vanilla\n"
     ]
    }
   ],
   "source": [
    "getFlavor2()"
   ]
  },
  {
   "cell_type": "code",
   "execution_count": 51,
   "metadata": {},
   "outputs": [
    {
     "name": "stdout",
     "output_type": "stream",
     "text": [
      "What flavor of you want [vanilla]: chocolate\n",
      "chocolate\n"
     ]
    }
   ],
   "source": [
    "getFlavor2()"
   ]
  },
  {
   "cell_type": "code",
   "execution_count": 52,
   "metadata": {},
   "outputs": [],
   "source": [
    "def getFlavor3():\n",
    "    ans = input(\"What flavor fo you want [vanilla]: \")\n",
    "    flavor = ans or \"vanilla\"\n",
    "    print(flavor)"
   ]
  },
  {
   "cell_type": "code",
   "execution_count": 53,
   "metadata": {},
   "outputs": [
    {
     "name": "stdout",
     "output_type": "stream",
     "text": [
      "What flavor fo you want [vanilla]: \n",
      "vanilla\n"
     ]
    }
   ],
   "source": [
    "getFlavor3()"
   ]
  },
  {
   "cell_type": "code",
   "execution_count": 54,
   "metadata": {},
   "outputs": [
    {
     "name": "stdout",
     "output_type": "stream",
     "text": [
      "What flavor fo you want [vanilla]: chocolate\n",
      "chocolate\n"
     ]
    }
   ],
   "source": [
    "getFlavor3()"
   ]
  },
  {
   "cell_type": "code",
   "execution_count": 47,
   "metadata": {},
   "outputs": [],
   "source": [
    "def getFlavor4():\n",
    "    flavor = input(\"What flavor do you want [vanilla]:\" ) or \"vanilla\"\n",
    "    print(flavor)"
   ]
  },
  {
   "cell_type": "code",
   "execution_count": 55,
   "metadata": {},
   "outputs": [
    {
     "name": "stdout",
     "output_type": "stream",
     "text": [
      "What flavor do you want [vanilla]:\n",
      "vanilla\n"
     ]
    }
   ],
   "source": [
    "getFlavor4()"
   ]
  },
  {
   "cell_type": "code",
   "execution_count": 57,
   "metadata": {},
   "outputs": [
    {
     "name": "stdout",
     "output_type": "stream",
     "text": [
      "What flavor do you want [vanilla]:chocolate\n",
      "chocolate\n"
     ]
    }
   ],
   "source": [
    "getFlavor4()"
   ]
  },
  {
   "cell_type": "code",
   "execution_count": null,
   "metadata": {
    "collapsed": true
   },
   "outputs": [],
   "source": []
  }
 ],
 "metadata": {
  "kernelspec": {
   "display_name": "Python 3",
   "language": "python",
   "name": "python3"
  },
  "language_info": {
   "codemirror_mode": {
    "name": "ipython",
    "version": 3
   },
   "file_extension": ".py",
   "mimetype": "text/x-python",
   "name": "python",
   "nbconvert_exporter": "python",
   "pygments_lexer": "ipython3",
   "version": "3.5.2"
  }
 },
 "nbformat": 4,
 "nbformat_minor": 2
}
