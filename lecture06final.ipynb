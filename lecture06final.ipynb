{
 "cells": [
  {
   "cell_type": "code",
   "execution_count": 1,
   "metadata": {
    "collapsed": true
   },
   "outputs": [],
   "source": [
    "from graphics import *\n",
    "def clickntype():\n",
    "    win = GraphWin(\"Click and Type\", 400, 400)\n",
    "    for i in range(10):\n",
    "        pt = win.getMouse()\n",
    "        key = win.getKey()\n",
    "        label = Text(pt, key)\n",
    "        label.draw(win)"
   ]
  },
  {
   "cell_type": "code",
   "execution_count": null,
   "metadata": {
    "collapsed": true
   },
   "outputs": [],
   "source": [
    "from graphics import *\n",
    "win = GraphWin(\"Click and Type\", 400, 400)\n",
    "for i in range(10):\n",
    "    pt = win.getMouse()\n",
    "    key = win.getKey()\n",
    "    label = Text(pt, key)\n",
    "    label.draw(win)\n",
    "    \n"
   ]
  },
  {
   "cell_type": "code",
   "execution_count": 5,
   "metadata": {},
   "outputs": [
    {
     "ename": "GraphicsError",
     "evalue": "getMouse in closed window",
     "output_type": "error",
     "traceback": [
      "\u001b[0;31m---------------------------------------------------------------------------\u001b[0m",
      "\u001b[0;31mGraphicsError\u001b[0m                             Traceback (most recent call last)",
      "\u001b[0;32m<ipython-input-5-7c5f86b03910>\u001b[0m in \u001b[0;36m<module>\u001b[0;34m()\u001b[0m\n\u001b[1;32m     33\u001b[0m     \u001b[0mwin\u001b[0m\u001b[0;34m.\u001b[0m\u001b[0mclose\u001b[0m\u001b[0;34m(\u001b[0m\u001b[0;34m)\u001b[0m\u001b[0;34m\u001b[0m\u001b[0m\n\u001b[1;32m     34\u001b[0m \u001b[0;34m\u001b[0m\u001b[0m\n\u001b[0;32m---> 35\u001b[0;31m \u001b[0mconvert_gui\u001b[0m\u001b[0;34m(\u001b[0m\u001b[0;34m)\u001b[0m\u001b[0;34m\u001b[0m\u001b[0m\n\u001b[0m",
      "\u001b[0;32m<ipython-input-5-7c5f86b03910>\u001b[0m in \u001b[0;36mconvert_gui\u001b[0;34m()\u001b[0m\n\u001b[1;32m     18\u001b[0m     \u001b[0;31m# wait for a mouse click\u001b[0m\u001b[0;34m\u001b[0m\u001b[0;34m\u001b[0m\u001b[0m\n\u001b[1;32m     19\u001b[0m     \u001b[0;32mfor\u001b[0m \u001b[0mi\u001b[0m \u001b[0;32min\u001b[0m \u001b[0mrange\u001b[0m\u001b[0;34m(\u001b[0m\u001b[0;36m5\u001b[0m\u001b[0;34m)\u001b[0m\u001b[0;34m:\u001b[0m\u001b[0;34m\u001b[0m\u001b[0m\n\u001b[0;32m---> 20\u001b[0;31m         \u001b[0mwin\u001b[0m\u001b[0;34m.\u001b[0m\u001b[0mgetMouse\u001b[0m\u001b[0;34m(\u001b[0m\u001b[0;34m)\u001b[0m\u001b[0;34m\u001b[0m\u001b[0m\n\u001b[0m\u001b[1;32m     21\u001b[0m \u001b[0;34m\u001b[0m\u001b[0m\n\u001b[1;32m     22\u001b[0m         \u001b[0;31m# convert input\u001b[0m\u001b[0;34m\u001b[0m\u001b[0;34m\u001b[0m\u001b[0m\n",
      "\u001b[0;32m/Users/hmghaly/graphics.py\u001b[0m in \u001b[0;36mgetMouse\u001b[0;34m(self)\u001b[0m\n\u001b[1;32m    314\u001b[0m         \u001b[0;32mwhile\u001b[0m \u001b[0mself\u001b[0m\u001b[0;34m.\u001b[0m\u001b[0mmouseX\u001b[0m \u001b[0;34m==\u001b[0m \u001b[0;32mNone\u001b[0m \u001b[0;32mor\u001b[0m \u001b[0mself\u001b[0m\u001b[0;34m.\u001b[0m\u001b[0mmouseY\u001b[0m \u001b[0;34m==\u001b[0m \u001b[0;32mNone\u001b[0m\u001b[0;34m:\u001b[0m\u001b[0;34m\u001b[0m\u001b[0m\n\u001b[1;32m    315\u001b[0m             \u001b[0mself\u001b[0m\u001b[0;34m.\u001b[0m\u001b[0mupdate\u001b[0m\u001b[0;34m(\u001b[0m\u001b[0;34m)\u001b[0m\u001b[0;34m\u001b[0m\u001b[0m\n\u001b[0;32m--> 316\u001b[0;31m             \u001b[0;32mif\u001b[0m \u001b[0mself\u001b[0m\u001b[0;34m.\u001b[0m\u001b[0misClosed\u001b[0m\u001b[0;34m(\u001b[0m\u001b[0;34m)\u001b[0m\u001b[0;34m:\u001b[0m \u001b[0;32mraise\u001b[0m \u001b[0mGraphicsError\u001b[0m\u001b[0;34m(\u001b[0m\u001b[0;34m\"getMouse in closed window\"\u001b[0m\u001b[0;34m)\u001b[0m\u001b[0;34m\u001b[0m\u001b[0m\n\u001b[0m\u001b[1;32m    317\u001b[0m             \u001b[0mtime\u001b[0m\u001b[0;34m.\u001b[0m\u001b[0msleep\u001b[0m\u001b[0;34m(\u001b[0m\u001b[0;36m.1\u001b[0m\u001b[0;34m)\u001b[0m \u001b[0;31m# give up thread\u001b[0m\u001b[0;34m\u001b[0m\u001b[0m\n\u001b[1;32m    318\u001b[0m         \u001b[0mx\u001b[0m\u001b[0;34m,\u001b[0m\u001b[0my\u001b[0m \u001b[0;34m=\u001b[0m \u001b[0mself\u001b[0m\u001b[0;34m.\u001b[0m\u001b[0mtoWorld\u001b[0m\u001b[0;34m(\u001b[0m\u001b[0mself\u001b[0m\u001b[0;34m.\u001b[0m\u001b[0mmouseX\u001b[0m\u001b[0;34m,\u001b[0m \u001b[0mself\u001b[0m\u001b[0;34m.\u001b[0m\u001b[0mmouseY\u001b[0m\u001b[0;34m)\u001b[0m\u001b[0;34m\u001b[0m\u001b[0m\n",
      "\u001b[0;31mGraphicsError\u001b[0m: getMouse in closed window"
     ]
    }
   ],
   "source": [
    "from graphics import *\n",
    "\n",
    "def convert_gui():\n",
    "    win = GraphWin(\"Celsius Converter\", 300, 200)\n",
    "    win.setCoords(0.0, 0.0, 3.0, 4.0)\n",
    "    \n",
    "    # Draw the interface\n",
    "    Text(Point(1,3), \"   Celsius Temperature:\").draw(win)\n",
    "    Text(Point(1,1), \"Fahrenheit Temperature:\").draw(win)\n",
    "    input = Entry(Point(2,3), 5)\n",
    "    input.setText(\"0.0\")\n",
    "    input.draw(win)\n",
    "    output = Text(Point(2,1),\"\")\n",
    "    output.draw(win)\n",
    "    button = Text(Point(1.5,2.0),\"Convert It\")\n",
    "    button.draw(win)\n",
    "    Rectangle(Point(1,1.5), Point(2,2.5)).draw(win)\n",
    "    # wait for a mouse click\n",
    "    for i in range(5):\n",
    "        win.getMouse()\n",
    "\n",
    "        # convert input\n",
    "        celsius = eval(input.getText())\n",
    "        fahrenheit = 9.0/5.0 * celsius + 32\n",
    "\n",
    "        # display output and change button\n",
    "        output.setText(fahrenheit)\n",
    "        \n",
    "\n",
    "    button.setText(\"Quit\")\n",
    "    # wait for click and then quit\n",
    "    win.getMouse()\n",
    "    win.close()\n",
    "    \n",
    "convert_gui()    "
   ]
  },
  {
   "cell_type": "code",
   "execution_count": 2,
   "metadata": {},
   "outputs": [
    {
     "data": {
      "text/plain": [
       "Rectangle(Point(0.0, 0.0), Point(20.0, 50.0))"
      ]
     },
     "execution_count": 2,
     "metadata": {},
     "output_type": "execute_result"
    }
   ],
   "source": [
    "from graphics import *\n",
    "principal=50\n",
    "win = GraphWin(\"Principal\", 300, 200)\n",
    "win.setCoords(0.0, 0.0, 300, 200)\n",
    "bar = Rectangle(Point(0, 0), Point(20, principal))\n",
    "bar.setFill(\"green\")\n",
    "bar.setWidth(2)\n",
    "bar.draw(win)"
   ]
  },
  {
   "cell_type": "code",
   "execution_count": 3,
   "metadata": {},
   "outputs": [
    {
     "data": {
      "text/plain": [
       "Rectangle(Point(20.0, 0.0), Point(40.0, 100.0))"
      ]
     },
     "execution_count": 3,
     "metadata": {},
     "output_type": "execute_result"
    }
   ],
   "source": [
    "from graphics import *\n",
    "\n",
    "win = GraphWin(\"Principal\", 300, 200)\n",
    "win.setCoords(0.0, 0.0, 300, 200)\n",
    "width=20\n",
    "\n",
    "year=0\n",
    "principal=50\n",
    "bar = Rectangle(Point(year*width, 0), Point((year+1)*width, principal))\n",
    "bar.setFill(\"green\")\n",
    "bar.setWidth(2)\n",
    "bar.draw(win)\n",
    "\n",
    "year=1\n",
    "principal=100\n",
    "bar = Rectangle(Point(year*width, 0), Point((year+1)*width, principal))\n",
    "bar.setFill(\"red\")\n",
    "bar.setWidth(2)\n",
    "bar.draw(win)"
   ]
  },
  {
   "cell_type": "code",
   "execution_count": 7,
   "metadata": {
    "collapsed": true
   },
   "outputs": [],
   "source": [
    "from graphics import *\n",
    "\n",
    "win = GraphWin(\"Principal\", 300, 200)\n",
    "win.setCoords(0.0, 0.0, 300, 200)\n",
    "width=20\n",
    "\n",
    "def draw_bar(window,year,principal,color):\n",
    "    width=20\n",
    "    bar = Rectangle(Point(year*width, 0), Point((year+1)*width, principal))\n",
    "    bar.setFill(color)\n",
    "    bar.setWidth(2)\n",
    "    bar.draw(window)\n",
    "\n",
    "draw_bar(win,0,100,\"red\")\n",
    "draw_bar(win,1,150,\"green\")\n",
    "draw_bar(win,2,120,\"blue\")\n",
    "    \n",
    "    \n",
    "    "
   ]
  },
  {
   "cell_type": "code",
   "execution_count": 15,
   "metadata": {},
   "outputs": [
    {
     "name": "stdout",
     "output_type": "stream",
     "text": [
      "our_double 4\n",
      "4\n",
      "our_double 1234\n"
     ]
    },
    {
     "ename": "NameError",
     "evalue": "name 'temp_double' is not defined",
     "output_type": "error",
     "traceback": [
      "\u001b[0;31m---------------------------------------------------------------------------\u001b[0m",
      "\u001b[0;31mNameError\u001b[0m                                 Traceback (most recent call last)",
      "\u001b[0;32m<ipython-input-15-231ee8f8dd8d>\u001b[0m in \u001b[0;36m<module>\u001b[0;34m()\u001b[0m\n\u001b[1;32m      9\u001b[0m \u001b[0mprint\u001b[0m\u001b[0;34m(\u001b[0m\u001b[0ma\u001b[0m\u001b[0;34m)\u001b[0m\u001b[0;34m\u001b[0m\u001b[0m\n\u001b[1;32m     10\u001b[0m \u001b[0mprint\u001b[0m\u001b[0;34m(\u001b[0m\u001b[0;34m\"our_double\"\u001b[0m\u001b[0;34m,\u001b[0m\u001b[0mour_double\u001b[0m\u001b[0;34m)\u001b[0m\u001b[0;34m\u001b[0m\u001b[0m\n\u001b[0;32m---> 11\u001b[0;31m \u001b[0mprint\u001b[0m\u001b[0;34m(\u001b[0m\u001b[0;34m\"temp_double\"\u001b[0m\u001b[0;34m,\u001b[0m \u001b[0mtemp_double\u001b[0m\u001b[0;34m)\u001b[0m\u001b[0;34m\u001b[0m\u001b[0m\n\u001b[0m",
      "\u001b[0;31mNameError\u001b[0m: name 'temp_double' is not defined"
     ]
    }
   ],
   "source": [
    "our_double=1234\n",
    "def double(x):\n",
    "    our_double=x*2\n",
    "    temp_double=our_double\n",
    "    print(\"our_double\", our_double)\n",
    "    return our_double\n",
    "\n",
    "a=double(2)\n",
    "print(a)\n",
    "print(\"our_double\",our_double)\n",
    "print(\"temp_double\", temp_double)"
   ]
  },
  {
   "cell_type": "code",
   "execution_count": null,
   "metadata": {
    "collapsed": true
   },
   "outputs": [],
   "source": []
  }
 ],
 "metadata": {
  "kernelspec": {
   "display_name": "Python 3",
   "language": "python",
   "name": "python3"
  },
  "language_info": {
   "codemirror_mode": {
    "name": "ipython",
    "version": 3
   },
   "file_extension": ".py",
   "mimetype": "text/x-python",
   "name": "python",
   "nbconvert_exporter": "python",
   "pygments_lexer": "ipython3",
   "version": "3.6.1"
  }
 },
 "nbformat": 4,
 "nbformat_minor": 2
}
