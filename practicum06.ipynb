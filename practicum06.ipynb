{
 "cells": [
  {
   "cell_type": "code",
   "execution_count": 31,
   "metadata": {},
   "outputs": [
    {
     "name": "stdout",
     "output_type": "stream",
     "text": [
      "['3', '29', '2016']\n",
      "valid format\n",
      "[3, 29, 2016]\n",
      "month 3\n",
      "day 29\n",
      "year 2016\n",
      "True\n",
      "that's a 31 day month\n"
     ]
    }
   ],
   "source": [
    "date_str=\"3/29/2016\"\n",
    "split_date=date_str.split(\"/\")\n",
    "print(split_date)\n",
    "if len(split_date)==3:\n",
    "    print(\"valid format\")\n",
    "    try:\n",
    "        date_split_int=[int(item) for item in split_date]\n",
    "        print(date_split_int)\n",
    "        month,day,year=date_split_int\n",
    "        print(\"month\", month)\n",
    "        print(\"day\", day)\n",
    "        print(\"year\", year)  \n",
    "        leap_year=False\n",
    "        if year%4==0 and not year in (1700,1800,1900): \n",
    "            leap_year=True\n",
    "        print(leap_year)    \n",
    "        #check Feb\n",
    "        if month==2:\n",
    "            if day>0 and day<29:\n",
    "                print(\"Valid date for February\")\n",
    "            elif day==29 and leap_year:\n",
    "                print(\"Valid date for February - leap year\")\n",
    "            else:\n",
    "                print(\"Invalid date for February\")\n",
    "        elif month in (4,6,9,11):\n",
    "            print(\"that's a 30 day month\")\n",
    "        else:\n",
    "            print(\"that's a 31 day month\")\n",
    "    except:\n",
    "        print(\"must be all integers\")\n",
    "    \n",
    "else:\n",
    "    print(\"invalid format\")\n"
   ]
  },
  {
   "cell_type": "code",
   "execution_count": 20,
   "metadata": {},
   "outputs": [
    {
     "data": {
      "text/plain": [
       "range(0, 15)"
      ]
     },
     "execution_count": 20,
     "metadata": {},
     "output_type": "execute_result"
    }
   ],
   "source": [
    "range(15)"
   ]
  },
  {
   "cell_type": "code",
   "execution_count": 21,
   "metadata": {},
   "outputs": [
    {
     "data": {
      "text/plain": [
       "False"
      ]
     },
     "execution_count": 21,
     "metadata": {},
     "output_type": "execute_result"
    }
   ],
   "source": [
    "15 in range(15)"
   ]
  },
  {
   "cell_type": "code",
   "execution_count": 22,
   "metadata": {},
   "outputs": [
    {
     "data": {
      "text/plain": [
       "[0, 1, 2, 3, 4, 5, 6, 7, 8, 9, 10, 11, 12, 13, 14]"
      ]
     },
     "execution_count": 22,
     "metadata": {},
     "output_type": "execute_result"
    }
   ],
   "source": [
    "list(range(15))"
   ]
  },
  {
   "cell_type": "code",
   "execution_count": 23,
   "metadata": {
    "collapsed": true
   },
   "outputs": [],
   "source": [
    "day=29\n",
    "if day<29:\n",
    "    print(\"day is valid\")"
   ]
  },
  {
   "cell_type": "code",
   "execution_count": null,
   "metadata": {
    "collapsed": true
   },
   "outputs": [],
   "source": [
    "from graphics import *\n",
    "win = GraphWin(\"Draw a Rectangle.\", 500, 500)\n",
    "p1= win.getMouse()\n",
    "p1.draw(win)\n",
    "p2=win.getMouse()\n",
    "p2.draw(win)\n",
    "Rectangle(p1,p2).draw(win)"
   ]
  }
 ],
 "metadata": {
  "kernelspec": {
   "display_name": "Python 3",
   "language": "python",
   "name": "python3"
  },
  "language_info": {
   "codemirror_mode": {
    "name": "ipython",
    "version": 3
   },
   "file_extension": ".py",
   "mimetype": "text/x-python",
   "name": "python",
   "nbconvert_exporter": "python",
   "pygments_lexer": "ipython3",
   "version": "3.6.1"
  }
 },
 "nbformat": 4,
 "nbformat_minor": 2
}
