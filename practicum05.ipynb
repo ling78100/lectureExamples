{
 "cells": [
  {
   "cell_type": "code",
   "execution_count": 5,
   "metadata": {
    "collapsed": true
   },
   "outputs": [],
   "source": [
    "#starting tkinter\n",
    "import tkinter # note that module name has changed from Tkinter in Python 2 to tkinter in Python 3\n",
    "top = tkinter.Tk()\n",
    "top.mainloop()\n"
   ]
  },
  {
   "cell_type": "code",
   "execution_count": 6,
   "metadata": {},
   "outputs": [
    {
     "name": "stdout",
     "output_type": "stream",
     "text": [
      "Hello\n"
     ]
    }
   ],
   "source": [
    "print(\"Hello\")"
   ]
  },
  {
   "cell_type": "code",
   "execution_count": 8,
   "metadata": {
    "collapsed": true
   },
   "outputs": [],
   "source": [
    "#a simple one button interface\n",
    "# !/usr/bin/python3\n",
    "from tkinter import *\n",
    "\n",
    "from tkinter import messagebox\n",
    "\n",
    "top = Tk()\n",
    "top.geometry(\"100x100\")\n",
    "def helloCallBack():\n",
    "   msg = messagebox.showinfo( \"Hello Python\", \"Hello World\")\n",
    "\n",
    "B = Button(top, text = \"Hello\", command = helloCallBack)\n",
    "B.place(x = 50,y = 50)\n",
    "top.mainloop()"
   ]
  },
  {
   "cell_type": "code",
   "execution_count": 7,
   "metadata": {
    "scrolled": true
   },
   "outputs": [
    {
     "name": "stdout",
     "output_type": "stream",
     "text": [
      "[159, 92]\n",
      "[159, 92, 205, 213]\n",
      "[159, 92, 205, 213, 177, 127]\n",
      "[159, 92, 205, 213, 177, 127, 276, 71]\n",
      "[159, 92, 205, 213, 177, 127, 276, 71, 249, 192]\n",
      "[159, 92, 205, 213, 177, 127, 276, 71, 249, 192, 10, -6]\n"
     ]
    }
   ],
   "source": [
    "#this code allows you to get the coordinates from a user click and add them to a list\n",
    "# !/usr/bin/python3\n",
    "from tkinter import *\n",
    "\n",
    "from tkinter import messagebox\n",
    "\n",
    "top = Tk()\n",
    "\n",
    "coord_list=[]\n",
    "\n",
    "def click(event):\n",
    "    x, y = event.x, event.y\n",
    "    coord_list.append(x)\n",
    "    coord_list.append(y)\n",
    "    #print(\"you clicked on\")\n",
    "    #print('{}, {}'.format(x, y))\n",
    "    #coord_list=coord_list[-4:]\n",
    "    print(coord_list)\n",
    "    #return x,y\n",
    "\n",
    "\n",
    "#top.bind('<Motion>', motion)\n",
    "#top.bind('<click>', motion)\n",
    "top.bind(\"<Button-1>\", click)\n",
    "\n",
    "C = Canvas(top, bg = \"blue\", height = 300, width = 300)\n",
    "\n",
    "#coord = 10, 50, 240, 210\n",
    "#arc = C.create_arc(coord, start = 0, extent = 150, fill = \"red\")\n",
    "#line = C.create_line(10,50,100,200,fill = 'red')\n",
    "#triangle = C.create_polygon(20, 20, 20,100, 100, 100, fill=\"green\")\n",
    "rect_coord=20, 20, 20,100, 100, 100\n",
    "rectangle = C.create_polygon(rect_coord, fill=\"green\") #this is how you draw a polygon (triangle/rectangle)\n",
    "#rect = C.create_polygon(20, 20, 20,100, 100, 100, 20,100, fill=\"green\")\n",
    "C.pack()\n",
    "top.mainloop()"
   ]
  },
  {
   "cell_type": "code",
   "execution_count": 10,
   "metadata": {},
   "outputs": [
    {
     "name": "stdout",
     "output_type": "stream",
     "text": [
      "there was an error\n"
     ]
    }
   ],
   "source": [
    "#Exception Handling\n",
    "try:\n",
    "    a=100/0\n",
    "except:\n",
    "    print(\"there was an error\")"
   ]
  },
  {
   "cell_type": "code",
   "execution_count": 11,
   "metadata": {},
   "outputs": [
    {
     "name": "stdout",
     "output_type": "stream",
     "text": [
      "159\n"
     ]
    }
   ],
   "source": [
    "#how to get the minimum and maximum coordinates for drawing the rectangle\n",
    "temp_x0=159\n",
    "temp_x1=205\n",
    "x0=min(temp_x0,temp_x1)\n",
    "print(x0)"
   ]
  },
  {
   "cell_type": "code",
   "execution_count": null,
   "metadata": {
    "collapsed": true
   },
   "outputs": [],
   "source": []
  }
 ],
 "metadata": {
  "kernelspec": {
   "display_name": "Python 3",
   "language": "python",
   "name": "python3"
  },
  "language_info": {
   "codemirror_mode": {
    "name": "ipython",
    "version": 3
   },
   "file_extension": ".py",
   "mimetype": "text/x-python",
   "name": "python",
   "nbconvert_exporter": "python",
   "pygments_lexer": "ipython3",
   "version": "3.6.1"
  }
 },
 "nbformat": 4,
 "nbformat_minor": 2
}
