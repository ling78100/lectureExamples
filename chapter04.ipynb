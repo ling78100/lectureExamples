{
 "cells": [
  {
   "cell_type": "markdown",
   "metadata": {},
   "source": [
    "# Chapter 4: Objects and Graphics"
   ]
  },
  {
   "cell_type": "markdown",
   "metadata": {},
   "source": [
    "## 4.3: Simple graphics programming"
   ]
  },
  {
   "cell_type": "code",
   "execution_count": 48,
   "metadata": {
    "collapsed": true
   },
   "outputs": [],
   "source": [
    "import graphics"
   ]
  },
  {
   "cell_type": "code",
   "execution_count": 49,
   "metadata": {
    "collapsed": true
   },
   "outputs": [],
   "source": [
    "win = graphics.GraphWin()"
   ]
  },
  {
   "cell_type": "code",
   "execution_count": 50,
   "metadata": {
    "collapsed": true
   },
   "outputs": [],
   "source": [
    "win.close()"
   ]
  },
  {
   "cell_type": "code",
   "execution_count": 5,
   "metadata": {
    "collapsed": true
   },
   "outputs": [],
   "source": [
    "# Yuck!\n",
    "from graphics import *\n",
    "win = GraphWin()"
   ]
  },
  {
   "cell_type": "code",
   "execution_count": 7,
   "metadata": {},
   "outputs": [
    {
     "data": {
      "text/plain": [
       "50.0"
      ]
     },
     "execution_count": 7,
     "metadata": {},
     "output_type": "execute_result"
    }
   ],
   "source": [
    "p = Point(50,60)\n",
    "p.getX()"
   ]
  },
  {
   "cell_type": "code",
   "execution_count": 8,
   "metadata": {},
   "outputs": [
    {
     "data": {
      "text/plain": [
       "60.0"
      ]
     },
     "execution_count": 8,
     "metadata": {},
     "output_type": "execute_result"
    }
   ],
   "source": [
    "p.getY()"
   ]
  },
  {
   "cell_type": "code",
   "execution_count": 9,
   "metadata": {},
   "outputs": [
    {
     "data": {
      "text/plain": [
       "Point(50.0, 60.0)"
      ]
     },
     "execution_count": 9,
     "metadata": {},
     "output_type": "execute_result"
    }
   ],
   "source": [
    "p.draw(win)"
   ]
  },
  {
   "cell_type": "code",
   "execution_count": 10,
   "metadata": {
    "collapsed": true
   },
   "outputs": [],
   "source": [
    "p2 = Point(140,100)"
   ]
  },
  {
   "cell_type": "code",
   "execution_count": 11,
   "metadata": {},
   "outputs": [
    {
     "data": {
      "text/plain": [
       "Point(140.0, 100.0)"
      ]
     },
     "execution_count": 11,
     "metadata": {},
     "output_type": "execute_result"
    }
   ],
   "source": [
    "p2.draw(win)"
   ]
  },
  {
   "cell_type": "code",
   "execution_count": 12,
   "metadata": {
    "collapsed": true
   },
   "outputs": [],
   "source": [
    "win.close()"
   ]
  },
  {
   "cell_type": "code",
   "execution_count": 26,
   "metadata": {},
   "outputs": [
    {
     "data": {
      "text/plain": [
       "Oval(Point(20.0, 150.0), Point(180.0, 199.0))"
      ]
     },
     "execution_count": 26,
     "metadata": {},
     "output_type": "execute_result"
    }
   ],
   "source": [
    "#### Open a graphics window\n",
    "win = GraphWin('Shapes')\n",
    "#### Draw a red circle centered at point (100,100) with radius 30\n",
    "center = Point(100,100)\n",
    "circ = Circle(center, 30)\n",
    "circ.setFill('red')\n",
    "circ.draw(win)\n",
    "#### Put a textual label in the center of the circle\n",
    "label = Text(center, 'Red Circle')\n",
    "label.draw(win)\n",
    "#### Draw a square using a Rectangle object\n",
    "rect = Rectangle(Point(30,30), Point(70,70))\n",
    "rect.draw(win)\n",
    "#### Draw a line segment using a Line object\n",
    "line = Line(Point(20,30), Point(180, 165))\n",
    "line.draw(win)\n",
    "#### Draw an oval using the Oval object\n",
    "oval = Oval(Point(20,150), Point(180,199))\n",
    "oval.draw(win)"
   ]
  },
  {
   "cell_type": "code",
   "execution_count": 27,
   "metadata": {
    "collapsed": true
   },
   "outputs": [],
   "source": [
    "win.close()"
   ]
  },
  {
   "cell_type": "code",
   "execution_count": null,
   "metadata": {
    "collapsed": true
   },
   "outputs": [],
   "source": []
  },
  {
   "cell_type": "markdown",
   "metadata": {},
   "source": [
    "## 4.4: Using graphical objects"
   ]
  },
  {
   "cell_type": "code",
   "execution_count": 22,
   "metadata": {},
   "outputs": [
    {
     "data": {
      "text/plain": [
       "50.0"
      ]
     },
     "execution_count": 22,
     "metadata": {},
     "output_type": "execute_result"
    }
   ],
   "source": [
    "p = Point(50,60)\n",
    "p.getX()"
   ]
  },
  {
   "cell_type": "code",
   "execution_count": 23,
   "metadata": {},
   "outputs": [
    {
     "data": {
      "text/plain": [
       "60.0"
      ]
     },
     "execution_count": 23,
     "metadata": {},
     "output_type": "execute_result"
    }
   ],
   "source": [
    "p.getY()"
   ]
  },
  {
   "cell_type": "code",
   "execution_count": 24,
   "metadata": {},
   "outputs": [
    {
     "data": {
      "text/plain": [
       "60.0"
      ]
     },
     "execution_count": 24,
     "metadata": {},
     "output_type": "execute_result"
    }
   ],
   "source": [
    "p.move(10,0)\n",
    "p.getX()"
   ]
  },
  {
   "cell_type": "code",
   "execution_count": 25,
   "metadata": {},
   "outputs": [
    {
     "data": {
      "text/plain": [
       "60.0"
      ]
     },
     "execution_count": 25,
     "metadata": {},
     "output_type": "execute_result"
    }
   ],
   "source": [
    "p.getY()"
   ]
  },
  {
   "cell_type": "code",
   "execution_count": 28,
   "metadata": {},
   "outputs": [
    {
     "data": {
      "text/plain": [
       "Circle(Point(100.0, 100.0), 30)"
      ]
     },
     "execution_count": 28,
     "metadata": {},
     "output_type": "execute_result"
    }
   ],
   "source": [
    "circ = Circle(Point(100,100), 30)\n",
    "win = GraphWin()\n",
    "circ.draw(win)"
   ]
  },
  {
   "cell_type": "code",
   "execution_count": 29,
   "metadata": {
    "collapsed": true
   },
   "outputs": [],
   "source": [
    "win.close()"
   ]
  },
  {
   "cell_type": "code",
   "execution_count": 33,
   "metadata": {},
   "outputs": [
    {
     "name": "stdout",
     "output_type": "stream",
     "text": [
      "Left eye at (100.0,50.0)\n",
      "Right eye at (100.0,50.0)\n"
     ]
    }
   ],
   "source": [
    "## Incorrect way to create two circles\n",
    "leftEye = Circle(Point(80, 50), 5)\n",
    "leftEye.setFill('yellow')\n",
    "leftEye.setOutline('red')\n",
    "rightEye = leftEye\n",
    "rightEye.move(20, 0)\n",
    "\n",
    "print(\"Left eye at ({},{})\".format(leftEye.getCenter().getX(), leftEye.getCenter().getY()))\n",
    "print(\"Right eye at ({},{})\".format(rightEye.getCenter().getX(), rightEye.getCenter().getY()))"
   ]
  },
  {
   "cell_type": "code",
   "execution_count": 34,
   "metadata": {},
   "outputs": [
    {
     "name": "stdout",
     "output_type": "stream",
     "text": [
      "Left eye at (80.0,50.0)\n",
      "Right eye at (100.0,50.0)\n"
     ]
    }
   ],
   "source": [
    "## Correct way to create two circles\n",
    "leftEye = Circle(Point(80, 50), 5)\n",
    "leftEye.setFill('yellow')\n",
    "leftEye.setOutline('red')\n",
    "rightEye = Circle(Point(100, 50), 5)\n",
    "rightEye.setFill('yellow')\n",
    "rightEye.setOutline('red')\n",
    "\n",
    "print(\"Left eye at ({},{})\".format(leftEye.getCenter().getX(), leftEye.getCenter().getY()))\n",
    "print(\"Right eye at ({},{})\".format(rightEye.getCenter().getX(), rightEye.getCenter().getY()))"
   ]
  },
  {
   "cell_type": "code",
   "execution_count": 35,
   "metadata": {},
   "outputs": [
    {
     "name": "stdout",
     "output_type": "stream",
     "text": [
      "Left eye at (80.0,50.0)\n",
      "Right eye at (100.0,50.0)\n"
     ]
    }
   ],
   "source": [
    "## Correct and easier way to create two circles\n",
    "leftEye = Circle(Point(80, 50), 5)\n",
    "leftEye.setFill('yellow')\n",
    "leftEye.setOutline('red')\n",
    "rightEye = leftEye.clone()\n",
    "rightEye.move(20, 0)\n",
    "\n",
    "print(\"Left eye at ({},{})\".format(leftEye.getCenter().getX(), leftEye.getCenter().getY()))\n",
    "print(\"Right eye at ({},{})\".format(rightEye.getCenter().getX(), rightEye.getCenter().getY()))"
   ]
  },
  {
   "cell_type": "markdown",
   "metadata": {},
   "source": [
    "## 4.5: Graphing future value"
   ]
  },
  {
   "cell_type": "code",
   "execution_count": 36,
   "metadata": {
    "collapsed": true
   },
   "outputs": [],
   "source": [
    "from graphics import *  # yuck!\n",
    "\n",
    "def futval_graph():\n",
    "    # Introduction\n",
    "    print(\"This program plots the growth of a 10-year investment\")\n",
    "    \n",
    "    # Get principal and interest rate\n",
    "    principal = float(input(\"Enter the initial principal: \"))\n",
    "    apr = float(input(\"Enter the annualized interest rate: \"))\n",
    "    \n",
    "    # Create a graphics window with labels on left edge\n",
    "    win = GraphWin(\"Investment Growth Chart\", 320, 240)\n",
    "    win.setBackground(\"white\")\n",
    "    Text(Point(20, 230), \" 0.0K\").draw(win)\n",
    "    Text(Point(20, 180), \" 2.5K\").draw(win)\n",
    "    Text(Point(20, 130), \" 5.0K\").draw(win)\n",
    "    Text(Point(20,  80), \" 7.5K\").draw(win)\n",
    "    Text(Point(20,  30), \"10.0K\").draw(win)\n",
    "    \n",
    "    # Draw bar for initial principal\n",
    "    height = principal * 0.02\n",
    "    bar = Rectangle(Point(40, 230), Point(65, 230-height))\n",
    "    bar.setFill(\"green\")\n",
    "    bar.setWidth(2)\n",
    "    bar.draw(win)\n",
    "    \n",
    "    # Draw bars for successive years\n",
    "    for year in range(1,11):\n",
    "        # calculate value for the next year\n",
    "        principal = principal * (1 + apr)\n",
    "        # draw bar for this value\n",
    "        xll = year * 25 + 40\n",
    "        height = principal * 0.02\n",
    "        bar = Rectangle(Point(xll, 230), Point(xll+25, 230-height))\n",
    "        bar.setFill(\"green\")\n",
    "        bar.setWidth(2)\n",
    "        bar.draw(win)\n",
    "\n",
    "    input(\"Press <Enter> to quit\")\n",
    "    win.close()"
   ]
  },
  {
   "cell_type": "code",
   "execution_count": 38,
   "metadata": {},
   "outputs": [
    {
     "name": "stdout",
     "output_type": "stream",
     "text": [
      "This program plots the growth of a 10-year investment\n",
      "Enter the initial principal: 2000\n",
      "Enter the annualized interest rate: 0.1\n",
      "Press <Enter> to quit\n"
     ]
    }
   ],
   "source": [
    "futval_graph()"
   ]
  },
  {
   "cell_type": "markdown",
   "metadata": {},
   "source": [
    "## 4.6: Choosing coordinates"
   ]
  },
  {
   "cell_type": "code",
   "execution_count": 39,
   "metadata": {},
   "outputs": [
    {
     "data": {
      "text/plain": [
       "Line(Point(0.0, 2.0), Point(3.0, 2.0))"
      ]
     },
     "execution_count": 39,
     "metadata": {},
     "output_type": "execute_result"
    }
   ],
   "source": [
    "# Create a default 200x200 window\n",
    "win = GraphWin(\"Tic-Tac-Toe\")\n",
    "\n",
    "# set coordinates to go from (0,0) in the lower left to (3,3) in the top right\n",
    "win.setCoords(0.0, 0.0, 3.0, 3.0)\n",
    "\n",
    "# Draw vertical lines\n",
    "Line(Point(1,0), Point(1,3)).draw(win)\n",
    "Line(Point(2,0), Point(2,3)).draw(win)\n",
    "\n",
    "# Draw horizontal lines\n",
    "Line(Point(0,1), Point(3,1)).draw(win)\n",
    "Line(Point(0,2), Point(3,2)).draw(win)"
   ]
  },
  {
   "cell_type": "code",
   "execution_count": 40,
   "metadata": {
    "collapsed": true
   },
   "outputs": [],
   "source": [
    "win.close()"
   ]
  },
  {
   "cell_type": "code",
   "execution_count": 44,
   "metadata": {},
   "outputs": [
    {
     "data": {
      "text/plain": [
       "Line(Point(0.0, 2.0), Point(3.0, 2.0))"
      ]
     },
     "execution_count": 44,
     "metadata": {},
     "output_type": "execute_result"
    }
   ],
   "source": [
    "# Same thing, but 300x300\n",
    "win = GraphWin(\"Tic-Tac-Toe\", 300, 300)\n",
    "\n",
    "# set coordinates to go from (0,0) in the lower left to (3,3) in the top right\n",
    "win.setCoords(0.0, 0.0, 3.0, 3.0)\n",
    "\n",
    "# Draw vertical lines\n",
    "Line(Point(1,0), Point(1,3)).draw(win)\n",
    "Line(Point(2,0), Point(2,3)).draw(win)\n",
    "\n",
    "# Draw horizontal lines\n",
    "Line(Point(0,1), Point(3,1)).draw(win)\n",
    "Line(Point(0,2), Point(3,2)).draw(win)"
   ]
  },
  {
   "cell_type": "code",
   "execution_count": 45,
   "metadata": {
    "collapsed": true
   },
   "outputs": [],
   "source": [
    "win.close()"
   ]
  },
  {
   "cell_type": "code",
   "execution_count": 46,
   "metadata": {
    "collapsed": true
   },
   "outputs": [],
   "source": [
    "from graphics import *  # yuck!\n",
    "\n",
    "def futval_graph2():\n",
    "    # Introduction\n",
    "    print(\"This program plots the growth of a 10-year investment\")\n",
    "    \n",
    "    # Get principal and interest rate\n",
    "    principal = float(input(\"Enter the initial principal: \"))\n",
    "    apr = float(input(\"Enter the annualized interest rate: \"))\n",
    "    \n",
    "    # Create a graphics window with labels on left edge\n",
    "    win = GraphWin(\"Investment Growth Chart\", 320, 240)\n",
    "    win.setBackground(\"white\")\n",
    "    win.setCoords(-1.75, -200, 11.5, 10400)\n",
    "    Text(Point(-1,     0), \" 0.0K\").draw(win)\n",
    "    Text(Point(-1,  2500), \" 2.5K\").draw(win)\n",
    "    Text(Point(-1,  5000), \" 5.0K\").draw(win)\n",
    "    Text(Point(-1,  7500), \" 7.5K\").draw(win)\n",
    "    Text(Point(-1, 10000), \"10.0K\").draw(win)\n",
    "    \n",
    "    # Draw bar for initial principal\n",
    "    bar = Rectangle(Point(0, 0), Point(1, principal))\n",
    "    bar.setFill(\"green\")\n",
    "    bar.setWidth(2)\n",
    "    bar.draw(win)\n",
    "    \n",
    "    # Draw bars for successive years\n",
    "    for year in range(1,11):\n",
    "        # calculate value for the next year\n",
    "        principal = principal * (1 + apr)\n",
    "        # draw bar for this value\n",
    "        bar = Rectangle(Point(year, 0), Point(year+1, principal))\n",
    "        bar.setFill(\"green\")\n",
    "        bar.setWidth(2)\n",
    "        bar.draw(win)\n",
    "\n",
    "    input(\"Press <Enter> to quit\")\n",
    "    win.close()"
   ]
  },
  {
   "cell_type": "code",
   "execution_count": 47,
   "metadata": {},
   "outputs": [
    {
     "name": "stdout",
     "output_type": "stream",
     "text": [
      "This program plots the growth of a 10-year investment\n",
      "Enter the initial principal: 2000\n",
      "Enter the annualized interest rate: .1\n",
      "Press <Enter> to quit\n"
     ]
    }
   ],
   "source": [
    "futval_graph2()"
   ]
  },
  {
   "cell_type": "markdown",
   "metadata": {
    "collapsed": true
   },
   "source": [
    "## 4.7: Interactive graphics"
   ]
  },
  {
   "cell_type": "code",
   "execution_count": 3,
   "metadata": {
    "collapsed": true
   },
   "outputs": [],
   "source": [
    "from graphics import *\n",
    "\n",
    "def click():\n",
    "    win = GraphWin(\"Click Me!\")\n",
    "    for i in range(10):\n",
    "        p = win.getMouse()\n",
    "        print(\"You clicked at:\", p.getX(), p.getY())\n",
    "    win.close()"
   ]
  },
  {
   "cell_type": "code",
   "execution_count": 4,
   "metadata": {},
   "outputs": [
    {
     "name": "stdout",
     "output_type": "stream",
     "text": [
      "You clicked at: 39.0 65.0\n",
      "You clicked at: 126.0 92.0\n",
      "You clicked at: 163.0 154.0\n",
      "You clicked at: 61.0 172.0\n",
      "You clicked at: 61.0 172.0\n",
      "You clicked at: 124.0 133.0\n",
      "You clicked at: 133.0 120.0\n",
      "You clicked at: 100.0 87.0\n",
      "You clicked at: 100.0 87.0\n",
      "You clicked at: 100.0 130.0\n"
     ]
    }
   ],
   "source": [
    "click()"
   ]
  },
  {
   "cell_type": "code",
   "execution_count": 5,
   "metadata": {
    "collapsed": true
   },
   "outputs": [],
   "source": [
    "from graphics import *\n",
    "\n",
    "def triangle():\n",
    "    win = GraphWin(\"Draw a Triangle\")\n",
    "    win.setCoords(0.0, 0.0, 10.0, 10.0)\n",
    "    message = Text(Point(5, 0.5), \"Click on three points\")\n",
    "    message.draw(win)\n",
    "    \n",
    "    # Get and draw three vertices of triangle\n",
    "    p1 = win.getMouse()\n",
    "    p1.draw(win)\n",
    "    p2 = win.getMouse()\n",
    "    p2.draw(win)\n",
    "    p3 = win.getMouse()\n",
    "    p3.draw(win)\n",
    "    \n",
    "    # Use polygon object to draw the triangle\n",
    "    triangle = Polygon(p1,p2,p3)\n",
    "    triangle.setFill(\"peachpuff\")\n",
    "    triangle.setOutline(\"cyan\")\n",
    "    triangle.draw(win)\n",
    "    \n",
    "    # Wait for another click to exit\n",
    "    message.setText(\"Click anywhere to quit.\")\n",
    "    win.getMouse()\n",
    "    win.close()"
   ]
  },
  {
   "cell_type": "code",
   "execution_count": 7,
   "metadata": {},
   "outputs": [],
   "source": [
    "triangle()"
   ]
  },
  {
   "cell_type": "code",
   "execution_count": 8,
   "metadata": {
    "collapsed": true
   },
   "outputs": [],
   "source": [
    "from graphics import *\n",
    "\n",
    "def clickntype():\n",
    "    win = GraphWin(\"Click and Type\", 400, 400)\n",
    "    for i in range(10):\n",
    "        pt = win.getMouse()\n",
    "        key = win.getKey()\n",
    "        label = Text(pt, key)\n",
    "        label.draw(win)\n",
    "    win.close()"
   ]
  },
  {
   "cell_type": "code",
   "execution_count": 9,
   "metadata": {
    "collapsed": true
   },
   "outputs": [],
   "source": [
    "clickntype()"
   ]
  },
  {
   "cell_type": "code",
   "execution_count": 12,
   "metadata": {
    "collapsed": true
   },
   "outputs": [],
   "source": [
    "# Program to convert Celsius to Fahrenheit \n",
    "# using a simple graphical interface\n",
    "\n",
    "from graphics import *\n",
    "\n",
    "def convert_gui():\n",
    "    win = GraphWin(\"Celsius Converter\", 400, 300)\n",
    "    win.setCoords(0.0, 0.0, 3.0, 4.0)\n",
    "    \n",
    "    # Draw the interface\n",
    "    Text(Point(1,3), \"   Celsius Temperature:\").draw(win)\n",
    "    Text(Point(1,1), \"Fahrenheit Temperature:\").draw(win)\n",
    "    inputText = Entry(Point(2.25, 3), 5)\n",
    "    inputText.setText(\"0.0\")\n",
    "    inputText.draw(win)\n",
    "    outputText = Text(Point(2.25, 1), \"\")\n",
    "    outputText.draw(win)\n",
    "    button = Text(Point(1.5, 2.0), \"Convert It\")\n",
    "    button.draw(win)\n",
    "    Rectangle(Point(1,1.5), Point(2,2.5)).draw(win)\n",
    "    \n",
    "    # Wait for a mouse click\n",
    "    win.getMouse()\n",
    "    \n",
    "    # Convert input\n",
    "    celsius = float(inputText.getText())\n",
    "    fahrenheit = celsius * 9.0 / 5.0 + 32\n",
    "    \n",
    "    # Display output and change button\n",
    "    outputText.setText(round(fahrenheit,2))\n",
    "    button.setText(\"Quit\")\n",
    "    \n",
    "    # Wait for click and then quit\n",
    "    win.getMouse()\n",
    "    win.close()"
   ]
  },
  {
   "cell_type": "code",
   "execution_count": 14,
   "metadata": {},
   "outputs": [],
   "source": [
    "convert_gui()"
   ]
  },
  {
   "cell_type": "code",
   "execution_count": null,
   "metadata": {
    "collapsed": true
   },
   "outputs": [],
   "source": []
  }
 ],
 "metadata": {
  "kernelspec": {
   "display_name": "Python 3",
   "language": "python",
   "name": "python3"
  },
  "language_info": {
   "codemirror_mode": {
    "name": "ipython",
    "version": 3
   },
   "file_extension": ".py",
   "mimetype": "text/x-python",
   "name": "python",
   "nbconvert_exporter": "python",
   "pygments_lexer": "ipython3",
   "version": "3.5.2"
  }
 },
 "nbformat": 4,
 "nbformat_minor": 2
}
