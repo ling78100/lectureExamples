{
 "cells": [
  {
   "cell_type": "markdown",
   "metadata": {},
   "source": [
    "# Lecture 5: Decision structures, objects and graphics"
   ]
  },
  {
   "cell_type": "markdown",
   "metadata": {},
   "source": [
    "## Homework 1 discussion"
   ]
  },
  {
   "cell_type": "code",
   "execution_count": 2,
   "metadata": {
    "collapsed": true
   },
   "outputs": [],
   "source": [
    "# Compute the Nth fibonacci number\n",
    "def fib():\n",
    "    N = int(input(\"Which fibonacci number would you like? \"))\n",
    "    cur = 1\n",
    "    last = 1\n",
    "    if N < 1:\n",
    "        print(\"Can't do\", N)\n",
    "    elif N == 1:\n",
    "        print(\"fib 1 = 1\")\n",
    "    elif N == 2:\n",
    "        print(\"fib 2 = 1\")\n",
    "    else:\n",
    "        for i in range(2,N):\n",
    "            tmp = cur\n",
    "            cur = cur + last\n",
    "            last = tmp\n",
    "        print(\"fib\", N, \"=\", cur)"
   ]
  },
  {
   "cell_type": "code",
   "execution_count": 3,
   "metadata": {},
   "outputs": [
    {
     "name": "stdout",
     "output_type": "stream",
     "text": [
      "Which fibonacci number would you like? 5\n",
      "fib 5 = 5\n"
     ]
    }
   ],
   "source": [
    "fib()"
   ]
  },
  {
   "cell_type": "code",
   "execution_count": 4,
   "metadata": {},
   "outputs": [
    {
     "name": "stdout",
     "output_type": "stream",
     "text": [
      "Which fibonacci number would you like? 8\n",
      "fib 8 = 21\n"
     ]
    }
   ],
   "source": [
    "fib()"
   ]
  },
  {
   "cell_type": "code",
   "execution_count": 5,
   "metadata": {
    "collapsed": true
   },
   "outputs": [],
   "source": [
    "# Compute the Nth fibonacci number\n",
    "def fib():\n",
    "    N = int(input(\"Which fibonacci number would you like? \"))\n",
    "    cur = 0\n",
    "    last = -1\n",
    "    if N < 1:\n",
    "        print(\"Can't do\", N)\n",
    "    else:\n",
    "        for i in range(2,N):\n",
    "            tmp = cur\n",
    "            cur = cur + last\n",
    "            last = tmp\n",
    "        print(\"fib\", N, \"=\", cur)"
   ]
  },
  {
   "cell_type": "code",
   "execution_count": 6,
   "metadata": {},
   "outputs": [
    {
     "name": "stdout",
     "output_type": "stream",
     "text": [
      "Which fibonacci number would you like? 8\n",
      "fib 8 = -8\n"
     ]
    }
   ],
   "source": [
    "fib()"
   ]
  },
  {
   "cell_type": "code",
   "execution_count": 15,
   "metadata": {
    "collapsed": true
   },
   "outputs": [],
   "source": [
    "# Compute the Nth fibonacci number\n",
    "def fib():\n",
    "    N = int(input(\"Which fibonacci number would you like? \"))\n",
    "    cur = 1\n",
    "    last = 0\n",
    "    if N < 1:\n",
    "        print(\"Can't do\", N)\n",
    "    elif N == 1:\n",
    "        print(\"fib 1 = 1\")\n",
    "    else:\n",
    "        for i in range(N-1):\n",
    "            cur, last = cur+last, cur\n",
    "        print(\"fib\", N, \"=\", cur)"
   ]
  },
  {
   "cell_type": "code",
   "execution_count": 16,
   "metadata": {},
   "outputs": [
    {
     "name": "stdout",
     "output_type": "stream",
     "text": [
      "Which fibonacci number would you like? 8\n",
      "fib 8 = 21\n"
     ]
    }
   ],
   "source": [
    "fib()"
   ]
  },
  {
   "cell_type": "markdown",
   "metadata": {},
   "source": [
    "## Decision structures"
   ]
  },
  {
   "cell_type": "code",
   "execution_count": 19,
   "metadata": {
    "collapsed": true
   },
   "outputs": [],
   "source": [
    "import math\n",
    "\n",
    "def quadratic5():\n",
    "    print(\"This program finds the real solutions to a quadratic\\n\")\n",
    "    \n",
    "    try:\n",
    "        a = float(input(\"Enter coefficient a: \"))\n",
    "        b = float(input(\"Enter coefficient b: \"))\n",
    "        c = float(input(\"Enter coefficient c: \"))\n",
    "        discRoot = math.sqrt(b * b - 4 * a * c)\n",
    "        root1 = (-b + discRoot) / (2*a)\n",
    "        root2 = (-b - discRoot) / (2*a)\n",
    "        print(\"\\nThe solutions are:\", root1, root2)\n",
    "    except ValueError:\n",
    "        print(\"\\nNo real roots\")"
   ]
  },
  {
   "cell_type": "code",
   "execution_count": 20,
   "metadata": {},
   "outputs": [
    {
     "name": "stdout",
     "output_type": "stream",
     "text": [
      "This program finds the real solutions to a quadratic\n",
      "\n",
      "Enter coefficient a: 1\n",
      "Enter coefficient b: 2\n",
      "Enter coefficient c: 3\n",
      "\n",
      "No real roots\n"
     ]
    }
   ],
   "source": [
    "quadratic5()"
   ]
  },
  {
   "cell_type": "code",
   "execution_count": 21,
   "metadata": {},
   "outputs": [
    {
     "name": "stdout",
     "output_type": "stream",
     "text": [
      "This program finds the real solutions to a quadratic\n",
      "\n",
      "Enter coefficient a: 3\n",
      "Enter coefficient b: 2\n",
      "Enter coefficient c: 1\n",
      "\n",
      "No real roots\n"
     ]
    }
   ],
   "source": [
    "quadratic5()"
   ]
  },
  {
   "cell_type": "code",
   "execution_count": 22,
   "metadata": {},
   "outputs": [
    {
     "name": "stdout",
     "output_type": "stream",
     "text": [
      "This program finds the real solutions to a quadratic\n",
      "\n",
      "Enter coefficient a: 1\n",
      "Enter coefficient b: 3\n",
      "Enter coefficient c: 2\n",
      "\n",
      "The solutions are: -1.0 -2.0\n"
     ]
    }
   ],
   "source": [
    "quadratic5()"
   ]
  },
  {
   "cell_type": "code",
   "execution_count": 24,
   "metadata": {},
   "outputs": [
    {
     "name": "stdout",
     "output_type": "stream",
     "text": [
      "This program finds the real solutions to a quadratic\n",
      "\n",
      "Enter coefficient a: x\n",
      "\n",
      "No real roots\n"
     ]
    }
   ],
   "source": [
    "quadratic5()"
   ]
  },
  {
   "cell_type": "code",
   "execution_count": 25,
   "metadata": {},
   "outputs": [
    {
     "ename": "ValueError",
     "evalue": "could not convert string to float: 'x'",
     "output_type": "error",
     "traceback": [
      "\u001b[0;31m---------------------------------------------------------------------------\u001b[0m",
      "\u001b[0;31mValueError\u001b[0m                                Traceback (most recent call last)",
      "\u001b[0;32m<ipython-input-25-7067003514ed>\u001b[0m in \u001b[0;36m<module>\u001b[0;34m()\u001b[0m\n\u001b[0;32m----> 1\u001b[0;31m \u001b[0mfloat\u001b[0m\u001b[0;34m(\u001b[0m\u001b[0;34m'x'\u001b[0m\u001b[0;34m)\u001b[0m\u001b[0;34m\u001b[0m\u001b[0m\n\u001b[0m",
      "\u001b[0;31mValueError\u001b[0m: could not convert string to float: 'x'"
     ]
    }
   ],
   "source": [
    "float('x')"
   ]
  },
  {
   "cell_type": "code",
   "execution_count": 26,
   "metadata": {},
   "outputs": [
    {
     "ename": "ValueError",
     "evalue": "math domain error",
     "output_type": "error",
     "traceback": [
      "\u001b[0;31m---------------------------------------------------------------------------\u001b[0m",
      "\u001b[0;31mValueError\u001b[0m                                Traceback (most recent call last)",
      "\u001b[0;32m<ipython-input-26-6557c4e6d55f>\u001b[0m in \u001b[0;36m<module>\u001b[0;34m()\u001b[0m\n\u001b[1;32m      1\u001b[0m \u001b[0;32mimport\u001b[0m \u001b[0mmath\u001b[0m\u001b[0;34m\u001b[0m\u001b[0m\n\u001b[0;32m----> 2\u001b[0;31m \u001b[0mmath\u001b[0m\u001b[0;34m.\u001b[0m\u001b[0msqrt\u001b[0m\u001b[0;34m(\u001b[0m\u001b[0;34m-\u001b[0m\u001b[0;36m1\u001b[0m\u001b[0;34m)\u001b[0m\u001b[0;34m\u001b[0m\u001b[0m\n\u001b[0m",
      "\u001b[0;31mValueError\u001b[0m: math domain error"
     ]
    }
   ],
   "source": [
    "import math\n",
    "math.sqrt(-1)"
   ]
  },
  {
   "cell_type": "code",
   "execution_count": 27,
   "metadata": {
    "collapsed": true
   },
   "outputs": [],
   "source": [
    "import math\n",
    "\n",
    "def quadratic6():\n",
    "    print(\"This program finds the real solutions to a quadratic\\n\")\n",
    "    \n",
    "    try:\n",
    "        a = float(input(\"Enter coefficient a: \"))\n",
    "        b = float(input(\"Enter coefficient b: \"))\n",
    "        c = float(input(\"Enter coefficient c: \"))\n",
    "        discRoot = math.sqrt(b * b - 4 * a * c)\n",
    "        root1 = (-b + discRoot) / (2*a)\n",
    "        root2 = (-b - discRoot) / (2*a)\n",
    "        print(\"\\nThe solutions are:\", root1, root2)\n",
    "    except ValueError as excObj:\n",
    "        if str(excObj) == \"math domain error\":\n",
    "            print(\"\\nNo real roots\")\n",
    "        else:\n",
    "            print(\"\\nInvalid coefficient given\")\n",
    "    except:\n",
    "        print(\"\\nSomething went wrong, sorry!\")"
   ]
  },
  {
   "cell_type": "code",
   "execution_count": 28,
   "metadata": {},
   "outputs": [
    {
     "name": "stdout",
     "output_type": "stream",
     "text": [
      "This program finds the real solutions to a quadratic\n",
      "\n",
      "Enter coefficient a: 1\n",
      "Enter coefficient b: 2\n",
      "Enter coefficient c: 3\n",
      "\n",
      "No real roots\n"
     ]
    }
   ],
   "source": [
    "quadratic6()"
   ]
  },
  {
   "cell_type": "code",
   "execution_count": 29,
   "metadata": {},
   "outputs": [
    {
     "name": "stdout",
     "output_type": "stream",
     "text": [
      "This program finds the real solutions to a quadratic\n",
      "\n",
      "Enter coefficient a: x\n",
      "\n",
      "Invalid coefficient given\n"
     ]
    }
   ],
   "source": [
    "quadratic6()"
   ]
  },
  {
   "cell_type": "code",
   "execution_count": null,
   "metadata": {
    "collapsed": true
   },
   "outputs": [],
   "source": [
    "# Find the biggest of three numbers\n",
    "def maxOfThree():\n",
    "    x1, x2, x3 = eval(input(\"Please enter three values: \"))\n",
    "    \n",
    "    # missing code sets max to the value of the largest\n",
    "    # One of:\n",
    "    # maxval = x1\n",
    "    # maxval = x2\n",
    "    # maxval = x3\n",
    "    \n",
    "    print(\"The largest value is\", maxval)\n",
    "    "
   ]
  },
  {
   "cell_type": "code",
   "execution_count": 37,
   "metadata": {},
   "outputs": [
    {
     "name": "stdout",
     "output_type": "stream",
     "text": [
      "[96, 36, 78, 59, 15, 93, 45, 57, 86, 19, 32, 83, 76, 77, 27, 13, 35, 47, 10, 56, 66, 40, 92, 55, 25, 39, 99, 87, 98, 80, 9, 79, 2, 82, 94, 44, 4, 51, 28, 53, 12, 74, 5, 64, 58, 21, 17, 90, 1, 49, 84, 34, 23, 97, 62, 33, 67, 69, 14, 20, 60, 50, 46, 73, 42, 68, 88, 72, 48, 52, 71, 11, 24, 85, 81, 29, 75, 63, 7, 61, 91, 18, 8, 22, 54, 30, 43, 16, 65, 0, 38, 26, 41, 89, 31, 37, 70, 6, 95, 3]\n"
     ]
    }
   ],
   "source": [
    "import random\n",
    "\n",
    "ell = list(range(100))\n",
    "random.shuffle(ell)\n",
    "print(ell)"
   ]
  },
  {
   "cell_type": "code",
   "execution_count": 35,
   "metadata": {
    "collapsed": true
   },
   "outputs": [],
   "source": [
    "# Find the maximum value of a set of numbers\n",
    "def maxn():\n",
    "    n = int(input(\"How many numbers are there? \"))\n",
    "\n",
    "    # Set max to be the first value\n",
    "    maxval = float(input(\"Enter a number >> \"))\n",
    "\n",
    "    # Now compare the n-1 successive values\n",
    "    for i in range(n-1):\n",
    "        x = float(input(\"Enter a number >> \"))\n",
    "        if x > maxval:\n",
    "            maxval = x\n",
    "        \n",
    "    print(\"The largest value is\", maxval)"
   ]
  },
  {
   "cell_type": "code",
   "execution_count": 36,
   "metadata": {},
   "outputs": [
    {
     "name": "stdout",
     "output_type": "stream",
     "text": [
      "How many numbers are there? 5\n",
      "Enter a number >> 4\n",
      "Enter a number >> 6\n",
      "Enter a number >> 5\n",
      "Enter a number >> 3\n",
      "Enter a number >> 2\n",
      "The largest value is 6.0\n"
     ]
    }
   ],
   "source": [
    "maxn()"
   ]
  },
  {
   "cell_type": "markdown",
   "metadata": {},
   "source": [
    "## Objects and Graphics"
   ]
  },
  {
   "cell_type": "code",
   "execution_count": 38,
   "metadata": {
    "collapsed": true
   },
   "outputs": [],
   "source": [
    "import graphics"
   ]
  },
  {
   "cell_type": "code",
   "execution_count": 39,
   "metadata": {
    "collapsed": true
   },
   "outputs": [],
   "source": [
    "win = graphics.GraphWin()"
   ]
  },
  {
   "cell_type": "code",
   "execution_count": 40,
   "metadata": {
    "collapsed": true
   },
   "outputs": [],
   "source": [
    "win.close()"
   ]
  },
  {
   "cell_type": "code",
   "execution_count": 41,
   "metadata": {
    "collapsed": true
   },
   "outputs": [],
   "source": [
    "from graphics import *\n",
    "win = GraphWin()"
   ]
  },
  {
   "cell_type": "code",
   "execution_count": 42,
   "metadata": {
    "collapsed": true
   },
   "outputs": [],
   "source": [
    "win.close()"
   ]
  },
  {
   "cell_type": "code",
   "execution_count": 43,
   "metadata": {},
   "outputs": [
    {
     "data": {
      "text/plain": [
       "50.0"
      ]
     },
     "execution_count": 43,
     "metadata": {},
     "output_type": "execute_result"
    }
   ],
   "source": [
    "p = Point(50, 60)\n",
    "p.getX()"
   ]
  },
  {
   "cell_type": "code",
   "execution_count": 44,
   "metadata": {},
   "outputs": [
    {
     "data": {
      "text/plain": [
       "60.0"
      ]
     },
     "execution_count": 44,
     "metadata": {},
     "output_type": "execute_result"
    }
   ],
   "source": [
    "p.getY()"
   ]
  },
  {
   "cell_type": "code",
   "execution_count": 45,
   "metadata": {
    "collapsed": true
   },
   "outputs": [],
   "source": [
    "win = GraphWin()"
   ]
  },
  {
   "cell_type": "code",
   "execution_count": 46,
   "metadata": {},
   "outputs": [
    {
     "data": {
      "text/plain": [
       "Point(50.0, 60.0)"
      ]
     },
     "execution_count": 46,
     "metadata": {},
     "output_type": "execute_result"
    }
   ],
   "source": [
    "p.draw(win)"
   ]
  },
  {
   "cell_type": "code",
   "execution_count": 47,
   "metadata": {},
   "outputs": [
    {
     "data": {
      "text/plain": [
       "Point(140.0, 100.0)"
      ]
     },
     "execution_count": 47,
     "metadata": {},
     "output_type": "execute_result"
    }
   ],
   "source": [
    "p2 = Point(140, 100)\n",
    "p2.draw(win)"
   ]
  },
  {
   "cell_type": "code",
   "execution_count": 48,
   "metadata": {
    "collapsed": true
   },
   "outputs": [],
   "source": [
    "win.close()"
   ]
  },
  {
   "cell_type": "code",
   "execution_count": 50,
   "metadata": {},
   "outputs": [
    {
     "data": {
      "text/plain": [
       "Rectangle(Point(20.0, 150.0), Point(180.0, 199.0))"
      ]
     },
     "execution_count": 50,
     "metadata": {},
     "output_type": "execute_result"
    }
   ],
   "source": [
    "#### Open a graphics window\n",
    "win = GraphWin('Shapes')\n",
    "#### Draw a red circle centered at point (100,100) with radius 30\n",
    "center = Point(100,100)\n",
    "circ = Circle(center, 30)\n",
    "circ.setFill('red')\n",
    "circ.draw(win)\n",
    "#### Put a textual label in the center of the circle\n",
    "label = Text(center, 'Red Circle')\n",
    "label.draw(win)\n",
    "#### Draw a square using a Rectangle object\n",
    "rect = Rectangle(Point(30,30), Point(70,70))\n",
    "rect.draw(win)\n",
    "#### Draw a line segment using a Line object\n",
    "line = Line(Point(20,30), Point(180, 165))\n",
    "line.draw(win)\n",
    "#### Draw an oval using the Oval object\n",
    "oval = Oval(Point(20,150), Point(180,199))\n",
    "oval.draw(win)\n",
    "Rectangle(Point(20,150), Point(180,199)).draw(win)"
   ]
  },
  {
   "cell_type": "code",
   "execution_count": 51,
   "metadata": {
    "collapsed": true
   },
   "outputs": [],
   "source": [
    "circ.move(20,0)"
   ]
  },
  {
   "cell_type": "code",
   "execution_count": 52,
   "metadata": {},
   "outputs": [
    {
     "name": "stdout",
     "output_type": "stream",
     "text": [
      "Left eye at (100.0,50.0)\n",
      "Right eye at (100.0,50.0)\n"
     ]
    }
   ],
   "source": [
    "leftEye = Circle(Point(80, 50), 5)\n",
    "leftEye.setFill('yellow')\n",
    "leftEye.setOutline('red')\n",
    "rightEye = leftEye\n",
    "rightEye.move(20, 0)\n",
    "\n",
    "print(\"Left eye at ({},{})\".format(leftEye.getCenter().getX(), leftEye.getCenter().getY()))\n",
    "print(\"Right eye at ({},{})\".format(rightEye.getCenter().getX(), rightEye.getCenter().getY()))"
   ]
  },
  {
   "cell_type": "code",
   "execution_count": 53,
   "metadata": {},
   "outputs": [
    {
     "name": "stdout",
     "output_type": "stream",
     "text": [
      "Left eye at (80.0,50.0)\n",
      "Right eye at (100.0,50.0)\n"
     ]
    }
   ],
   "source": [
    "## Correct and easier way to create two circles\n",
    "leftEye = Circle(Point(80, 50), 5)\n",
    "leftEye.setFill('yellow')\n",
    "leftEye.setOutline('red')\n",
    "rightEye = leftEye.clone()\n",
    "rightEye.move(20, 0)\n",
    "\n",
    "print(\"Left eye at ({},{})\".format(leftEye.getCenter().getX(), leftEye.getCenter().getY()))\n",
    "print(\"Right eye at ({},{})\".format(rightEye.getCenter().getX(), rightEye.getCenter().getY()))"
   ]
  },
  {
   "cell_type": "code",
   "execution_count": 54,
   "metadata": {},
   "outputs": [
    {
     "data": {
      "text/plain": [
       "Circle(Point(100.0, 50.0), 5)"
      ]
     },
     "execution_count": 54,
     "metadata": {},
     "output_type": "execute_result"
    }
   ],
   "source": [
    "leftEye.draw(win)\n",
    "rightEye.draw(win)"
   ]
  },
  {
   "cell_type": "code",
   "execution_count": 55,
   "metadata": {
    "collapsed": true
   },
   "outputs": [],
   "source": [
    "win.close()"
   ]
  },
  {
   "cell_type": "code",
   "execution_count": 56,
   "metadata": {
    "collapsed": true
   },
   "outputs": [],
   "source": [
    "win.close()"
   ]
  },
  {
   "cell_type": "code",
   "execution_count": null,
   "metadata": {
    "collapsed": true
   },
   "outputs": [],
   "source": []
  }
 ],
 "metadata": {
  "kernelspec": {
   "display_name": "Python 3",
   "language": "python",
   "name": "python3"
  },
  "language_info": {
   "codemirror_mode": {
    "name": "ipython",
    "version": 3
   },
   "file_extension": ".py",
   "mimetype": "text/x-python",
   "name": "python",
   "nbconvert_exporter": "python",
   "pygments_lexer": "ipython3",
   "version": "3.5.2"
  }
 },
 "nbformat": 4,
 "nbformat_minor": 2
}
