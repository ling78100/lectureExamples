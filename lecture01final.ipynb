{
 "cells": [
  {
   "cell_type": "code",
   "execution_count": 4,
   "metadata": {},
   "outputs": [
    {
     "name": "stdout",
     "output_type": "stream",
     "text": [
      "Hello world!\n"
     ]
    }
   ],
   "source": [
    "print(\"Hello world!\")"
   ]
  },
  {
   "cell_type": "code",
   "execution_count": 5,
   "metadata": {},
   "outputs": [
    {
     "name": "stdout",
     "output_type": "stream",
     "text": [
      "5\n",
      "2+3 = 5\n"
     ]
    }
   ],
   "source": [
    "print(2+3)\n",
    "print(\"2+3 =\", 2+3)"
   ]
  },
  {
   "cell_type": "code",
   "execution_count": 11,
   "metadata": {},
   "outputs": [
    {
     "name": "stdout",
     "output_type": "stream",
     "text": [
      "Computers are fun and exciting!\n"
     ]
    }
   ],
   "source": [
    "def hello():\n",
    "    print(\"Hello\")\n",
    "print(\"Computers are fun and exciting!\")"
   ]
  },
  {
   "cell_type": "code",
   "execution_count": null,
   "metadata": {
    "collapsed": true
   },
   "outputs": [],
   "source": [
    "def hello2():\n",
    "    print(\"Is it me you're looking for?\")\n",
    "    "
   ]
  },
  {
   "cell_type": "code",
   "execution_count": 13,
   "metadata": {},
   "outputs": [
    {
     "name": "stdout",
     "output_type": "stream",
     "text": [
      "Hello\n"
     ]
    }
   ],
   "source": [
    "hello()"
   ]
  },
  {
   "cell_type": "code",
   "execution_count": 16,
   "metadata": {},
   "outputs": [
    {
     "data": {
      "text/plain": [
       "<function __main__.hello>"
      ]
     },
     "execution_count": 16,
     "metadata": {},
     "output_type": "execute_result"
    }
   ],
   "source": [
    "hello"
   ]
  },
  {
   "cell_type": "code",
   "execution_count": 28,
   "metadata": {
    "collapsed": true
   },
   "outputs": [],
   "source": [
    "def greet(person):\n",
    "    print(\"hello, %s, how are you?\" % person)"
   ]
  },
  {
   "cell_type": "code",
   "execution_count": 29,
   "metadata": {},
   "outputs": [
    {
     "name": "stdout",
     "output_type": "stream",
     "text": [
      "hello, Terry, how are you?\n"
     ]
    }
   ],
   "source": [
    "greet(\"Terry\")"
   ]
  },
  {
   "cell_type": "code",
   "execution_count": 19,
   "metadata": {},
   "outputs": [
    {
     "name": "stdout",
     "output_type": "stream",
     "text": [
      "Hello, Paula\n",
      "How are you?\n"
     ]
    }
   ],
   "source": [
    "greet(\"Paula\")"
   ]
  },
  {
   "cell_type": "code",
   "execution_count": 44,
   "metadata": {},
   "outputs": [
    {
     "name": "stdout",
     "output_type": "stream",
     "text": [
      "Overwriting chaos.py\n"
     ]
    }
   ],
   "source": [
    "%%writefile chaos.py\n",
    "# A simple program illustrating chaotic behavior\n",
    "def main():\n",
    "    print(\"This program illustrates a chaotic function\")\n",
    "    x = eval(input(\"Enter a number between 0 and 1: \"))\n",
    "    for i in range(10):\n",
    "        x = 3.9 * x * (1 - x)\n",
    "        print(x)\n",
    "\n",
    "main()"
   ]
  },
  {
   "cell_type": "code",
   "execution_count": 46,
   "metadata": {},
   "outputs": [
    {
     "name": "stdout",
     "output_type": "stream",
     "text": [
      "This program illustrates a chaotic function\n",
      "Enter a number between 0 and 1: 0.5\n",
      "0.975\n",
      "0.09506250000000008\n",
      "0.33549992226562525\n",
      "0.8694649252590003\n",
      "0.44263310911310905\n",
      "0.962165255336889\n",
      "0.1419727793616139\n",
      "0.4750843861996143\n",
      "0.9725789275369049\n",
      "0.1040097132674683\n"
     ]
    }
   ],
   "source": [
    "# A simple program illustrating chaotic behavior\n",
    "def chaos():\n",
    "    print(\"This program illustrates a chaotic function\")\n",
    "    x = eval(input(\"Enter a number between 0 and 1: \"))\n",
    "    for i in range(10):\n",
    "        x = 3.9 * x * (1 - x)\n",
    "        print(x)\n",
    "\n",
    "chaos()"
   ]
  },
  {
   "cell_type": "code",
   "execution_count": 43,
   "metadata": {},
   "outputs": [
    {
     "name": "stdout",
     "output_type": "stream",
     "text": [
      "This program illustrates a chaotic function\n",
      "Enter a number between 0 and 1: .5\n",
      "0.1040097132674683\n"
     ]
    }
   ],
   "source": [
    "%run chaos.py"
   ]
  },
  {
   "cell_type": "code",
   "execution_count": 45,
   "metadata": {},
   "outputs": [
    {
     "name": "stdout",
     "output_type": "stream",
     "text": [
      "This program illustrates a chaotic function\n",
      "Enter a number between 0 and 1: .5\n",
      "0.975\n",
      "0.09506250000000008\n",
      "0.33549992226562525\n",
      "0.8694649252590003\n",
      "0.44263310911310905\n",
      "0.962165255336889\n",
      "0.1419727793616139\n",
      "0.4750843861996143\n",
      "0.9725789275369049\n",
      "0.1040097132674683\n"
     ]
    }
   ],
   "source": [
    "%run chaos.py"
   ]
  },
  {
   "cell_type": "code",
   "execution_count": null,
   "metadata": {
    "collapsed": true
   },
   "outputs": [],
   "source": [
    "%%writefile practicum_01.py\n",
    "# Practice problem 2: Add two\n",
    "# A simple program that adds 2 to a number ten times\n",
    "def main():\n",
    "    print(\"This program adds 2 to a number ten times\")\n",
    "    x = eval(input(\"Enter a number: \"))\n",
    "    for i in range(10):\n",
    "        x = x + 2\n",
    "        print(x)\n",
    "        \n",
    "main()"
   ]
  },
  {
   "cell_type": "code",
   "execution_count": null,
   "metadata": {
    "collapsed": true
   },
   "outputs": [],
   "source": [
    "%run practicum_01.py"
   ]
  },
  {
   "cell_type": "code",
   "execution_count": 39,
   "metadata": {},
   "outputs": [
    {
     "name": "stdout",
     "output_type": "stream",
     "text": [
      "Give me some input: print(\"hello\")\n",
      "hello\n",
      "None\n"
     ]
    }
   ],
   "source": [
    "x = eval(input(\"Give me some input: \"))\n",
    "print(x)"
   ]
  },
  {
   "cell_type": "code",
   "execution_count": 40,
   "metadata": {},
   "outputs": [
    {
     "data": {
      "text/plain": [
       "range(0, 10)"
      ]
     },
     "execution_count": 40,
     "metadata": {},
     "output_type": "execute_result"
    }
   ],
   "source": [
    "range(10)"
   ]
  },
  {
   "cell_type": "code",
   "execution_count": 41,
   "metadata": {},
   "outputs": [
    {
     "name": "stdout",
     "output_type": "stream",
     "text": [
      "range(0, 10)\n"
     ]
    }
   ],
   "source": [
    "print(range(10))"
   ]
  },
  {
   "cell_type": "code",
   "execution_count": null,
   "metadata": {
    "collapsed": true
   },
   "outputs": [],
   "source": []
  }
 ],
 "metadata": {
  "kernelspec": {
   "display_name": "Python 3",
   "language": "python",
   "name": "python3"
  },
  "language_info": {
   "codemirror_mode": {
    "name": "ipython",
    "version": 3
   },
   "file_extension": ".py",
   "mimetype": "text/x-python",
   "name": "python",
   "nbconvert_exporter": "python",
   "pygments_lexer": "ipython3",
   "version": "3.5.2"
  }
 },
 "nbformat": 4,
 "nbformat_minor": 2
}
