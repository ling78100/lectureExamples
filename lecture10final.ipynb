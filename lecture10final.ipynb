{
 "cells": [
  {
   "cell_type": "markdown",
   "metadata": {},
   "source": [
    "# Lecture 10 in-class notebook"
   ]
  },
  {
   "cell_type": "markdown",
   "metadata": {},
   "source": [
    "## Finishing lecture 9"
   ]
  },
  {
   "cell_type": "code",
   "execution_count": 2,
   "metadata": {
    "collapsed": true
   },
   "outputs": [],
   "source": [
    "def wordfreq():\n",
    "    print(\"This program analyzes word frequency in a file\")\n",
    "    print(\"and prints a report on the n most frequent words.\\n\")\n",
    "\n",
    "    # get the sequence of words from the file\n",
    "    fname = input(\"File to analyze: \")\n",
    "    text = open(fname,'r').read()\n",
    "    text = text.lower()\n",
    "    for ch in '!\"#$%&()*+,-./:;<=>?@[\\\\]^_`{|}~':\n",
    "        text = text.replace(ch, ' ')\n",
    "    words = text.split()\n",
    "\n",
    "    # construct a dictionary of word counts\n",
    "    counts = {}\n",
    "    for w in words:\n",
    "        counts[w] = counts.get(w,0) + 1\n",
    "        \n",
    "    return counts"
   ]
  },
  {
   "cell_type": "code",
   "execution_count": 4,
   "metadata": {},
   "outputs": [
    {
     "name": "stdout",
     "output_type": "stream",
     "text": [
      "This program analyzes word frequency in a file\n",
      "and prints a report on the n most frequent words.\n",
      "\n",
      "File to analyze: chapter06_bday.txt\n"
     ]
    }
   ],
   "source": [
    "counts = wordfreq()"
   ]
  },
  {
   "cell_type": "code",
   "execution_count": 5,
   "metadata": {},
   "outputs": [
    {
     "data": {
      "text/plain": [
       "{'birthday': 12,\n",
       " 'dear': 3,\n",
       " 'elmer': 1,\n",
       " 'fred': 1,\n",
       " 'happy': 12,\n",
       " 'lucy': 1,\n",
       " 'to': 9,\n",
       " 'you': 9}"
      ]
     },
     "execution_count": 5,
     "metadata": {},
     "output_type": "execute_result"
    }
   ],
   "source": [
    "counts"
   ]
  },
  {
   "cell_type": "code",
   "execution_count": 8,
   "metadata": {
    "collapsed": true
   },
   "outputs": [],
   "source": [
    "keys = list(counts.keys())"
   ]
  },
  {
   "cell_type": "code",
   "execution_count": 9,
   "metadata": {},
   "outputs": [
    {
     "data": {
      "text/plain": [
       "['to', 'you', 'fred', 'happy', 'lucy', 'elmer', 'dear', 'birthday']"
      ]
     },
     "execution_count": 9,
     "metadata": {},
     "output_type": "execute_result"
    }
   ],
   "source": [
    "keys"
   ]
  },
  {
   "cell_type": "code",
   "execution_count": 10,
   "metadata": {},
   "outputs": [
    {
     "data": {
      "text/plain": [
       "['birthday', 'dear', 'elmer', 'fred', 'happy', 'lucy', 'to', 'you']"
      ]
     },
     "execution_count": 10,
     "metadata": {},
     "output_type": "execute_result"
    }
   ],
   "source": [
    "keys.sort()\n",
    "keys"
   ]
  },
  {
   "cell_type": "code",
   "execution_count": 11,
   "metadata": {},
   "outputs": [
    {
     "name": "stdout",
     "output_type": "stream",
     "text": [
      "birthday -> 12\n",
      "dear -> 3\n",
      "elmer -> 1\n",
      "fred -> 1\n",
      "happy -> 12\n",
      "lucy -> 1\n",
      "to -> 9\n",
      "you -> 9\n"
     ]
    }
   ],
   "source": [
    "for k in keys:\n",
    "    print(k, \"->\", counts[k])"
   ]
  },
  {
   "cell_type": "code",
   "execution_count": 13,
   "metadata": {},
   "outputs": [],
   "source": [
    "items = list(counts.items())"
   ]
  },
  {
   "cell_type": "code",
   "execution_count": 14,
   "metadata": {},
   "outputs": [
    {
     "data": {
      "text/plain": [
       "[('birthday', 12),\n",
       " ('dear', 3),\n",
       " ('elmer', 1),\n",
       " ('fred', 1),\n",
       " ('happy', 12),\n",
       " ('lucy', 1),\n",
       " ('to', 9),\n",
       " ('you', 9)]"
      ]
     },
     "execution_count": 14,
     "metadata": {},
     "output_type": "execute_result"
    }
   ],
   "source": [
    "items.sort()\n",
    "items"
   ]
  },
  {
   "cell_type": "code",
   "execution_count": 31,
   "metadata": {
    "collapsed": true
   },
   "outputs": [],
   "source": [
    "def byFreq2(pair):\n",
    "    return (-pair[1], pair[0])"
   ]
  },
  {
   "cell_type": "code",
   "execution_count": 32,
   "metadata": {
    "collapsed": true
   },
   "outputs": [],
   "source": [
    "def byFreq(pair):\n",
    "    return pair[1]"
   ]
  },
  {
   "cell_type": "code",
   "execution_count": 34,
   "metadata": {},
   "outputs": [
    {
     "data": {
      "text/plain": [
       "[('birthday', 12),\n",
       " ('happy', 12),\n",
       " ('to', 9),\n",
       " ('you', 9),\n",
       " ('dear', 3),\n",
       " ('elmer', 1),\n",
       " ('fred', 1),\n",
       " ('lucy', 1)]"
      ]
     },
     "execution_count": 34,
     "metadata": {},
     "output_type": "execute_result"
    }
   ],
   "source": [
    "items.sort()\n",
    "items.sort(key=byFreq, reverse=True)\n",
    "items"
   ]
  },
  {
   "cell_type": "code",
   "execution_count": 35,
   "metadata": {},
   "outputs": [
    {
     "data": {
      "text/plain": [
       "[('birthday', 12),\n",
       " ('happy', 12),\n",
       " ('to', 9),\n",
       " ('you', 9),\n",
       " ('dear', 3),\n",
       " ('elmer', 1),\n",
       " ('fred', 1),\n",
       " ('lucy', 1)]"
      ]
     },
     "execution_count": 35,
     "metadata": {},
     "output_type": "execute_result"
    }
   ],
   "source": [
    "items.sort(key=byFreq2)\n",
    "items"
   ]
  },
  {
   "cell_type": "code",
   "execution_count": 20,
   "metadata": {},
   "outputs": [
    {
     "data": {
      "text/plain": [
       "('fred', 1)"
      ]
     },
     "execution_count": 20,
     "metadata": {},
     "output_type": "execute_result"
    }
   ],
   "source": [
    "items[1]"
   ]
  },
  {
   "cell_type": "code",
   "execution_count": 26,
   "metadata": {
    "collapsed": true
   },
   "outputs": [],
   "source": [
    "items.sort?"
   ]
  },
  {
   "cell_type": "code",
   "execution_count": 37,
   "metadata": {},
   "outputs": [
    {
     "name": "stdout",
     "output_type": "stream",
     "text": [
      "birthday          12\n",
      "happy             12\n",
      "to                 9\n",
      "you                9\n",
      "dear               3\n",
      "elmer              1\n",
      "fred               1\n",
      "lucy               1\n"
     ]
    }
   ],
   "source": [
    "for i in range(len(items)):\n",
    "    word, count = items[i]\n",
    "    print(\"{0:<15}{1:>5}\".format(word, count))"
   ]
  },
  {
   "cell_type": "code",
   "execution_count": 38,
   "metadata": {
    "collapsed": true
   },
   "outputs": [],
   "source": [
    "def byFreq(pair):\n",
    "    return pair[1]\n",
    "\n",
    "def wordfreq2():\n",
    "    print(\"This program analyzes word frequency in a file\")\n",
    "    print(\"and prints a report on the n most frequent words.\\n\")\n",
    "\n",
    "    # get the sequence of words from the file\n",
    "    fname = input(\"File to analyze: \")\n",
    "    text = open(fname,'r').read()\n",
    "    text = text.lower()\n",
    "    for ch in '!\"#$%&()*+,-./:;<=>?@[\\\\]^_`{|}~':\n",
    "        text = text.replace(ch, ' ')\n",
    "    words = text.split()\n",
    "\n",
    "    # construct a dictionary of word counts\n",
    "    counts = {}\n",
    "    for w in words:\n",
    "        counts[w] = counts.get(w,0) + 1\n",
    "\n",
    "    # output analysis of n most frequent words.\n",
    "    n = int(input(\"Output analysis of how many words? \"))\n",
    "    items = list(counts.items())\n",
    "    items.sort()\n",
    "    items.sort(key=byFreq, reverse=True)\n",
    "    for i in range(n):\n",
    "        word, count = items[i]\n",
    "        print(\"{0:<15}{1:>5}\".format(word, count))\n"
   ]
  },
  {
   "cell_type": "code",
   "execution_count": 39,
   "metadata": {},
   "outputs": [
    {
     "name": "stdout",
     "output_type": "stream",
     "text": [
      "This program analyzes word frequency in a file\n",
      "and prints a report on the n most frequent words.\n",
      "\n",
      "File to analyze: chapter06_bday.txt\n",
      "Output analysis of how many words? 4\n",
      "birthday          12\n",
      "happy             12\n",
      "to                 9\n",
      "you                9\n"
     ]
    }
   ],
   "source": [
    "wordfreq2()"
   ]
  },
  {
   "cell_type": "code",
   "execution_count": 40,
   "metadata": {
    "collapsed": true
   },
   "outputs": [],
   "source": [
    "import math\n",
    "\n",
    "def cball1():\n",
    "    angle = float(input(\"Enter the launch angle (in degreeds): \"))\n",
    "    velocity = float(input(\"Enter the initial velocity (in meters per second): \"))\n",
    "    h0 = float(input(\"Enter the initial height (in meters): \"))\n",
    "    time = float(input(\"Enter the time interval between position calculations: \"))\n",
    "    \n",
    "    xpos = 0.0\n",
    "    ypos = h0\n",
    "    \n",
    "    theta = math.radians(angle)\n",
    "    xvel = velocity * math.cos(theta)\n",
    "    yvel = velocity * math.sin(theta)\n",
    "    \n",
    "    while ypos >= 0.0:\n",
    "        xpos = xpos + time * xvel\n",
    "        yvel1 = yvel - time * 9.8\n",
    "        ypos = ypos + time * (yvel + yvel1)/2\n",
    "        yvel = yvel1\n",
    "        \n",
    "    print(\"Distance traveled: {0:0.1f} meters.\".format(xpos))"
   ]
  },
  {
   "cell_type": "code",
   "execution_count": 41,
   "metadata": {
    "collapsed": true
   },
   "outputs": [],
   "source": [
    "yvel1 = 9.8 - 0.1*9.8"
   ]
  },
  {
   "cell_type": "code",
   "execution_count": 42,
   "metadata": {},
   "outputs": [
    {
     "data": {
      "text/plain": [
       "8.82"
      ]
     },
     "execution_count": 42,
     "metadata": {},
     "output_type": "execute_result"
    }
   ],
   "source": [
    "yvel1"
   ]
  },
  {
   "cell_type": "code",
   "execution_count": 43,
   "metadata": {
    "collapsed": true
   },
   "outputs": [],
   "source": [
    "yvel = 9.8"
   ]
  },
  {
   "cell_type": "code",
   "execution_count": 44,
   "metadata": {},
   "outputs": [
    {
     "data": {
      "text/plain": [
       "9.31"
      ]
     },
     "execution_count": 44,
     "metadata": {},
     "output_type": "execute_result"
    }
   ],
   "source": [
    "(yvel + yvel1)/2"
   ]
  },
  {
   "cell_type": "code",
   "execution_count": 46,
   "metadata": {},
   "outputs": [
    {
     "name": "stdout",
     "output_type": "stream",
     "text": [
      "Enter the launch angle (in degreeds): 45\n",
      "Enter the initial velocity (in meters per second): 45\n",
      "Enter the initial height (in meters): 0\n",
      "Enter the time interval between position calculations: .01\n",
      "Distance traveled: 206.8 meters.\n"
     ]
    }
   ],
   "source": [
    "cball1()"
   ]
  },
  {
   "cell_type": "code",
   "execution_count": 47,
   "metadata": {},
   "outputs": [
    {
     "name": "stdout",
     "output_type": "stream",
     "text": [
      "Enter the launch angle (in degreeds): 22\n",
      "Enter the initial velocity (in meters per second): 45\n",
      "Enter the initial height (in meters): 0\n",
      "Enter the time interval between position calculations: .01\n",
      "Distance traveled: 143.9 meters.\n"
     ]
    }
   ],
   "source": [
    "cball1()"
   ]
  },
  {
   "cell_type": "code",
   "execution_count": 48,
   "metadata": {},
   "outputs": [
    {
     "name": "stdout",
     "output_type": "stream",
     "text": [
      "Enter the launch angle (in degreeds): 22\n",
      "Enter the initial velocity (in meters per second): 45\n",
      "Enter the initial height (in meters): 0\n",
      "Enter the time interval between position calculations: .1\n",
      "Distance traveled: 146.0 meters.\n"
     ]
    }
   ],
   "source": [
    "cball1()"
   ]
  },
  {
   "cell_type": "code",
   "execution_count": 49,
   "metadata": {},
   "outputs": [
    {
     "name": "stdout",
     "output_type": "stream",
     "text": [
      "Enter the launch angle (in degreeds): 22\n",
      "Enter the initial velocity (in meters per second): 45\n",
      "Enter the initial height (in meters): 0\n",
      "Enter the time interval between position calculations: 1\n",
      "Distance traveled: 166.9 meters.\n"
     ]
    }
   ],
   "source": [
    "cball1()"
   ]
  },
  {
   "cell_type": "code",
   "execution_count": 50,
   "metadata": {},
   "outputs": [
    {
     "name": "stdout",
     "output_type": "stream",
     "text": [
      "Enter the launch angle (in degreeds): 22\n",
      "Enter the initial velocity (in meters per second): 100\n",
      "Enter the initial height (in meters): 0\n",
      "Enter the time interval between position calculations: .01\n",
      "Distance traveled: 709.3 meters.\n"
     ]
    }
   ],
   "source": [
    "cball1()"
   ]
  },
  {
   "cell_type": "code",
   "execution_count": 51,
   "metadata": {},
   "outputs": [
    {
     "name": "stdout",
     "output_type": "stream",
     "text": [
      "Enter the launch angle (in degreeds): 22\n",
      "Enter the initial velocity (in meters per second): 100\n",
      "Enter the initial height (in meters): 0\n",
      "Enter the time interval between position calculations: .1\n",
      "Distance traveled: 713.9 meters.\n"
     ]
    }
   ],
   "source": [
    "cball1()"
   ]
  },
  {
   "cell_type": "code",
   "execution_count": 54,
   "metadata": {},
   "outputs": [],
   "source": [
    "def cball2():\n",
    "    angle, vel, h0, time = getCballInputs()\n",
    "    xpos, ypos = 0, h0\n",
    "    xvel, yvel = getXYComponents(vel, angle)\n",
    "    while ypos >= 0:\n",
    "        xpos, ypos, yvel = updateCannonBall(\n",
    "            time, xpos, ypos, xvel, yvel)\n",
    "    print((\"\\nDistance traveled: {0:0.1f} \"\n",
    "          + \"meters.\").format(xpos)"
   ]
  },
  {
   "cell_type": "code",
   "execution_count": 69,
   "metadata": {
    "collapsed": true
   },
   "outputs": [],
   "source": [
    "from random import randrange\n",
    "\n",
    "class MSDie:\n",
    "    def __init__(self, sides):\n",
    "        self.sides = sides\n",
    "        self.value = 1\n",
    "    def roll(self):\n",
    "        self.value = randrange(1, self.sides + 1)\n",
    "    def getValue(self):\n",
    "        return self.value\n",
    "    def setValue(self, value):\n",
    "        self.value = value"
   ]
  },
  {
   "cell_type": "code",
   "execution_count": 70,
   "metadata": {},
   "outputs": [
    {
     "data": {
      "text/plain": [
       "8"
      ]
     },
     "execution_count": 70,
     "metadata": {},
     "output_type": "execute_result"
    }
   ],
   "source": [
    "die1 = MSDie(12)\n",
    "die1.getValue()\n",
    "die1.setValue(8)\n",
    "die1.getValue()"
   ]
  },
  {
   "cell_type": "code",
   "execution_count": null,
   "metadata": {
    "collapsed": true
   },
   "outputs": [],
   "source": []
  }
 ],
 "metadata": {
  "kernelspec": {
   "display_name": "Python 3",
   "language": "python",
   "name": "python3"
  },
  "language_info": {
   "codemirror_mode": {
    "name": "ipython",
    "version": 3
   },
   "file_extension": ".py",
   "mimetype": "text/x-python",
   "name": "python",
   "nbconvert_exporter": "python",
   "pygments_lexer": "ipython3",
   "version": "3.5.2"
  }
 },
 "nbformat": 4,
 "nbformat_minor": 2
}
