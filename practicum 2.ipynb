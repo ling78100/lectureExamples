{
 "cells": [
  {
   "cell_type": "code",
   "execution_count": 4,
   "metadata": {},
   "outputs": [
    {
     "name": "stdout",
     "output_type": "stream",
     "text": [
      "0\n",
      "3\n",
      "6\n",
      "9\n"
     ]
    }
   ],
   "source": [
    "#understanding for loops\n",
    "for i in range(0,10,3):\n",
    "    print(i)"
   ]
  },
  {
   "cell_type": "code",
   "execution_count": 10,
   "metadata": {},
   "outputs": [
    {
     "name": "stdout",
     "output_type": "stream",
     "text": [
      "1 2 3\n",
      "5 10 15\n",
      "17 34 51\n",
      "2 4 6\n",
      "6 12 18\n",
      "8 16 24\n"
     ]
    }
   ],
   "source": [
    "#understand lists and loops\n",
    "a=1\n",
    "b=\"abc\"\n",
    "list1=[1,5,17,2,6,8]\n",
    "for item in list1:\n",
    "    double_a=item*2\n",
    "    triple_a=item*3\n",
    "    print(item,double_a,triple_a)\n",
    "    \n",
    "    "
   ]
  },
  {
   "cell_type": "code",
   "execution_count": 11,
   "metadata": {},
   "outputs": [
    {
     "data": {
      "text/plain": [
       "True"
      ]
     },
     "execution_count": 11,
     "metadata": {},
     "output_type": "execute_result"
    }
   ],
   "source": [
    "#understanding boolean variables: true/false\n",
    "15>4"
   ]
  },
  {
   "cell_type": "code",
   "execution_count": 12,
   "metadata": {},
   "outputs": [
    {
     "data": {
      "text/plain": [
       "True"
      ]
     },
     "execution_count": 12,
     "metadata": {},
     "output_type": "execute_result"
    }
   ],
   "source": [
    "a=20\n",
    "a>4"
   ]
  },
  {
   "cell_type": "code",
   "execution_count": 13,
   "metadata": {},
   "outputs": [
    {
     "data": {
      "text/plain": [
       "False"
      ]
     },
     "execution_count": 13,
     "metadata": {},
     "output_type": "execute_result"
    }
   ],
   "source": [
    "a<0\n"
   ]
  },
  {
   "cell_type": "code",
   "execution_count": 15,
   "metadata": {},
   "outputs": [],
   "source": [
    "#if statement\n",
    "if \"z\" in \"banana\":\n",
    "    print(\"contains a\")"
   ]
  },
  {
   "cell_type": "code",
   "execution_count": 19,
   "metadata": {
    "scrolled": true
   },
   "outputs": [
    {
     "name": "stdout",
     "output_type": "stream",
     "text": [
      "18\n",
      "28\n",
      "11\n",
      "23\n",
      "[18, 28, 11, 23]\n",
      "[2, 8, 14, 36, 56, 22, 46]\n"
     ]
    }
   ],
   "source": [
    "#list comprehension\n",
    "our_list=[1,4,7,18,28,11,23]\n",
    "#with a for loop\n",
    "for item in our_list:\n",
    "    if item>10:\n",
    "        print(item)\n",
    "#filtering a smaller list from an existing list using list comprehension syntax\n",
    "small_list=[item for item in our_list if item>10]\n",
    "print(small_list)\n",
    "#or just running an operation on a copy of each item in the list to create a new list\n",
    "double_list=[item*2 for item in our_list]\n",
    "print (double_list)"
   ]
  },
  {
   "cell_type": "code",
   "execution_count": 18,
   "metadata": {},
   "outputs": [
    {
     "name": "stdout",
     "output_type": "stream",
     "text": [
      "[18, 28, 11, 23]\n"
     ]
    }
   ],
   "source": [
    "#an example for list comprehension\n",
    "our_list=[1,4,7,18,28,11,23]\n",
    "small_list=[item for item in our_list if item>10]\n",
    "print(small_list)"
   ]
  },
  {
   "cell_type": "code",
   "execution_count": 48,
   "metadata": {
    "scrolled": true
   },
   "outputs": [
    {
     "name": "stdout",
     "output_type": "stream",
     "text": [
      "[1, 4, 7, 11, 18, 23, 28]\n",
      "[28, 23, 18, 11, 7, 4, 1]\n",
      "[1, 4, 7, 18, 28, 11, 23]\n",
      "[1, 4, 7, 11, 18, 23, 28]\n"
     ]
    }
   ],
   "source": [
    "#learning sorting\n",
    "our_list=[1,4,7,18,28,11,23]\n",
    "#using sorted() built in function to create a copy of the list we want to sort\n",
    "sorted_list=sorted(our_list)\n",
    "print (sorted_list)\n",
    "sorted_list_descending=sorted(our_list,reverse=True) #use the argument reverse=true to sort from bigger to smaller\n",
    "print (sorted_list_descending)\n",
    "\n",
    "print(our_list)\n",
    "our_list.sort() #using the method .sort() sorts the list in place and changes the original list\n",
    "print(our_list)"
   ]
  },
  {
   "cell_type": "code",
   "execution_count": 27,
   "metadata": {
    "collapsed": true
   },
   "outputs": [],
   "source": [
    "#explaining function argument, and in this case it has three arguments, two of them mandatory and one optional because it has a default value\n",
    "def add(var1,var2,optional=15):\n",
    "    print(var1+var2)"
   ]
  },
  {
   "cell_type": "code",
   "execution_count": 28,
   "metadata": {},
   "outputs": [
    {
     "name": "stdout",
     "output_type": "stream",
     "text": [
      "3\n"
     ]
    }
   ],
   "source": [
    "add(1,2)"
   ]
  },
  {
   "cell_type": "code",
   "execution_count": 49,
   "metadata": {},
   "outputs": [
    {
     "name": "stdout",
     "output_type": "stream",
     "text": [
      "82\n",
      "5\n",
      "our average 16.4\n"
     ]
    }
   ],
   "source": [
    "list1=[1,7,9,20,45]\n",
    "print(sum(list1)) #showing the built in function sum() to sum all the items in a list\n",
    "print(len(list1)) #showing the built in function len() to get the length/count of list items\n",
    "def get_avg(input_list): #now an implementation of the average function for a list\n",
    "    list_sum=sum(input_list)\n",
    "    list_len=len(input_list)\n",
    "    avg=list_sum/list_len\n",
    "    return avg\n",
    "\n",
    "our_avg=get_avg(list1)\n",
    "print (\"our average\", our_avg)\n"
   ]
  },
  {
   "cell_type": "code",
   "execution_count": 38,
   "metadata": {},
   "outputs": [
    {
     "name": "stdout",
     "output_type": "stream",
     "text": [
      "enter a number3\n",
      "enter a number4\n",
      "enter a number4\n",
      "enter a number5\n",
      "enter a number5\n",
      "[3, 4, 4, 5, 5]\n"
     ]
    }
   ],
   "source": [
    "#we iterate a number of times to prompt user to input a number\n",
    "our_new_list=[]\n",
    "for i in range(5):\n",
    "    input_number=eval(input(\"enter a number\"))\n",
    "    our_new_list.append(int(input_number))\n",
    "    #if input_number.isdigit(): #we can use this check to make sure the user actually inputs a number\n",
    "    #    our_new_list.append(int(input_number))  #if so we add this number to a list\n",
    "\n",
    "print (our_new_list)\n",
    "\n",
    "    \n",
    "    \n"
   ]
  },
  {
   "cell_type": "code",
   "execution_count": 43,
   "metadata": {},
   "outputs": [
    {
     "name": "stdout",
     "output_type": "stream",
     "text": [
      "please input list[1,2,3,4,5,7]\n",
      "[1, 2, 3, 4, 5, 7]\n",
      "6\n",
      "3.6666666666666665\n"
     ]
    }
   ],
   "source": [
    "#or we can ask the user to input the list itself, use the function eval() to get it as a list, then apply the get_avg() function to it\n",
    "list_input=eval(input(\"please input list\"))\n",
    "print (list_input)\n",
    "print (len(list_input))\n",
    "print (get_avg(list_input))\n"
   ]
  },
  {
   "cell_type": "code",
   "execution_count": 45,
   "metadata": {
    "scrolled": true
   },
   "outputs": [
    {
     "name": "stdout",
     "output_type": "stream",
     "text": [
      "100\n",
      "200\n",
      "300\n",
      "400\n",
      "500\n",
      "600\n",
      "700\n",
      "800\n",
      "900\n",
      "1000\n"
     ]
    }
   ],
   "source": [
    "#a simple iteration showing incrementing savings\n",
    "total_amount=0\n",
    "annual_savings=100\n",
    "interest=0.1\n",
    "for year in range(10):\n",
    "    total_amount+=annual_savings\n",
    "    print (total_amount)"
   ]
  },
  {
   "cell_type": "code",
   "execution_count": 47,
   "metadata": {},
   "outputs": [
    {
     "name": "stdout",
     "output_type": "stream",
     "text": [
      "1100.0\n",
      "1210.0\n",
      "1331.0\n",
      "1464.1\n",
      "1610.51\n",
      "1771.561\n",
      "1948.7170999999998\n",
      "2143.5888099999997\n",
      "2357.947691\n",
      "2593.7424601\n"
     ]
    }
   ],
   "source": [
    "#understanding simple and compount interest\n",
    "total_amount=1000\n",
    "original_amount=1000\n",
    "annual_savings=0\n",
    "interest=0.1\n",
    "for year in range(10):\n",
    "    interest_amount=original_amount*interest #simple interest is the interest multiplied by the original amount\n",
    "    compound_interest=total_amount*interest #compound interest is the interest multiplied by previous year amount\n",
    "    total_amount+=compound_interest #and we increment the interest amount to the total amount\n",
    "    #total_amount+=interest_amount\n",
    "    \n",
    "    print (total_amount)"
   ]
  },
  {
   "cell_type": "code",
   "execution_count": null,
   "metadata": {
    "collapsed": true
   },
   "outputs": [],
   "source": []
  }
 ],
 "metadata": {
  "kernelspec": {
   "display_name": "Python 3",
   "language": "python",
   "name": "python3"
  },
  "language_info": {
   "codemirror_mode": {
    "name": "ipython",
    "version": 3
   },
   "file_extension": ".py",
   "mimetype": "text/x-python",
   "name": "python",
   "nbconvert_exporter": "python",
   "pygments_lexer": "ipython3",
   "version": "3.6.1"
  }
 },
 "nbformat": 4,
 "nbformat_minor": 2
}
