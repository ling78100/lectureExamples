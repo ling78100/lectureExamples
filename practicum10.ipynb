{
 "cells": [
  {
   "cell_type": "code",
   "execution_count": 2,
   "metadata": {},
   "outputs": [
    {
     "name": "stdout",
     "output_type": "stream",
     "text": [
      "[1, 16, 25, 36, 64, 81]\n"
     ]
    }
   ],
   "source": [
    "nums=[1,4,5,6,8,9]\n",
    "def square_all(input_nums):\n",
    "    return [i**2 for i in input_nums]\n",
    "    #for i in input_nums:\n",
    "    #    return i**2\n",
    "test=square_all(nums)\n",
    "print(test)"
   ]
  },
  {
   "cell_type": "code",
   "execution_count": 28,
   "metadata": {
    "scrolled": true
   },
   "outputs": [
    {
     "name": "stdout",
     "output_type": "stream",
     "text": [
      "len 15\n",
      "72\n",
      "mean 4.8\n",
      "[14.44, 0.6399999999999997, 14.44, 7.839999999999999, 0.04000000000000007, 1.4400000000000004, 10.240000000000002, 17.64, 1.4400000000000004, 4.840000000000001, 0.04000000000000007, 0.6399999999999997, 7.839999999999999, 7.839999999999999, 27.040000000000003]\n",
      "[14.44, 0.6399999999999997, 14.44, 7.839999999999999, 0.04000000000000007, 1.4400000000000004, 10.240000000000002, 17.64, 1.4400000000000004, 4.840000000000001, 0.04000000000000007, 0.6399999999999997, 7.839999999999999, 7.839999999999999, 27.040000000000003]\n",
      "variance 7.760000000000002\n",
      "standard dev 2.785677655436824\n",
      "10\n",
      "1\n",
      "[1, 1, 2, 2, 2, 4, 4, 5, 5, 6, 6, 7, 8, 9, 10]\n",
      "5\n"
     ]
    }
   ],
   "source": [
    "nums=[1,4,1,2,5,6,8,9,6,7,5,4,2,2,10]\n",
    "print(\"len\", len(nums))\n",
    "sum_nums=sum(nums)\n",
    "avg_nums=float(sum(nums))/len(nums)\n",
    "print(sum_nums)\n",
    "print(\"mean\", avg_nums)\n",
    "\n",
    "deviations=[]\n",
    "for n in nums:\n",
    "    cur_dev=(n-avg_nums)**2\n",
    "    deviations.append(cur_dev)\n",
    "\n",
    "print(deviations)\n",
    "deviations1=[(n-avg_nums)**2 for n in nums] #using list comprehension\n",
    "print(deviations1)\n",
    "\n",
    "variance=sum(deviations)/len(deviations)\n",
    "print(\"variance\", variance)\n",
    "stdv=variance**0.5\n",
    "print(\"standard dev\", stdv)\n",
    "\n",
    "max_item=max(nums)\n",
    "min_item=min(nums)\n",
    "#nums.sort() #this changes the order of the original list in place\n",
    "sorted_nums=sorted(nums)\n",
    "print(max_item)\n",
    "print(min_item)\n",
    "print(sorted_nums)\n",
    "\n",
    "if len(sorted_nums)%2==0:\n",
    "    mid_index1=len(sorted_nums)//2-1\n",
    "    mid_index2=len(sorted_nums)//2\n",
    "\n",
    "    mid_num1=sorted_nums[mid_index1]\n",
    "    mid_num2=sorted_nums[mid_index2]\n",
    "    print(mid_num1,mid_num2)\n",
    "    median=(mid_num1+mid_num2)/2\n",
    "    \n",
    "else:\n",
    "    mid_index=len(sorted_nums)//2\n",
    "    median=sorted_nums[mid_index]\n",
    "\n",
    "print(median)\n",
    "    \n",
    "\n",
    "\n"
   ]
  },
  {
   "cell_type": "code",
   "execution_count": 35,
   "metadata": {},
   "outputs": [
    {
     "name": "stdout",
     "output_type": "stream",
     "text": [
      "4.0 3.0\n"
     ]
    }
   ],
   "source": [
    "def get_mean(list_nums):\n",
    "    return sum(list_nums)/len(list_nums)\n",
    "\n",
    "def get_stdv(list_nums):\n",
    "    cur_mean=get_mean(list_nums)\n",
    "    deviations=[(n-cur_mean)**2 for n in list_nums]\n",
    "    variance=get_mean(deviations)\n",
    "    stdv=variance**0.5\n",
    "    return stdv\n",
    "    \n",
    "    \n",
    "    #return sum(list_nums)/len(list_nums)\n",
    "\n",
    "test_list=[1,1,3,3,7,9]\n",
    "our_mean=get_mean(test_list)\n",
    "our_stdv=get_stdv(test_list)\n",
    "print(our_mean, our_stdv)"
   ]
  },
  {
   "cell_type": "code",
   "execution_count": 46,
   "metadata": {
    "scrolled": true
   },
   "outputs": [
    {
     "name": "stdout",
     "output_type": "stream",
     "text": [
      "input your list of numbers e.g. [1,2,3]:1,2,2,3\n",
      "user didn't input empty string\n",
      "(1, 2, 2, 3) mean 2.0 stdv 0.7071067811865476\n",
      "input your list of numbers e.g. [1,2,3]:1,2,3\n",
      "user didn't input empty string\n",
      "(1, 2, 3) mean 2.0 stdv 0.816496580927726\n",
      "input your list of numbers e.g. [1,2,3]:2,4,1\n",
      "user didn't input empty string\n",
      "(2, 4, 1) mean 2.3333333333333335 stdv 1.247219128924647\n",
      "input your list of numbers e.g. [1,2,3]:\n"
     ]
    }
   ],
   "source": [
    "while True:\n",
    "    user_nums=input(\"input your list of numbers e.g. [1,2,3]:\")\n",
    "    if user_nums==\"\": break\n",
    "    user_nums_eval=eval(user_nums)\n",
    "    our_mean=get_mean(user_nums_eval)\n",
    "    our_stdv=get_stdv(user_nums_eval)    \n",
    "    print(user_nums_eval, \"mean\", our_mean, \"stdv\",our_stdv)\n"
   ]
  },
  {
   "cell_type": "code",
   "execution_count": 40,
   "metadata": {},
   "outputs": [
    {
     "ename": "SyntaxError",
     "evalue": "unexpected EOF while parsing (<string>, line 0)",
     "output_type": "error",
     "traceback": [
      "\u001b[0;36m  File \u001b[0;32m\"<string>\"\u001b[0;36m, line \u001b[0;32munknown\u001b[0m\n\u001b[0;31m    \u001b[0m\n\u001b[0m    ^\u001b[0m\n\u001b[0;31mSyntaxError\u001b[0m\u001b[0;31m:\u001b[0m unexpected EOF while parsing\n"
     ]
    }
   ],
   "source": [
    "eval(\"\")"
   ]
  },
  {
   "cell_type": "code",
   "execution_count": 41,
   "metadata": {},
   "outputs": [
    {
     "data": {
      "text/plain": [
       "[1, 2, 3]"
      ]
     },
     "execution_count": 41,
     "metadata": {},
     "output_type": "execute_result"
    }
   ],
   "source": [
    "eval(\"[1,2,3]\")"
   ]
  },
  {
   "cell_type": "code",
   "execution_count": 42,
   "metadata": {},
   "outputs": [
    {
     "data": {
      "text/plain": [
       "123231.434"
      ]
     },
     "execution_count": 42,
     "metadata": {},
     "output_type": "execute_result"
    }
   ],
   "source": [
    "eval(\"123231.434\")"
   ]
  },
  {
   "cell_type": "code",
   "execution_count": 49,
   "metadata": {},
   "outputs": [
    {
     "name": "stdout",
     "output_type": "stream",
     "text": [
      "John\n",
      "Claire\n",
      "['Sarah', 'Claire']\n"
     ]
    }
   ],
   "source": [
    "people=[\"Adam\",\"John\",\"Sarah\",\"Claire\"]\n",
    "print(people[1])\n",
    "print(people[-1])\n",
    "print(people[2:])\n"
   ]
  },
  {
   "cell_type": "code",
   "execution_count": 51,
   "metadata": {},
   "outputs": [
    {
     "name": "stdout",
     "output_type": "stream",
     "text": [
      "{'Adam': 25, 'Sarah': 15, 'Ana': 27}\n",
      "25\n"
     ]
    }
   ],
   "source": [
    "age_dict={}\n",
    "age_dict[\"Adam\"]=25\n",
    "age_dict[\"Sarah\"]=15\n",
    "age_dict[\"Ana\"]=27\n",
    "\n",
    "print(age_dict)\n",
    "\n",
    "print(age_dict[\"Adam\"])\n"
   ]
  },
  {
   "cell_type": "code",
   "execution_count": 52,
   "metadata": {
    "collapsed": true
   },
   "outputs": [],
   "source": [
    "info_dict={}\n",
    "info_dict[\"Adam\"]={}\n",
    "info_dict[\"Adam\"][\"Age\"]=25\n",
    "info_dict[\"Adam\"][\"Zipcode\"]=10011\n",
    "info_dict[\"Sarah\"]={}\n",
    "info_dict[\"Sarah\"][\"Age\"]=17\n",
    "info_dict[\"Sarah\"][\"Zipcode\"]=11111\n"
   ]
  },
  {
   "cell_type": "code",
   "execution_count": 56,
   "metadata": {},
   "outputs": [
    {
     "name": "stdout",
     "output_type": "stream",
     "text": [
      "{'Age': 25, 'Zipcode': 10011}\n",
      "not found\n"
     ]
    }
   ],
   "source": [
    "print(info_dict[\"Adam\"])\n",
    "print(info_dict.get(\"Noah\",\"not found\"))\n"
   ]
  },
  {
   "cell_type": "code",
   "execution_count": 54,
   "metadata": {},
   "outputs": [
    {
     "data": {
      "text/plain": [
       "25"
      ]
     },
     "execution_count": 54,
     "metadata": {},
     "output_type": "execute_result"
    }
   ],
   "source": [
    "info_dict[\"Adam\"][\"Age\"]"
   ]
  },
  {
   "cell_type": "code",
   "execution_count": 62,
   "metadata": {},
   "outputs": [
    {
     "name": "stdout",
     "output_type": "stream",
     "text": [
      "{'i': 2, 'visit': 2, 'them': 1, 'every': 2, 'week': 1, 'but': 1, 'they': 1, 'me': 1, 'month': 1, 'and': 1, 'am': 1, 'quite': 1, 'ok': 1, 'with': 1, 'this': 1}\n"
     ]
    }
   ],
   "source": [
    "sent=\"I visit them every week but they visit me every month and I am quite ok with this\"\n",
    "words=[v.lower() for v in sent.split()]\n",
    "word_count_dict={}\n",
    "for w in words:\n",
    "    cur_word_count=word_count_dict.get(w,0)+1\n",
    "    word_count_dict[w]=cur_word_count\n",
    "    #print(w, cur_word_count)\n",
    "\n",
    "print(word_count_dict)"
   ]
  },
  {
   "cell_type": "code",
   "execution_count": null,
   "metadata": {
    "collapsed": true
   },
   "outputs": [],
   "source": []
  }
 ],
 "metadata": {
  "kernelspec": {
   "display_name": "Python 3",
   "language": "python",
   "name": "python3"
  },
  "language_info": {
   "codemirror_mode": {
    "name": "ipython",
    "version": 3
   },
   "file_extension": ".py",
   "mimetype": "text/x-python",
   "name": "python",
   "nbconvert_exporter": "python",
   "pygments_lexer": "ipython3",
   "version": "3.6.1"
  }
 },
 "nbformat": 4,
 "nbformat_minor": 2
}
