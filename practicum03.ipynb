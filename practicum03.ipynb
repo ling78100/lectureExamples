{
 "cells": [
  {
   "cell_type": "code",
   "execution_count": 1,
   "metadata": {},
   "outputs": [
    {
     "name": "stdout",
     "output_type": "stream",
     "text": [
      "Hello World\n"
     ]
    }
   ],
   "source": [
    "print(\"Hello World\")"
   ]
  },
  {
   "cell_type": "code",
   "execution_count": 2,
   "metadata": {},
   "outputs": [
    {
     "name": "stdout",
     "output_type": "stream",
     "text": [
      "0 0 0 0\n",
      "0 0 0 0\n",
      "0 0 0 0\n",
      "0 0 0 0\n"
     ]
    }
   ],
   "source": [
    "#we can print a matrix of numbers like this\n",
    "for i in range(4):\n",
    "    print(\"0\",\"0\",\"0\",\"0\")"
   ]
  },
  {
   "cell_type": "code",
   "execution_count": 4,
   "metadata": {},
   "outputs": [
    {
     "name": "stdout",
     "output_type": "stream",
     "text": [
      "['john', 'adam', 'sarah', 'anne']\n",
      "john adam sarah anne\n"
     ]
    }
   ],
   "source": [
    "#and we can print lists, or join the list items into a string variable\n",
    "names=[\"john\",\"adam\",\"sarah\",\"anne\"]\n",
    "print(names)\n",
    "names_str=\" \".join(names)\n",
    "print(names_str)"
   ]
  },
  {
   "cell_type": "code",
   "execution_count": 5,
   "metadata": {},
   "outputs": [
    {
     "name": "stdout",
     "output_type": "stream",
     "text": [
      "['john', 'adam', 'sarah', 'anne']\n"
     ]
    }
   ],
   "source": [
    "#and the other way around, we can split a string into a list\n",
    "names_str=\"john adam sarah anne\"\n",
    "split=names_str.split()\n",
    "print(split)"
   ]
  },
  {
   "cell_type": "code",
   "execution_count": 8,
   "metadata": {},
   "outputs": [
    {
     "name": "stdout",
     "output_type": "stream",
     "text": [
      "$10\n"
     ]
    }
   ],
   "source": [
    "#and we can convert any numerical value to string using the built-in function str()\n",
    "amount=10\n",
    "amount_str=\"$\"+str(10)\n",
    "print(amount_str)"
   ]
  },
  {
   "cell_type": "code",
   "execution_count": 10,
   "metadata": {},
   "outputs": [
    {
     "name": "stdout",
     "output_type": "stream",
     "text": [
      "$10\n",
      "20\n"
     ]
    }
   ],
   "source": [
    "#the idea is that we do our numberical operations on the numerical variables\n",
    "#then eventually we convert them to strings to combine them with other strings\n",
    "amount=amount+5\n",
    "amount_str=\"$\"+\"10\"\n",
    "print(amount_str)\n",
    "print(amount)\n"
   ]
  },
  {
   "cell_type": "code",
   "execution_count": 14,
   "metadata": {},
   "outputs": [
    {
     "name": "stdout",
     "output_type": "stream",
     "text": [
      "$15\n"
     ]
    }
   ],
   "source": [
    "#here we can see that a is a string variable and b is a numerical variable\n",
    "a=\"10\"\n",
    "b=10\n",
    "\n",
    "new_b=b+5\n",
    "new_b_str=\"$\"+str(new_b)\n",
    "print(new_b_str)\n",
    "\n"
   ]
  },
  {
   "cell_type": "code",
   "execution_count": 15,
   "metadata": {},
   "outputs": [
    {
     "name": "stdout",
     "output_type": "stream",
     "text": [
      "15\n"
     ]
    }
   ],
   "source": [
    "#we see here that we can convert from string into numerical (in this case integer) values \n",
    "#using the built-in function int(), then we can do any numerical opertaions on them\n",
    "a=\"10\"\n",
    "a_num=int(a)\n",
    "new_a=a_num+5\n",
    "print (new_a)"
   ]
  },
  {
   "cell_type": "code",
   "execution_count": 19,
   "metadata": {},
   "outputs": [
    {
     "data": {
      "text/plain": [
       "'0000000200'"
      ]
     },
     "execution_count": 19,
     "metadata": {},
     "output_type": "execute_result"
    }
   ],
   "source": [
    "#now we start formatting the display of strings - the built-in method .zfill() allows us to do some padding of zeros \n",
    "#to numbers\n",
    "a=\"200\"\n",
    "a.zfill(10)"
   ]
  },
  {
   "cell_type": "code",
   "execution_count": 23,
   "metadata": {},
   "outputs": [
    {
     "name": "stdout",
     "output_type": "stream",
     "text": [
      "  ahk\n",
      "ahk  \n",
      " ahk \n"
     ]
    }
   ],
   "source": [
    "#we can also do padding of empty spaces, to justify a string either left or right of center\n",
    "a=\"ahk\"\n",
    "print(a.rjust(5))\n",
    "print(a.ljust(5))\n",
    "print(a.center(5))"
   ]
  },
  {
   "cell_type": "code",
   "execution_count": 24,
   "metadata": {},
   "outputs": [
    {
     "ename": "SyntaxError",
     "evalue": "invalid syntax (<ipython-input-24-872a26f49cfe>, line 1)",
     "output_type": "error",
     "traceback": [
      "\u001b[0;36m  File \u001b[0;32m\"<ipython-input-24-872a26f49cfe>\"\u001b[0;36m, line \u001b[0;32m1\u001b[0m\n\u001b[0;31m    Year     Start   Interest        End      Total\u001b[0m\n\u001b[0m                 ^\u001b[0m\n\u001b[0;31mSyntaxError\u001b[0m\u001b[0;31m:\u001b[0m invalid syntax\n"
     ]
    }
   ],
   "source": [
    "Year     Start   Interest        End      Total\n",
    "         Value     (year)      Value   Interest\n",
    "    \n",
    "print (\"year\".ljust(4))    "
   ]
  },
  {
   "cell_type": "code",
   "execution_count": 37,
   "metadata": {},
   "outputs": [
    {
     "name": "stdout",
     "output_type": "stream",
     "text": [
      "year      Start   Interest        End      Total\n",
      "          Value     (year)      Value   Interest\n",
      "------------------------------------------------\n"
     ]
    }
   ],
   "source": [
    "#now we can use the right justify method .rjust() to specify the space allocated for each item in the header\n",
    "print (\"year\".rjust(4),\"Start\".rjust(10),\"Interest\".rjust(10),\"End\".rjust(10),\"Total\".rjust(10)) \n",
    "print (\"\".rjust(4),\"Value\".rjust(10),\"(year)\".rjust(10),\"Value\".rjust(10),\"Interest\".rjust(10)) \n",
    "line=\"-\"*48\n",
    "print(line)"
   ]
  },
  {
   "cell_type": "code",
   "execution_count": 36,
   "metadata": {},
   "outputs": [
    {
     "data": {
      "text/plain": [
       "'====='"
      ]
     },
     "execution_count": 36,
     "metadata": {},
     "output_type": "execute_result"
    }
   ],
   "source": [
    "#we show that we can multiply a string by a number to repeat the string this many times\n",
    "\"=\"*5"
   ]
  },
  {
   "cell_type": "code",
   "execution_count": 51,
   "metadata": {},
   "outputs": [
    {
     "name": "stdout",
     "output_type": "stream",
     "text": [
      "year     Start  Interest       End     Total\n",
      "         Value    (year)     Value  Interest\n",
      "--------------------------------------------\n",
      "   1       100      10.0     110.0         0\n",
      "   2       200      20.0     220.0         1\n",
      "   3       300      30.0     330.0         2\n",
      "   4       400      40.0     440.0         3\n",
      "   5       500      50.0     550.0         4\n",
      "   6       600      60.0     660.0         5\n",
      "   7       700      70.0     770.0         6\n",
      "   8       800      80.0     880.0         7\n",
      "   9       900      90.0     990.0         8\n",
      "  10      1000     100.0    1100.0         9\n",
      "  11      1100     110.0    1210.0        10\n",
      "  12      1200     120.0    1320.0        11\n",
      "  13      1300     130.0    1430.0        12\n",
      "  14      1400     140.0    1540.0        13\n",
      "  15      1500     150.0    1650.0        14\n",
      "  16      1600     160.0    1760.0        15\n",
      "  17      1700     170.0    1870.0        16\n",
      "  18      1800     180.0    1980.0        17\n",
      "  19      1900     190.0    2090.0        18\n",
      "  20      2000     200.0    2200.0        19\n"
     ]
    }
   ],
   "source": [
    "#this is some explanation of how to do the headers for the homework problem\n",
    "header_line1=\"year\".rjust(4)+\"Start\".rjust(10)+\"Interest\".rjust(10)+\"End\".rjust(10)+\"Total\".rjust(10)\n",
    "header_line2=\"\".rjust(4)+\"Value\".rjust(10)+\"(year)\".rjust(10)+\"Value\".rjust(10)+\"Interest\".rjust(10) \n",
    "dashes=\"-\"*len(header_line1)\n",
    "print (header_line1)\n",
    "print (header_line2)\n",
    "print (dashes)\n",
    "\n",
    "#now we start to populate the data within the table\n",
    "current_amount=0\n",
    "amount_saved_per_year=100\n",
    "interest_rate=10 #10%\n",
    "actual_interest_rate=interest_rate/100\n",
    "num_years=20\n",
    "for i in range(num_years):\n",
    "    cur_year=i+1\n",
    "    current_amount=current_amount+amount_saved_per_year\n",
    "    starting_amount=current_amount\n",
    "    current_interest=starting_amount*actual_interest_rate\n",
    "    end_amount=current_amount+current_interest\n",
    "\n",
    "    row=str(cur_year).rjust(4)+str(starting_amount).rjust(10)+str(current_interest).rjust(10)+str(end_amount).rjust(10)+str(i).rjust(10) \n",
    "    print(row)\n"
   ]
  },
  {
   "cell_type": "code",
   "execution_count": 52,
   "metadata": {},
   "outputs": [
    {
     "data": {
      "text/plain": [
       "15"
      ]
     },
     "execution_count": 52,
     "metadata": {},
     "output_type": "execute_result"
    }
   ],
   "source": [
    "#this is how we round float numbers to integers\n",
    "round(15.3243423432)"
   ]
  },
  {
   "cell_type": "code",
   "execution_count": 54,
   "metadata": {},
   "outputs": [
    {
     "data": {
      "text/plain": [
       "15.32"
      ]
     },
     "execution_count": 54,
     "metadata": {},
     "output_type": "execute_result"
    }
   ],
   "source": [
    "#or we can specify the number of decimal points\n",
    "round(15.3243423432,2)"
   ]
  },
  {
   "cell_type": "code",
   "execution_count": null,
   "metadata": {
    "collapsed": true
   },
   "outputs": [],
   "source": []
  }
 ],
 "metadata": {
  "kernelspec": {
   "display_name": "Python 3",
   "language": "python",
   "name": "python3"
  },
  "language_info": {
   "codemirror_mode": {
    "name": "ipython",
    "version": 3
   },
   "file_extension": ".py",
   "mimetype": "text/x-python",
   "name": "python",
   "nbconvert_exporter": "python",
   "pygments_lexer": "ipython3",
   "version": "3.6.1"
  }
 },
 "nbformat": 4,
 "nbformat_minor": 2
}
