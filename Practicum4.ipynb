{
 "cells": [
  {
   "cell_type": "code",
   "execution_count": 17,
   "metadata": {},
   "outputs": [
    {
     "name": "stdout",
     "output_type": "stream",
     "text": [
      "['random', 'access', 'memory']\n",
      "['r', 'a', 'm']\n",
      "ram\n",
      "RAM\n"
     ]
    }
   ],
   "source": [
    "phrase=\"random access memory\"\n",
    "words=phrase.split(\" \")\n",
    "print(words)\n",
    "#list comprehension\n",
    "first_letters=[item[0] for item in words]\n",
    "joined_letters=\"\".join(first_letters)\n",
    "print(first_letters)\n",
    "print(joined_letters)\n",
    "capitalized=joined_letters.upper()\n",
    "print(capitalized)\n",
    "\n",
    "\n",
    "#equivalent to list comprehension\n",
    "#copy_list=[]\n",
    "#for item in words:\n",
    "#    copy_list.append(item[0])\n",
    "#\n",
    "#print(copy_list)\n"
   ]
  },
  {
   "cell_type": "code",
   "execution_count": 10,
   "metadata": {},
   "outputs": [
    {
     "name": "stdout",
     "output_type": "stream",
     "text": [
      "1\n",
      "3\n",
      "5\n",
      "[50, 2, 3, 4, 5]\n"
     ]
    }
   ],
   "source": [
    "list1=[1,2,3,4,5]\n",
    "print(list1[0])\n",
    "print(list1[2])\n",
    "print(list1[-1])\n",
    "list1[0]=50\n",
    "print(list1)"
   ]
  },
  {
   "cell_type": "code",
   "execution_count": 11,
   "metadata": {},
   "outputs": [
    {
     "name": "stdout",
     "output_type": "stream",
     "text": [
      "g\n",
      "n\n",
      "l\n"
     ]
    },
    {
     "ename": "TypeError",
     "evalue": "'str' object does not support item assignment",
     "output_type": "error",
     "traceback": [
      "\u001b[0;31m---------------------------------------------------------------------------\u001b[0m",
      "\u001b[0;31mTypeError\u001b[0m                                 Traceback (most recent call last)",
      "\u001b[0;32m<ipython-input-11-a11037055db4>\u001b[0m in \u001b[0;36m<module>\u001b[0;34m()\u001b[0m\n\u001b[1;32m      3\u001b[0m \u001b[0mprint\u001b[0m\u001b[0;34m(\u001b[0m\u001b[0mstr1\u001b[0m\u001b[0;34m[\u001b[0m\u001b[0;36m2\u001b[0m\u001b[0;34m]\u001b[0m\u001b[0;34m)\u001b[0m\u001b[0;34m\u001b[0m\u001b[0m\n\u001b[1;32m      4\u001b[0m \u001b[0mprint\u001b[0m\u001b[0;34m(\u001b[0m\u001b[0mstr1\u001b[0m\u001b[0;34m[\u001b[0m\u001b[0;34m-\u001b[0m\u001b[0;36m1\u001b[0m\u001b[0;34m]\u001b[0m\u001b[0;34m)\u001b[0m\u001b[0;34m\u001b[0m\u001b[0m\n\u001b[0;32m----> 5\u001b[0;31m \u001b[0mstr1\u001b[0m\u001b[0;34m[\u001b[0m\u001b[0;36m0\u001b[0m\u001b[0;34m]\u001b[0m\u001b[0;34m=\u001b[0m\u001b[0;34m\"k\"\u001b[0m\u001b[0;34m\u001b[0m\u001b[0m\n\u001b[0m",
      "\u001b[0;31mTypeError\u001b[0m: 'str' object does not support item assignment"
     ]
    }
   ],
   "source": [
    "str1=\"general\"\n",
    "print(str1[0])\n",
    "print(str1[2])\n",
    "print(str1[-1])\n",
    "str1[0]=\"k\""
   ]
  },
  {
   "cell_type": "code",
   "execution_count": 18,
   "metadata": {},
   "outputs": [
    {
     "data": {
      "text/plain": [
       "'/Users/hmghaly'"
      ]
     },
     "execution_count": 18,
     "metadata": {},
     "output_type": "execute_result"
    }
   ],
   "source": [
    "import os\n",
    "os.getcwd()"
   ]
  },
  {
   "cell_type": "code",
   "execution_count": 40,
   "metadata": {},
   "outputs": [
    {
     "name": "stdout",
     "output_type": "stream",
     "text": [
      "this is a text file\n",
      "and we like text files\n",
      "more words\n",
      "and even      more\n",
      "\n",
      "['this', 'is', 'a', 'text', 'file', 'and', 'we', 'like', 'text', 'files', 'more', 'words', 'and', 'even', 'more']\n",
      "15\n",
      "73\n"
     ]
    }
   ],
   "source": [
    "file_path=\"test.txt\"\n",
    "fopen=open(file_path)\n",
    "content=fopen.read()\n",
    "#lines=fopen.readlines()\n",
    "fopen.close()\n",
    "print(content)\n",
    "split_content=content.split()\n",
    "print(split_content)\n",
    "num_of_words=len(split_content)\n",
    "print(num_of_words)\n",
    "print(len(content))\n",
    "#print([content])\n",
    "#print(lines)\n",
    "\n"
   ]
  },
  {
   "cell_type": "code",
   "execution_count": 35,
   "metadata": {},
   "outputs": [
    {
     "name": "stdout",
     "output_type": "stream",
     "text": [
      "['this is a text file\\n', 'and we like text files\\n', 'more words\\n', 'and even more\\n']\n"
     ]
    }
   ],
   "source": [
    "file_path=\"test.txt\"\n",
    "fopen=open(file_path)\n",
    "#content=fopen.read()\n",
    "lines=fopen.readlines()\n",
    "fopen.close()\n",
    "print(lines)\n"
   ]
  },
  {
   "cell_type": "code",
   "execution_count": 42,
   "metadata": {
    "collapsed": true
   },
   "outputs": [],
   "source": [
    "text=\"we really like writing files\"\n",
    "out_file_path=\"out_file.txt\"\n",
    "fopen=open(out_file_path,\"w\")\n",
    "fopen.write(text)\n",
    "fopen.close()"
   ]
  },
  {
   "cell_type": "code",
   "execution_count": null,
   "metadata": {
    "collapsed": true
   },
   "outputs": [],
   "source": [
    "speed_limit=50\n",
    "clocked_speed=70\n",
    "policy=\"$50 + $5 for each mph + $200 for speed above 90 mph\"\n"
   ]
  }
 ],
 "metadata": {
  "kernelspec": {
   "display_name": "Python 3",
   "language": "python",
   "name": "python3"
  },
  "language_info": {
   "codemirror_mode": {
    "name": "ipython",
    "version": 3
   },
   "file_extension": ".py",
   "mimetype": "text/x-python",
   "name": "python",
   "nbconvert_exporter": "python",
   "pygments_lexer": "ipython3",
   "version": "3.6.1"
  }
 },
 "nbformat": 4,
 "nbformat_minor": 2
}
