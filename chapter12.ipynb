{
 "cells": [
  {
   "cell_type": "markdown",
   "metadata": {},
   "source": [
    "# Chapter 12: Object-oriented design"
   ]
  },
  {
   "cell_type": "markdown",
   "metadata": {},
   "source": [
    "## 12.2: Case study: Racquetball simulation"
   ]
  },
  {
   "cell_type": "code",
   "execution_count": 14,
   "metadata": {},
   "outputs": [],
   "source": [
    "# Simulation of a racquet game.\n",
    "# Illustrates design with objects.\n",
    "\n",
    "from random import random\n",
    "\n",
    "class SimStats:\n",
    "    # SimStats handles accumulation of statistics across multiple\n",
    "    #   (completed) games. This version tracks the wins and shutouts for\n",
    "    #   each player.\n",
    "\n",
    "    def __init__(self):\n",
    "        # Create a new accumulator for a series of games\n",
    "        self.winsA = 0\n",
    "        self.winsB = 0\n",
    "        self.shutsA = 0\n",
    "        self.shutsB = 0\n",
    "\n",
    "    def update(self, aGame):\n",
    "        # Determine the outcome of aGame and update statistics\n",
    "        a, b = aGame.getScores()\n",
    "        if a > b:                             # A won the game\n",
    "            self.winsA = self.winsA + 1\n",
    "            if b == 0:\n",
    "                self.shutsA = self.shutsA + 1\n",
    "        else:                                 # B won the game\n",
    "            self.winsB = self.winsB + 1\n",
    "            if a == 0:\n",
    "                self.shutsB = self.shutsB + 1\n",
    "\n",
    "    def printReport(self):\n",
    "        # Print a nicely formatted report\n",
    "        n = self.winsA + self.winsB\n",
    "        print(\"Summary of\", n , \"games:\\n\")\n",
    "        print(\"          wins (% total)   shutouts (% wins)  \")\n",
    "        print(\"--------------------------------------------\")\n",
    "        self.printLine(\"A\", self.winsA, self.shutsA, n)\n",
    "        self.printLine(\"B\", self.winsB, self.shutsB, n)\n",
    "            \n",
    "    def printLine(self, label, wins, shuts, n):\n",
    "        template = \"Player {0}:{1:5}  ({2:5.1%}) {3:11}   ({4})\"\n",
    "        if wins == 0:        # Avoid division by zero!\n",
    "            shutStr = \"-----\"\n",
    "        else:\n",
    "            shutStr = \"{0:4.1%}\".format(float(shuts)/wins)\n",
    "        print(template.format(label, wins, float(wins)/n, shuts, shutStr))"
   ]
  },
  {
   "cell_type": "code",
   "execution_count": 15,
   "metadata": {
    "collapsed": true
   },
   "outputs": [],
   "source": [
    "class RBallGame:\n",
    "    # A RBallGame represents a game in progress. A game has two players\n",
    "    # and keeps track of which one is currently serving.\n",
    "\n",
    "    def __init__(self, probA, probB):\n",
    "        # Create a new game having players with the given probs.\n",
    "        self.playerA = Player(probA)\n",
    "        self.playerB = Player(probB)\n",
    "        self.server = self.playerA  # Player A always serves first\n",
    "\n",
    "    def play(self):\n",
    "        # Play the game to completion\n",
    "        while not self.isOver():\n",
    "            if self.server.winsServe():\n",
    "                self.server.incScore()\n",
    "            else:\n",
    "                self.changeServer()\n",
    "            \n",
    "    def isOver(self):\n",
    "        # Returns game is finished (i.e. one of the players has won).\n",
    "        a,b = self.getScores()\n",
    "        return a == 15 or b == 15 or \\\n",
    "               (a == 7 and b == 0) or (b==7 and a == 0)\n",
    "\n",
    "    def changeServer(self):\n",
    "        # Switch which player is serving\n",
    "        if self.server == self.playerA:\n",
    "            self.server = self.playerB\n",
    "        else:\n",
    "            self.server = self.playerA\n",
    "\n",
    "    def getScores(self):\n",
    "        # Returns the current scores of player A and player B\n",
    "        return self.playerA.getScore(), self.playerB.getScore()\n"
   ]
  },
  {
   "cell_type": "code",
   "execution_count": 16,
   "metadata": {
    "collapsed": true
   },
   "outputs": [],
   "source": [
    "class Player:\n",
    "    # A Player keeps track of service probability and score\n",
    "\n",
    "    def __init__(self, prob):\n",
    "        # Create a player with this probability\n",
    "        self.prob = prob\n",
    "        self.score = 0\n",
    "\n",
    "    def winsServe(self):\n",
    "        # Returns a Boolean that is true with probability self.prob\n",
    "        return random() <= self.prob\n",
    "\n",
    "    def incScore(self):\n",
    "        # Add a point to this player's score\n",
    "        self.score = self.score + 1\n",
    "\n",
    "    def getScore(self):\n",
    "        # Returns this player's current score\n",
    "        return self.score\n"
   ]
  },
  {
   "cell_type": "code",
   "execution_count": 17,
   "metadata": {},
   "outputs": [
    {
     "name": "stdout",
     "output_type": "stream",
     "text": [
      "This program simulates games of racquetball between two\n",
      "players called \"A\" and \"B\".  The ability of each player is\n",
      "indicated by a probability (a number between 0 and 1) that\n",
      "the player wins the point when serving. Player A always\n",
      "has the first serve.\n",
      "\n",
      "What is the prob. player A wins a serve? .65\n",
      "What is the prob. player B wins a serve? .6\n",
      "How many games to simulate? 10000\n",
      "Summary of 10000 games:\n",
      "\n",
      "          wins (% total)   shutouts (% wins)  \n",
      "--------------------------------------------\n",
      "Player A: 6805  (68.0%)        1389   (20.4%)\n",
      "Player B: 3195  (31.9%)         287   (9.0%)\n"
     ]
    }
   ],
   "source": [
    "def printIntro():\n",
    "    print(\"This program simulates games of racquetball between two\")\n",
    "    print('players called \"A\" and \"B\".  The ability of each player is')\n",
    "    print(\"indicated by a probability (a number between 0 and 1) that\")\n",
    "    print(\"the player wins the point when serving. Player A always\")\n",
    "    print(\"has the first serve.\\n\")\n",
    "        \n",
    "def getInputs():\n",
    "    # Returns the three simulation parameters\n",
    "    a = float(input(\"What is the prob. player A wins a serve? \"))\n",
    "    b = float(input(\"What is the prob. player B wins a serve? \"))\n",
    "    n = int(input(\"How many games to simulate? \"))\n",
    "    return a, b, n\n",
    "\n",
    "def objrball():\n",
    "    printIntro()\n",
    "    \n",
    "    probA, probB, n = getInputs()\n",
    "\n",
    "    # Play the games\n",
    "    stats = SimStats()\n",
    "    for i in range(n):\n",
    "        theGame = RBallGame(probA, probB) # create a new game\n",
    "        theGame.play()                    # play it\n",
    "        stats.update(theGame)             # extract info\n",
    "\n",
    "    # Print the results\n",
    "    stats.printReport()\n",
    "\n",
    "objrball()\n"
   ]
  },
  {
   "cell_type": "code",
   "execution_count": null,
   "metadata": {
    "collapsed": true
   },
   "outputs": [],
   "source": []
  }
 ],
 "metadata": {
  "kernelspec": {
   "display_name": "Python 3",
   "language": "python",
   "name": "python3"
  },
  "language_info": {
   "codemirror_mode": {
    "name": "ipython",
    "version": 3
   },
   "file_extension": ".py",
   "mimetype": "text/x-python",
   "name": "python",
   "nbconvert_exporter": "python",
   "pygments_lexer": "ipython3",
   "version": "3.5.2"
  }
 },
 "nbformat": 4,
 "nbformat_minor": 2
}
