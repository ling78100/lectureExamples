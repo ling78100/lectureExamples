{
 "cells": [
  {
   "cell_type": "markdown",
   "metadata": {},
   "source": [
    "# Chapter 6: Functions"
   ]
  },
  {
   "cell_type": "markdown",
   "metadata": {},
   "source": [
    "## 6.1: The function of functions"
   ]
  },
  {
   "cell_type": "code",
   "execution_count": 1,
   "metadata": {
    "collapsed": true
   },
   "outputs": [],
   "source": [
    "from graphics import *  # yuck!\n",
    "\n",
    "def futval_graph2():\n",
    "    # Introduction\n",
    "    print(\"This program plots the growth of a 10-year investment\")\n",
    "    \n",
    "    # Get principal and interest rate\n",
    "    principal = float(input(\"Enter the initial principal: \"))\n",
    "    apr = float(input(\"Enter the annualized interest rate: \"))\n",
    "    \n",
    "    # Create a graphics window with labels on left edge\n",
    "    win = GraphWin(\"Investment Growth Chart\", 320, 240)\n",
    "    win.setBackground(\"white\")\n",
    "    win.setCoords(-1.75, -200, 11.5, 10400)\n",
    "    Text(Point(-1,     0), \" 0.0K\").draw(win)\n",
    "    Text(Point(-1,  2500), \" 2.5K\").draw(win)\n",
    "    Text(Point(-1,  5000), \" 5.0K\").draw(win)\n",
    "    Text(Point(-1,  7500), \" 7.5K\").draw(win)\n",
    "    Text(Point(-1, 10000), \"10.0K\").draw(win)\n",
    "    \n",
    "    # Draw bar for initial principal\n",
    "    bar = Rectangle(Point(0, 0), Point(1, principal))\n",
    "    bar.setFill(\"green\")\n",
    "    bar.setWidth(2)\n",
    "    bar.draw(win)\n",
    "    \n",
    "    # Draw bars for successive years\n",
    "    for year in range(1,11):\n",
    "        # calculate value for the next year\n",
    "        principal = principal * (1 + apr)\n",
    "        # draw bar for this value\n",
    "        bar = Rectangle(Point(year, 0), Point(year+1, principal))\n",
    "        bar.setFill(\"green\")\n",
    "        bar.setWidth(2)\n",
    "        bar.draw(win)\n",
    "\n",
    "    input(\"Press <Enter> to quit\")\n",
    "    win.close()"
   ]
  },
  {
   "cell_type": "markdown",
   "metadata": {},
   "source": [
    "## 6.2: Functions, informally"
   ]
  },
  {
   "cell_type": "code",
   "execution_count": 2,
   "metadata": {
    "collapsed": true
   },
   "outputs": [],
   "source": [
    "def bday1():\n",
    "    print(\"Happy birthday to you!\")\n",
    "    print(\"Happy birthday to you!\")\n",
    "    print(\"Happy birthday, dear Fred.\")\n",
    "    print(\"Happy birthday to you!\")"
   ]
  },
  {
   "cell_type": "code",
   "execution_count": 3,
   "metadata": {},
   "outputs": [
    {
     "name": "stdout",
     "output_type": "stream",
     "text": [
      "Happy birthday to you!\n",
      "Happy birthday to you!\n",
      "Happy birthday, dear Fred.\n",
      "Happy birthday to you!\n"
     ]
    }
   ],
   "source": [
    "bday1()"
   ]
  },
  {
   "cell_type": "code",
   "execution_count": 4,
   "metadata": {
    "collapsed": true
   },
   "outputs": [],
   "source": [
    "def happy():\n",
    "    print(\"Happy birthday to you!\")"
   ]
  },
  {
   "cell_type": "code",
   "execution_count": 5,
   "metadata": {},
   "outputs": [
    {
     "name": "stdout",
     "output_type": "stream",
     "text": [
      "Happy birthday to you!\n"
     ]
    }
   ],
   "source": [
    "happy()"
   ]
  },
  {
   "cell_type": "code",
   "execution_count": 6,
   "metadata": {
    "collapsed": true
   },
   "outputs": [],
   "source": [
    "def singFred():\n",
    "    happy()\n",
    "    happy()\n",
    "    print(\"Happy birthday, dear Fred.\")\n",
    "    happy()"
   ]
  },
  {
   "cell_type": "code",
   "execution_count": 7,
   "metadata": {},
   "outputs": [
    {
     "name": "stdout",
     "output_type": "stream",
     "text": [
      "Happy birthday to you!\n",
      "Happy birthday to you!\n",
      "Happy birthday, dear Fred.\n",
      "Happy birthday to you!\n"
     ]
    }
   ],
   "source": [
    "singFred()"
   ]
  },
  {
   "cell_type": "code",
   "execution_count": 8,
   "metadata": {
    "collapsed": true
   },
   "outputs": [],
   "source": [
    "def singLucy():\n",
    "    happy()\n",
    "    happy()\n",
    "    print(\"Happy birthday, dear Lucy.\")\n",
    "    happy()"
   ]
  },
  {
   "cell_type": "code",
   "execution_count": 9,
   "metadata": {},
   "outputs": [
    {
     "name": "stdout",
     "output_type": "stream",
     "text": [
      "Happy birthday to you!\n",
      "Happy birthday to you!\n",
      "Happy birthday, dear Lucy.\n",
      "Happy birthday to you!\n"
     ]
    }
   ],
   "source": [
    "singLucy()"
   ]
  },
  {
   "cell_type": "code",
   "execution_count": 10,
   "metadata": {
    "collapsed": true
   },
   "outputs": [],
   "source": [
    "def bday2():\n",
    "    singFred()\n",
    "    print()\n",
    "    singLucy()"
   ]
  },
  {
   "cell_type": "code",
   "execution_count": 11,
   "metadata": {},
   "outputs": [
    {
     "name": "stdout",
     "output_type": "stream",
     "text": [
      "Happy birthday to you!\n",
      "Happy birthday to you!\n",
      "Happy birthday, dear Fred.\n",
      "Happy birthday to you!\n",
      "\n",
      "Happy birthday to you!\n",
      "Happy birthday to you!\n",
      "Happy birthday, dear Lucy.\n",
      "Happy birthday to you!\n"
     ]
    }
   ],
   "source": [
    "bday2()"
   ]
  },
  {
   "cell_type": "code",
   "execution_count": 12,
   "metadata": {
    "collapsed": true
   },
   "outputs": [],
   "source": [
    "def sing(person):\n",
    "    happy()\n",
    "    happy()\n",
    "    print(\"Happy birthday, dear\", person + \".\")\n",
    "    happy()"
   ]
  },
  {
   "cell_type": "code",
   "execution_count": 13,
   "metadata": {},
   "outputs": [
    {
     "name": "stdout",
     "output_type": "stream",
     "text": [
      "Happy birthday to you!\n",
      "Happy birthday to you!\n",
      "Happy birthday, dear Fred.\n",
      "Happy birthday to you!\n"
     ]
    }
   ],
   "source": [
    "sing(\"Fred\")"
   ]
  },
  {
   "cell_type": "code",
   "execution_count": 14,
   "metadata": {},
   "outputs": [
    {
     "name": "stdout",
     "output_type": "stream",
     "text": [
      "Happy birthday to you!\n",
      "Happy birthday to you!\n",
      "Happy birthday, dear Lucy.\n",
      "Happy birthday to you!\n"
     ]
    }
   ],
   "source": [
    "sing(\"Lucy\")"
   ]
  },
  {
   "cell_type": "code",
   "execution_count": 15,
   "metadata": {
    "collapsed": true
   },
   "outputs": [],
   "source": [
    "def bday3():\n",
    "    sing(\"Fred\")\n",
    "    print()\n",
    "    sing(\"Lucy\")\n",
    "    print()\n",
    "    sing(\"Elmer\")"
   ]
  },
  {
   "cell_type": "code",
   "execution_count": 16,
   "metadata": {},
   "outputs": [
    {
     "name": "stdout",
     "output_type": "stream",
     "text": [
      "Happy birthday to you!\n",
      "Happy birthday to you!\n",
      "Happy birthday, dear Fred.\n",
      "Happy birthday to you!\n",
      "\n",
      "Happy birthday to you!\n",
      "Happy birthday to you!\n",
      "Happy birthday, dear Lucy.\n",
      "Happy birthday to you!\n",
      "\n",
      "Happy birthday to you!\n",
      "Happy birthday to you!\n",
      "Happy birthday, dear Elmer.\n",
      "Happy birthday to you!\n"
     ]
    }
   ],
   "source": [
    "bday3()"
   ]
  },
  {
   "cell_type": "markdown",
   "metadata": {},
   "source": [
    "## 6.3: Future value with a function"
   ]
  },
  {
   "cell_type": "code",
   "execution_count": 17,
   "metadata": {
    "collapsed": true
   },
   "outputs": [],
   "source": [
    "from graphics import *\n",
    "\n",
    "def drawBar(window, year, height):\n",
    "    # Draw a bar in window starting at year with given height\n",
    "    bar = Rectangle(Point(year, 0), Point(year+1, height))\n",
    "    bar.setFill(\"green\")\n",
    "    bar.setWidth(2)\n",
    "    bar.draw(window)\n",
    "    \n",
    "def futval_graph3():\n",
    "    # Introduction\n",
    "    print(\"This program plots the growth of a 10-year investment\")\n",
    "    \n",
    "    # Get principal and interest rate\n",
    "    principal = float(input(\"Enter the initial principal: \"))\n",
    "    apr = float(input(\"Enter the annualized interest rate: \"))\n",
    "    \n",
    "    # Create a graphics window with labels on left edge\n",
    "    win = GraphWin(\"Investment Growth Chart\", 320, 240)\n",
    "    win.setBackground(\"white\")\n",
    "    win.setCoords(-1.75, -200, 11.5, 10400)\n",
    "    Text(Point(-1,     0), \" 0.0K\").draw(win)\n",
    "    Text(Point(-1,  2500), \" 2.5K\").draw(win)\n",
    "    Text(Point(-1,  5000), \" 5.0K\").draw(win)\n",
    "    Text(Point(-1,  7500), \" 7.5K\").draw(win)\n",
    "    Text(Point(-1, 10000), \"10.0K\").draw(win)\n",
    "    \n",
    "    # Draw bar for initial principal\n",
    "    drawBar(win, 0, principal)\n",
    "    \n",
    "    # Draw bars for successive years\n",
    "    for year in range(1,11):\n",
    "        principal = principal * (1 + apr)\n",
    "        drawBar(win, year, principal)\n",
    "\n",
    "    input(\"Press <Enter> to quit\")\n",
    "    win.close()"
   ]
  },
  {
   "cell_type": "code",
   "execution_count": 18,
   "metadata": {},
   "outputs": [
    {
     "name": "stdout",
     "output_type": "stream",
     "text": [
      "This program plots the growth of a 10-year investment\n",
      "Enter the initial principal: 2000\n",
      "Enter the annualized interest rate: 0.03\n",
      "Press <Enter> to quit\n"
     ]
    }
   ],
   "source": [
    "futval_graph3()"
   ]
  },
  {
   "cell_type": "markdown",
   "metadata": {},
   "source": [
    "## 6.5: Functions that return values"
   ]
  },
  {
   "cell_type": "code",
   "execution_count": 19,
   "metadata": {
    "collapsed": true
   },
   "outputs": [],
   "source": [
    "def square(x):\n",
    "    return x ** 2"
   ]
  },
  {
   "cell_type": "code",
   "execution_count": 20,
   "metadata": {},
   "outputs": [
    {
     "data": {
      "text/plain": [
       "9"
      ]
     },
     "execution_count": 20,
     "metadata": {},
     "output_type": "execute_result"
    }
   ],
   "source": [
    "square(3)"
   ]
  },
  {
   "cell_type": "code",
   "execution_count": 21,
   "metadata": {},
   "outputs": [
    {
     "name": "stdout",
     "output_type": "stream",
     "text": [
      "16\n"
     ]
    }
   ],
   "source": [
    "print(square(4))"
   ]
  },
  {
   "cell_type": "code",
   "execution_count": 22,
   "metadata": {},
   "outputs": [
    {
     "name": "stdout",
     "output_type": "stream",
     "text": [
      "25\n"
     ]
    }
   ],
   "source": [
    "x = 5\n",
    "y = square(x)\n",
    "print(y)"
   ]
  },
  {
   "cell_type": "code",
   "execution_count": 23,
   "metadata": {},
   "outputs": [
    {
     "name": "stdout",
     "output_type": "stream",
     "text": [
      "34\n"
     ]
    }
   ],
   "source": [
    "print(square(x) + square(3))"
   ]
  },
  {
   "cell_type": "code",
   "execution_count": 27,
   "metadata": {
    "collapsed": true
   },
   "outputs": [],
   "source": [
    "import math\n",
    "from graphics import *\n",
    "\n",
    "def square(x):\n",
    "    return x ** 2\n",
    "\n",
    "def distance(p1, p2):\n",
    "    dist = math.sqrt(square(p2.getX() - p1.getX()) \n",
    "                     + square(p2.getY() - p1.getY()))\n",
    "    return dist\n",
    "\n",
    "def triangle2():\n",
    "    win = GraphWin(\"Draw a Triangle\")\n",
    "    win.setCoords(0.0, 0.0, 10.0, 10.0)\n",
    "    message = Text(Point(5, 0.5), \"Click on three points\")\n",
    "    message.draw(win)\n",
    "    \n",
    "    # Get and draw three vertices of triangle\n",
    "    p1 = win.getMouse()\n",
    "    p1.draw(win)\n",
    "    p2 = win.getMouse()\n",
    "    p2.draw(win)\n",
    "    p3 = win.getMouse()\n",
    "    p3.draw(win)\n",
    "    \n",
    "    # Use polygon object to draw the triangle\n",
    "    triangle = Polygon(p1,p2,p3)\n",
    "    triangle.setFill(\"peachpuff\")\n",
    "    triangle.setOutline(\"cyan\")\n",
    "    triangle.draw(win)\n",
    "    \n",
    "    # Calculate the perimeter of the triangle\n",
    "    perim = distance(p1, p2) + distance(p2, p3) + distance(p3, p1)\n",
    "    message.setText(\"The perimeter is: {0:0.2f}\".format(perim))\n",
    "    \n",
    "    # Wait for another click to exit\n",
    "    win.getMouse()\n",
    "    win.close()"
   ]
  },
  {
   "cell_type": "code",
   "execution_count": 28,
   "metadata": {
    "collapsed": true
   },
   "outputs": [],
   "source": [
    "triangle2()"
   ]
  },
  {
   "cell_type": "code",
   "execution_count": 31,
   "metadata": {
    "collapsed": true
   },
   "outputs": [],
   "source": [
    "def happy2():\n",
    "    return \"Happy birthday to you!\\n\"\n",
    "\n",
    "def verseFor(person):\n",
    "    lyrics = happy2() * 2 + \"Happy birthday, dear \" + person + \".\\n\" + happy2()\n",
    "    return lyrics\n",
    "\n",
    "def bday4():\n",
    "    for person in [\"Fred\", \"Lucy\", \"Elmer\"]:\n",
    "        print(verseFor(person))"
   ]
  },
  {
   "cell_type": "code",
   "execution_count": 32,
   "metadata": {},
   "outputs": [
    {
     "name": "stdout",
     "output_type": "stream",
     "text": [
      "Happy birthday to you!\n",
      "Happy birthday to you!\n",
      "Happy birthday, dear Fred.\n",
      "Happy birthday to you!\n",
      "\n",
      "Happy birthday to you!\n",
      "Happy birthday to you!\n",
      "Happy birthday, dear Lucy.\n",
      "Happy birthday to you!\n",
      "\n",
      "Happy birthday to you!\n",
      "Happy birthday to you!\n",
      "Happy birthday, dear Elmer.\n",
      "Happy birthday to you!\n",
      "\n"
     ]
    }
   ],
   "source": [
    "bday4()"
   ]
  },
  {
   "cell_type": "code",
   "execution_count": 33,
   "metadata": {
    "collapsed": true
   },
   "outputs": [],
   "source": [
    "def bday5():\n",
    "    outf = open(\"chapter06_bday.txt\", \"w\")\n",
    "    for person in [\"Fred\", \"Lucy\", \"Elmer\"]:\n",
    "        print(verseFor(person), file=outf)\n",
    "    outf.close()"
   ]
  },
  {
   "cell_type": "code",
   "execution_count": 34,
   "metadata": {
    "collapsed": true
   },
   "outputs": [],
   "source": [
    "bday5()"
   ]
  },
  {
   "cell_type": "code",
   "execution_count": 35,
   "metadata": {
    "collapsed": true
   },
   "outputs": [],
   "source": [
    "def sumDiff(x,y):\n",
    "    sum = x + y\n",
    "    diff = x - y\n",
    "    return sum, diff"
   ]
  },
  {
   "cell_type": "code",
   "execution_count": 36,
   "metadata": {},
   "outputs": [
    {
     "name": "stdout",
     "output_type": "stream",
     "text": [
      "Please enter two numbers num1, num2: 1,2\n",
      "The sum is 3.0 and the difference is -1.0\n"
     ]
    }
   ],
   "source": [
    "num1, num2 = input(\"Please enter two numbers num1, num2: \").split(\",\")\n",
    "s, d = sumDiff(float(num1), float(num2))\n",
    "print(\"The sum is\", s, \"and the difference is\", d)"
   ]
  },
  {
   "cell_type": "markdown",
   "metadata": {},
   "source": [
    "## 6.6: Functions that modify parameters"
   ]
  },
  {
   "cell_type": "code",
   "execution_count": 40,
   "metadata": {
    "collapsed": true
   },
   "outputs": [],
   "source": [
    "def addInterest1(balance, rate):\n",
    "    newBalance = balance * (1+rate)\n",
    "    balance = newBalance\n",
    "    \n",
    "def test1():\n",
    "    amount = 1000\n",
    "    rate = 0.05\n",
    "    addInterest1(amount, rate)\n",
    "    print(amount)"
   ]
  },
  {
   "cell_type": "code",
   "execution_count": 41,
   "metadata": {},
   "outputs": [
    {
     "name": "stdout",
     "output_type": "stream",
     "text": [
      "1000\n"
     ]
    }
   ],
   "source": [
    "test1()"
   ]
  },
  {
   "cell_type": "code",
   "execution_count": 42,
   "metadata": {
    "collapsed": true
   },
   "outputs": [],
   "source": [
    "def addInterest2(balance, rate):\n",
    "    newBalance = balance * (1+rate)\n",
    "    return newBalance\n",
    "    \n",
    "def test2():\n",
    "    amount = 1000\n",
    "    rate = 0.05\n",
    "    amount = addInterest2(amount, rate)\n",
    "    print(amount)"
   ]
  },
  {
   "cell_type": "code",
   "execution_count": 43,
   "metadata": {},
   "outputs": [
    {
     "name": "stdout",
     "output_type": "stream",
     "text": [
      "1050.0\n"
     ]
    }
   ],
   "source": [
    "test2()"
   ]
  },
  {
   "cell_type": "code",
   "execution_count": 46,
   "metadata": {
    "collapsed": true
   },
   "outputs": [],
   "source": [
    "def addInterest3(balances, rate):\n",
    "    for i in range(len(balances)):\n",
    "        balances[i] = balances[i] * (1+rate)\n",
    "    \n",
    "def test3():\n",
    "    amounts = [1000, 2200, 800, 360]\n",
    "    rate = 0.05\n",
    "    addInterest3(amounts, rate)\n",
    "    print(amounts)"
   ]
  },
  {
   "cell_type": "code",
   "execution_count": 47,
   "metadata": {},
   "outputs": [
    {
     "name": "stdout",
     "output_type": "stream",
     "text": [
      "[1050.0, 2310.0, 840.0, 378.0]\n"
     ]
    }
   ],
   "source": [
    "test3()"
   ]
  },
  {
   "cell_type": "markdown",
   "metadata": {},
   "source": [
    "## 6.7: Functions and program structure"
   ]
  },
  {
   "cell_type": "code",
   "execution_count": 52,
   "metadata": {
    "collapsed": true
   },
   "outputs": [],
   "source": [
    "from graphics import *\n",
    "\n",
    "def createLabeledWindow():\n",
    "    win = GraphWin(\"Investment Growth Chart\", 320, 240)\n",
    "    win.setBackground(\"white\")\n",
    "    win.setCoords(-1.75, -200, 11.5, 10400)\n",
    "    Text(Point(-1,     0), \" 0.0K\").draw(win)\n",
    "    Text(Point(-1,  2500), \" 2.5K\").draw(win)\n",
    "    Text(Point(-1,  5000), \" 5.0K\").draw(win)\n",
    "    Text(Point(-1,  7500), \" 7.5K\").draw(win)\n",
    "    Text(Point(-1, 10000), \"10.0K\").draw(win)\n",
    "    return win\n",
    "\n",
    "def drawBar(window, year, height):\n",
    "    # Draw a bar in window starting at year with given height\n",
    "    bar = Rectangle(Point(year, 0), Point(year+1, height))\n",
    "    bar.setFill(\"green\")\n",
    "    bar.setWidth(2)\n",
    "    bar.draw(window)\n",
    "    \n",
    "def futval_graph4():\n",
    "    print(\"This program plots the growth of a 10-year investment\")\n",
    "    \n",
    "    principal = float(input(\"Enter the initial principal: \"))\n",
    "    apr = float(input(\"Enter the annualized interest rate: \"))\n",
    "    \n",
    "    win = createLabeledWindow()\n",
    "    drawBar(win, 0, principal)\n",
    "    for year in range(1,11):\n",
    "        principal = principal * (1 + apr)\n",
    "        drawBar(win, year, principal)\n",
    "\n",
    "    input(\"Press <Enter> to quit\")\n",
    "    win.close()"
   ]
  },
  {
   "cell_type": "code",
   "execution_count": 53,
   "metadata": {},
   "outputs": [
    {
     "name": "stdout",
     "output_type": "stream",
     "text": [
      "This program plots the growth of a 10-year investment\n",
      "Enter the initial principal: 2000\n",
      "Enter the annualized interest rate: 0.05\n",
      "Press <Enter> to quit\n"
     ]
    }
   ],
   "source": [
    "futval_graph4()"
   ]
  },
  {
   "cell_type": "code",
   "execution_count": null,
   "metadata": {
    "collapsed": true
   },
   "outputs": [],
   "source": []
  }
 ],
 "metadata": {
  "kernelspec": {
   "display_name": "Python 3",
   "language": "python",
   "name": "python3"
  },
  "language_info": {
   "codemirror_mode": {
    "name": "ipython",
    "version": 3
   },
   "file_extension": ".py",
   "mimetype": "text/x-python",
   "name": "python",
   "nbconvert_exporter": "python",
   "pygments_lexer": "ipython3",
   "version": "3.5.2"
  }
 },
 "nbformat": 4,
 "nbformat_minor": 2
}
