{
 "cells": [
  {
   "cell_type": "markdown",
   "metadata": {},
   "source": [
    "# Chapter 1: Computer and programs"
   ]
  },
  {
   "cell_type": "code",
   "execution_count": 1,
   "metadata": {},
   "outputs": [
    {
     "name": "stdout",
     "output_type": "stream",
     "text": [
      "Hello world!\n"
     ]
    }
   ],
   "source": [
    "print(\"Hello world!\")"
   ]
  },
  {
   "cell_type": "code",
   "execution_count": 2,
   "metadata": {},
   "outputs": [
    {
     "name": "stdout",
     "output_type": "stream",
     "text": [
      "5\n",
      "2+3 = 5\n"
     ]
    }
   ],
   "source": [
    "print(2+3)\n",
    "print(\"2+3 =\", 2+3)"
   ]
  },
  {
   "cell_type": "code",
   "execution_count": 3,
   "metadata": {},
   "outputs": [],
   "source": [
    "def hello():\n",
    "    print(\"Hello\")\n",
    "    print(\"Computers are fun and exciting!\")"
   ]
  },
  {
   "cell_type": "code",
   "execution_count": 4,
   "metadata": {},
   "outputs": [
    {
     "name": "stdout",
     "output_type": "stream",
     "text": [
      "Hello\n",
      "Computers are fun and exciting!\n"
     ]
    }
   ],
   "source": [
    "hello()"
   ]
  },
  {
   "cell_type": "code",
   "execution_count": 5,
   "metadata": {},
   "outputs": [
    {
     "data": {
      "text/plain": [
       "<function __main__.hello>"
      ]
     },
     "execution_count": 5,
     "metadata": {},
     "output_type": "execute_result"
    }
   ],
   "source": [
    "hello"
   ]
  },
  {
   "cell_type": "code",
   "execution_count": 6,
   "metadata": {
    "collapsed": true
   },
   "outputs": [],
   "source": [
    "def greet(person):\n",
    "    print(\"hello,\", person)\n",
    "    print(\"How are you?\")"
   ]
  },
  {
   "cell_type": "code",
   "execution_count": 7,
   "metadata": {},
   "outputs": [
    {
     "name": "stdout",
     "output_type": "stream",
     "text": [
      "hello, Terry\n",
      "How are you?\n"
     ]
    }
   ],
   "source": [
    "greet(\"Terry\")"
   ]
  },
  {
   "cell_type": "code",
   "execution_count": 8,
   "metadata": {},
   "outputs": [
    {
     "name": "stdout",
     "output_type": "stream",
     "text": [
      "hello, Paula\n",
      "How are you?\n"
     ]
    }
   ],
   "source": [
    "greet(\"Paula\")"
   ]
  },
  {
   "cell_type": "code",
   "execution_count": 9,
   "metadata": {},
   "outputs": [
    {
     "name": "stdout",
     "output_type": "stream",
     "text": [
      "This program illustrates a chaotic function\n",
      "Enter a number between 0 and 1: 0.5\n",
      "0.975\n",
      "0.09506250000000008\n",
      "0.33549992226562525\n",
      "0.8694649252590003\n",
      "0.44263310911310905\n",
      "0.962165255336889\n",
      "0.1419727793616139\n",
      "0.4750843861996143\n",
      "0.9725789275369049\n",
      "0.1040097132674683\n"
     ]
    }
   ],
   "source": [
    "# A simple program illustrating chaotic behavior\n",
    "def chaos():\n",
    "    print(\"This program illustrates a chaotic function\")\n",
    "    x = eval(input(\"Enter a number between 0 and 1: \"))\n",
    "    for i in range(10):\n",
    "        x = 3.9 * x * (1 - x)\n",
    "        print(x)\n",
    "\n",
    "chaos()"
   ]
  },
  {
   "cell_type": "code",
   "execution_count": 10,
   "metadata": {},
   "outputs": [
    {
     "name": "stdout",
     "output_type": "stream",
     "text": [
      "This program illustrates a chaotic function\n",
      "Enter a number between 0 and 1: 0.51\n",
      "0.97461\n",
      "0.09650685681000008\n",
      "0.3400538052547515\n",
      "0.8752271376674086\n",
      "0.4258979211159021\n",
      "0.9535846394297142\n",
      "0.17261780200632312\n",
      "0.5570014961036329\n",
      "0.9623282348235952\n",
      "0.14138515281110461\n"
     ]
    }
   ],
   "source": [
    "chaos()"
   ]
  },
  {
   "cell_type": "code",
   "execution_count": 11,
   "metadata": {},
   "outputs": [
    {
     "name": "stdout",
     "output_type": "stream",
     "text": [
      "This program illustrates a chaotic function\n",
      "Enter a number between 0 and 1: 0.9\n",
      "0.3509999999999999\n",
      "0.8884160999999997\n",
      "0.3866184397170819\n",
      "0.9248640249724629\n",
      "0.27101318510837386\n",
      "0.7705036505625737\n",
      "0.6896283226260519\n",
      "0.8347602871063168\n",
      "0.5379486456883358\n",
      "0.9693836111326424\n"
     ]
    }
   ],
   "source": [
    "chaos()"
   ]
  }
 ],
 "metadata": {
  "kernelspec": {
   "display_name": "Python 3",
   "language": "python",
   "name": "python3"
  },
  "language_info": {
   "codemirror_mode": {
    "name": "ipython",
    "version": 3
   },
   "file_extension": ".py",
   "mimetype": "text/x-python",
   "name": "python",
   "nbconvert_exporter": "python",
   "pygments_lexer": "ipython3",
   "version": "3.5.2"
  }
 },
 "nbformat": 4,
 "nbformat_minor": 2
}
