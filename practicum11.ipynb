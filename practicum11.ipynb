{
 "cells": [
  {
   "cell_type": "code",
   "execution_count": 7,
   "metadata": {
    "scrolled": true
   },
   "outputs": [
    {
     "name": "stdout",
     "output_type": "stream",
     "text": [
      "True\n",
      "False\n",
      "<__main__.fridge object at 0x103bb22b0>\n",
      "['__class__', '__delattr__', '__dict__', '__dir__', '__doc__', '__eq__', '__format__', '__ge__', '__getattribute__', '__gt__', '__hash__', '__init__', '__init_subclass__', '__le__', '__lt__', '__module__', '__ne__', '__new__', '__reduce__', '__reduce_ex__', '__repr__', '__setattr__', '__sizeof__', '__str__', '__subclasshook__', '__weakref__', 'close_fridge', 'open_fridge', 'open_status']\n"
     ]
    }
   ],
   "source": [
    "class fridge:\n",
    "    def __init__(self):\n",
    "        self.open_status=True\n",
    "        self.apples=0\n",
    "        self.inventory={}\n",
    "        \n",
    "    def open_fridge(self):\n",
    "        self.open_status=True\n",
    "    def close_fridge(self):\n",
    "        self.open_status=False\n",
    "    def insert_apple(self,num_apples):\n",
    "        self.apples+=num_apples\n",
    "        \n",
    "        \n",
    "        \n",
    "\n",
    "\n",
    "our_fridge=fridge()\n",
    "our_fridge.open_fridge()\n",
    "\n",
    "print(our_fridge.open_status)\n",
    "our_fridge.close_fridge()    \n",
    "print(our_fridge.open_status)\n",
    "print(our_fridge)\n",
    "print(dir(our_fridge))"
   ]
  },
  {
   "cell_type": "code",
   "execution_count": 8,
   "metadata": {
    "collapsed": true
   },
   "outputs": [],
   "source": [
    "phone_dict={}\n",
    "phone_dict[\"John\"]=12989899\n",
    "phone_dict[\"Mary\"]=1293300\n",
    "phone_dict[\"Anna\"]=12988995\n",
    "phone_dict[\"Noah\"]=1009900\n"
   ]
  },
  {
   "cell_type": "code",
   "execution_count": 9,
   "metadata": {},
   "outputs": [
    {
     "data": {
      "text/plain": [
       "12989899"
      ]
     },
     "execution_count": 9,
     "metadata": {},
     "output_type": "execute_result"
    }
   ],
   "source": [
    "phone_dict[\"John\"]"
   ]
  },
  {
   "cell_type": "code",
   "execution_count": 10,
   "metadata": {},
   "outputs": [
    {
     "data": {
      "text/plain": [
       "{'Anna': 12988995, 'John': 12989899, 'Mary': 1293300, 'Noah': 1009900}"
      ]
     },
     "execution_count": 10,
     "metadata": {},
     "output_type": "execute_result"
    }
   ],
   "source": [
    "phone_dict\n"
   ]
  },
  {
   "cell_type": "code",
   "execution_count": 11,
   "metadata": {},
   "outputs": [
    {
     "ename": "KeyError",
     "evalue": "'Kay'",
     "output_type": "error",
     "traceback": [
      "\u001b[0;31m---------------------------------------------------------------------------\u001b[0m",
      "\u001b[0;31mKeyError\u001b[0m                                  Traceback (most recent call last)",
      "\u001b[0;32m<ipython-input-11-d3b35ccef467>\u001b[0m in \u001b[0;36m<module>\u001b[0;34m()\u001b[0m\n\u001b[0;32m----> 1\u001b[0;31m \u001b[0mphone_dict\u001b[0m\u001b[0;34m[\u001b[0m\u001b[0;34m\"Kay\"\u001b[0m\u001b[0;34m]\u001b[0m\u001b[0;34m\u001b[0m\u001b[0m\n\u001b[0m",
      "\u001b[0;31mKeyError\u001b[0m: 'Kay'"
     ]
    }
   ],
   "source": [
    "phone_dict[\"Kay\"]"
   ]
  },
  {
   "cell_type": "code",
   "execution_count": 13,
   "metadata": {},
   "outputs": [
    {
     "name": "stdout",
     "output_type": "stream",
     "text": [
      "None\n"
     ]
    }
   ],
   "source": [
    "print(phone_dict.get(\"Kay\"))"
   ]
  },
  {
   "cell_type": "code",
   "execution_count": 14,
   "metadata": {},
   "outputs": [
    {
     "name": "stdout",
     "output_type": "stream",
     "text": [
      "0\n"
     ]
    }
   ],
   "source": [
    "print(phone_dict.get(\"Kay\",0))\n"
   ]
  },
  {
   "cell_type": "code",
   "execution_count": 15,
   "metadata": {},
   "outputs": [
    {
     "name": "stdout",
     "output_type": "stream",
     "text": [
      "Noah\n",
      "1009900\n",
      "John\n",
      "12989899\n",
      "Adam\n",
      "0\n",
      "Nora\n",
      "0\n"
     ]
    }
   ],
   "source": [
    "names=[\"Noah\",\"John\",\"Adam\",\"Nora\"]\n",
    "for item in names:\n",
    "    print(item)\n",
    "    print(phone_dict.get(item,0))"
   ]
  },
  {
   "cell_type": "code",
   "execution_count": 16,
   "metadata": {
    "collapsed": true
   },
   "outputs": [],
   "source": [
    "inventory={}\n",
    "inventory[\"olives\"]=5\n",
    "inventory[\"tomatoes\"]=3\n"
   ]
  },
  {
   "cell_type": "code",
   "execution_count": 17,
   "metadata": {
    "collapsed": true
   },
   "outputs": [],
   "source": [
    "inventory[\"tomatoes\"]+=2"
   ]
  },
  {
   "cell_type": "code",
   "execution_count": 18,
   "metadata": {},
   "outputs": [
    {
     "data": {
      "text/plain": [
       "5"
      ]
     },
     "execution_count": 18,
     "metadata": {},
     "output_type": "execute_result"
    }
   ],
   "source": [
    "inventory[\"tomatoes\"]"
   ]
  },
  {
   "cell_type": "code",
   "execution_count": 23,
   "metadata": {},
   "outputs": [
    {
     "name": "stdout",
     "output_type": "stream",
     "text": [
      "None\n",
      "0\n"
     ]
    }
   ],
   "source": [
    "print(inventory.get(\"cucumbers\"))\n",
    "print(inventory.get(\"cucumbers\",0))"
   ]
  },
  {
   "cell_type": "code",
   "execution_count": 24,
   "metadata": {},
   "outputs": [],
   "source": [
    "inventory[\"cucumbers\"]=inventory.get(\"cucumbers\",0)+2"
   ]
  },
  {
   "cell_type": "code",
   "execution_count": 25,
   "metadata": {},
   "outputs": [
    {
     "data": {
      "text/plain": [
       "2"
      ]
     },
     "execution_count": 25,
     "metadata": {},
     "output_type": "execute_result"
    }
   ],
   "source": [
    "inventory[\"cucumbers\"]"
   ]
  },
  {
   "cell_type": "code",
   "execution_count": 29,
   "metadata": {},
   "outputs": [
    {
     "data": {
      "text/plain": [
       "True"
      ]
     },
     "execution_count": 29,
     "metadata": {},
     "output_type": "execute_result"
    }
   ],
   "source": [
    "\"cucumbers\" in inventory"
   ]
  },
  {
   "cell_type": "code",
   "execution_count": 30,
   "metadata": {},
   "outputs": [
    {
     "name": "stdout",
     "output_type": "stream",
     "text": [
      "4\n"
     ]
    }
   ],
   "source": [
    "if \"cucumbers\" in inventory:\n",
    "    inventory[\"cucumbers\"]+=2\n",
    "else:\n",
    "    inventory[\"cucumbers\"]=2\n",
    "\n",
    "print(inventory[\"cucumbers\"])\n",
    "    \n",
    "    "
   ]
  },
  {
   "cell_type": "code",
   "execution_count": 33,
   "metadata": {},
   "outputs": [
    {
     "name": "stdout",
     "output_type": "stream",
     "text": [
      "4\n"
     ]
    }
   ],
   "source": [
    "new_item=\"grapes\"\n",
    "quantity=4\n",
    "if new_item in inventory:\n",
    "    inventory[new_item]+=quantity\n",
    "else:\n",
    "    inventory[new_item]=quantity\n",
    "\n",
    "print(inventory[new_item])\n"
   ]
  },
  {
   "cell_type": "code",
   "execution_count": 34,
   "metadata": {},
   "outputs": [
    {
     "data": {
      "text/plain": [
       "{'almonds': 2, 'cucumbers': 4, 'grapes': 4, 'olives': 5, 'tomatoes': 5}"
      ]
     },
     "execution_count": 34,
     "metadata": {},
     "output_type": "execute_result"
    }
   ],
   "source": [
    "inventory"
   ]
  },
  {
   "cell_type": "code",
   "execution_count": null,
   "metadata": {
    "collapsed": true
   },
   "outputs": [],
   "source": [
    "class guestbook:\n",
    "    def __init__(self):\n",
    "        pass\n",
    "    def add_person(self):\n",
    "        pass\n",
    "    def remove_person(self):\n",
    "        pass\n",
    "    "
   ]
  }
 ],
 "metadata": {
  "kernelspec": {
   "display_name": "Python 3",
   "language": "python",
   "name": "python3"
  },
  "language_info": {
   "codemirror_mode": {
    "name": "ipython",
    "version": 3
   },
   "file_extension": ".py",
   "mimetype": "text/x-python",
   "name": "python",
   "nbconvert_exporter": "python",
   "pygments_lexer": "ipython3",
   "version": "3.6.1"
  }
 },
 "nbformat": 4,
 "nbformat_minor": 2
}
